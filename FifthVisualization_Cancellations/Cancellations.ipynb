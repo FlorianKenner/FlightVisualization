version https://git-lfs.github.com/spec/v1
oid sha256:73e33bc34bbd4a107ef0fff446da1685b9cb31a0d22566e3a1e15bd137331136
size 47961
