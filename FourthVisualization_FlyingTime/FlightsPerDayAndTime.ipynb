{
 "cells": [
  {
   "cell_type": "code",
   "execution_count": 12,
   "metadata": {},
   "outputs": [],
   "source": [
    "import pandas as pd\n",
    "import numpy as np\n",
    "import plotly.graph_objects as go\n"
   ]
  },
  {
   "cell_type": "code",
   "execution_count": 13,
   "metadata": {},
   "outputs": [
    {
     "name": "stderr",
     "output_type": "stream",
     "text": [
      "C:\\Users\\Florian\\AppData\\Local\\Programs\\Python\\Python310\\lib\\site-packages\\IPython\\core\\interactiveshell.py:3369: DtypeWarning:\n",
      "\n",
      "Columns (7,8) have mixed types.Specify dtype option on import or set low_memory=False.\n",
      "\n"
     ]
    },
    {
     "data": {
      "text/html": [
       "<div>\n",
       "<style scoped>\n",
       "    .dataframe tbody tr th:only-of-type {\n",
       "        vertical-align: middle;\n",
       "    }\n",
       "\n",
       "    .dataframe tbody tr th {\n",
       "        vertical-align: top;\n",
       "    }\n",
       "\n",
       "    .dataframe thead th {\n",
       "        text-align: right;\n",
       "    }\n",
       "</style>\n",
       "<table border=\"1\" class=\"dataframe\">\n",
       "  <thead>\n",
       "    <tr style=\"text-align: right;\">\n",
       "      <th></th>\n",
       "      <th>Unnamed: 0</th>\n",
       "      <th>FULL_DATE</th>\n",
       "      <th>YEAR</th>\n",
       "      <th>MONTH</th>\n",
       "      <th>DAY</th>\n",
       "      <th>DAY_OF_WEEK</th>\n",
       "      <th>AIRLINE</th>\n",
       "      <th>ORIGIN_AIRPORT</th>\n",
       "      <th>DESTINATION_AIRPORT</th>\n",
       "      <th>SCHEDULED_DEPARTURE</th>\n",
       "      <th>DEPARTURE_TIME</th>\n",
       "      <th>DEPARTURE_DELAY</th>\n",
       "      <th>SCHEDULED_TIME</th>\n",
       "      <th>ELAPSED_TIME</th>\n",
       "      <th>AIR_TIME</th>\n",
       "      <th>DISTANCE</th>\n",
       "      <th>SCHEDULED_ARRIVAL</th>\n",
       "      <th>ARRIVAL_TIME</th>\n",
       "      <th>ARRIVAL_DELAY</th>\n",
       "      <th>CANCELLED</th>\n",
       "    </tr>\n",
       "  </thead>\n",
       "  <tbody>\n",
       "    <tr>\n",
       "      <th>0</th>\n",
       "      <td>0</td>\n",
       "      <td>2015-01-01</td>\n",
       "      <td>2015</td>\n",
       "      <td>1</td>\n",
       "      <td>1</td>\n",
       "      <td>THURSDAY</td>\n",
       "      <td>AS</td>\n",
       "      <td>ANC</td>\n",
       "      <td>SEA</td>\n",
       "      <td>00:05</td>\n",
       "      <td>23:54.0</td>\n",
       "      <td>-11.0</td>\n",
       "      <td>205.0</td>\n",
       "      <td>194.0</td>\n",
       "      <td>169.0</td>\n",
       "      <td>1448</td>\n",
       "      <td>430</td>\n",
       "      <td>408.0</td>\n",
       "      <td>-22.0</td>\n",
       "      <td>0</td>\n",
       "    </tr>\n",
       "    <tr>\n",
       "      <th>1</th>\n",
       "      <td>1</td>\n",
       "      <td>2015-01-01</td>\n",
       "      <td>2015</td>\n",
       "      <td>1</td>\n",
       "      <td>1</td>\n",
       "      <td>THURSDAY</td>\n",
       "      <td>AA</td>\n",
       "      <td>LAX</td>\n",
       "      <td>PBI</td>\n",
       "      <td>00:10</td>\n",
       "      <td>00:02.0</td>\n",
       "      <td>-8.0</td>\n",
       "      <td>280.0</td>\n",
       "      <td>279.0</td>\n",
       "      <td>263.0</td>\n",
       "      <td>2330</td>\n",
       "      <td>750</td>\n",
       "      <td>741.0</td>\n",
       "      <td>-9.0</td>\n",
       "      <td>0</td>\n",
       "    </tr>\n",
       "    <tr>\n",
       "      <th>2</th>\n",
       "      <td>2</td>\n",
       "      <td>2015-01-01</td>\n",
       "      <td>2015</td>\n",
       "      <td>1</td>\n",
       "      <td>1</td>\n",
       "      <td>THURSDAY</td>\n",
       "      <td>US</td>\n",
       "      <td>SFO</td>\n",
       "      <td>CLT</td>\n",
       "      <td>00:20</td>\n",
       "      <td>00:18.0</td>\n",
       "      <td>-2.0</td>\n",
       "      <td>286.0</td>\n",
       "      <td>293.0</td>\n",
       "      <td>266.0</td>\n",
       "      <td>2296</td>\n",
       "      <td>806</td>\n",
       "      <td>811.0</td>\n",
       "      <td>5.0</td>\n",
       "      <td>0</td>\n",
       "    </tr>\n",
       "    <tr>\n",
       "      <th>3</th>\n",
       "      <td>3</td>\n",
       "      <td>2015-01-01</td>\n",
       "      <td>2015</td>\n",
       "      <td>1</td>\n",
       "      <td>1</td>\n",
       "      <td>THURSDAY</td>\n",
       "      <td>AA</td>\n",
       "      <td>LAX</td>\n",
       "      <td>MIA</td>\n",
       "      <td>00:20</td>\n",
       "      <td>00:15.0</td>\n",
       "      <td>-5.0</td>\n",
       "      <td>285.0</td>\n",
       "      <td>281.0</td>\n",
       "      <td>258.0</td>\n",
       "      <td>2342</td>\n",
       "      <td>805</td>\n",
       "      <td>756.0</td>\n",
       "      <td>-9.0</td>\n",
       "      <td>0</td>\n",
       "    </tr>\n",
       "    <tr>\n",
       "      <th>4</th>\n",
       "      <td>4</td>\n",
       "      <td>2015-01-01</td>\n",
       "      <td>2015</td>\n",
       "      <td>1</td>\n",
       "      <td>1</td>\n",
       "      <td>THURSDAY</td>\n",
       "      <td>AS</td>\n",
       "      <td>SEA</td>\n",
       "      <td>ANC</td>\n",
       "      <td>00:25</td>\n",
       "      <td>00:24.0</td>\n",
       "      <td>-1.0</td>\n",
       "      <td>235.0</td>\n",
       "      <td>215.0</td>\n",
       "      <td>199.0</td>\n",
       "      <td>1448</td>\n",
       "      <td>320</td>\n",
       "      <td>259.0</td>\n",
       "      <td>-21.0</td>\n",
       "      <td>0</td>\n",
       "    </tr>\n",
       "  </tbody>\n",
       "</table>\n",
       "</div>"
      ],
      "text/plain": [
       "   Unnamed: 0   FULL_DATE  YEAR  MONTH  DAY DAY_OF_WEEK AIRLINE  \\\n",
       "0           0  2015-01-01  2015      1    1    THURSDAY      AS   \n",
       "1           1  2015-01-01  2015      1    1    THURSDAY      AA   \n",
       "2           2  2015-01-01  2015      1    1    THURSDAY      US   \n",
       "3           3  2015-01-01  2015      1    1    THURSDAY      AA   \n",
       "4           4  2015-01-01  2015      1    1    THURSDAY      AS   \n",
       "\n",
       "  ORIGIN_AIRPORT DESTINATION_AIRPORT SCHEDULED_DEPARTURE DEPARTURE_TIME  \\\n",
       "0            ANC                 SEA               00:05        23:54.0   \n",
       "1            LAX                 PBI               00:10        00:02.0   \n",
       "2            SFO                 CLT               00:20        00:18.0   \n",
       "3            LAX                 MIA               00:20        00:15.0   \n",
       "4            SEA                 ANC               00:25        00:24.0   \n",
       "\n",
       "   DEPARTURE_DELAY  SCHEDULED_TIME  ELAPSED_TIME  AIR_TIME  DISTANCE  \\\n",
       "0            -11.0           205.0         194.0     169.0      1448   \n",
       "1             -8.0           280.0         279.0     263.0      2330   \n",
       "2             -2.0           286.0         293.0     266.0      2296   \n",
       "3             -5.0           285.0         281.0     258.0      2342   \n",
       "4             -1.0           235.0         215.0     199.0      1448   \n",
       "\n",
       "   SCHEDULED_ARRIVAL  ARRIVAL_TIME  ARRIVAL_DELAY  CANCELLED  \n",
       "0                430         408.0          -22.0          0  \n",
       "1                750         741.0           -9.0          0  \n",
       "2                806         811.0            5.0          0  \n",
       "3                805         756.0           -9.0          0  \n",
       "4                320         259.0          -21.0          0  "
      ]
     },
     "execution_count": 13,
     "metadata": {},
     "output_type": "execute_result"
    }
   ],
   "source": [
    "# loading the dataframes\n",
    "\n",
    "df = pd.read_csv(\"../data/CleanedFlights.csv\")\n",
    "pd.set_option(\"display.max_columns\", None)\n",
    "df = df[df[\"CANCELLED\"] == 0]\n",
    "df.head()"
   ]
  },
  {
   "cell_type": "code",
   "execution_count": 14,
   "metadata": {},
   "outputs": [
    {
     "data": {
      "text/html": [
       "<div>\n",
       "<style scoped>\n",
       "    .dataframe tbody tr th:only-of-type {\n",
       "        vertical-align: middle;\n",
       "    }\n",
       "\n",
       "    .dataframe tbody tr th {\n",
       "        vertical-align: top;\n",
       "    }\n",
       "\n",
       "    .dataframe thead th {\n",
       "        text-align: right;\n",
       "    }\n",
       "</style>\n",
       "<table border=\"1\" class=\"dataframe\">\n",
       "  <thead>\n",
       "    <tr style=\"text-align: right;\">\n",
       "      <th></th>\n",
       "      <th>Unnamed: 0</th>\n",
       "      <th>FULL_DATE</th>\n",
       "      <th>YEAR</th>\n",
       "      <th>MONTH</th>\n",
       "      <th>DAY</th>\n",
       "      <th>DAY_OF_WEEK</th>\n",
       "      <th>AIRLINE</th>\n",
       "      <th>ORIGIN_AIRPORT</th>\n",
       "      <th>DESTINATION_AIRPORT</th>\n",
       "      <th>SCHEDULED_DEPARTURE</th>\n",
       "      <th>DEPARTURE_TIME</th>\n",
       "      <th>DEPARTURE_DELAY</th>\n",
       "      <th>SCHEDULED_TIME</th>\n",
       "      <th>ELAPSED_TIME</th>\n",
       "      <th>AIR_TIME</th>\n",
       "      <th>DISTANCE</th>\n",
       "      <th>SCHEDULED_ARRIVAL</th>\n",
       "      <th>ARRIVAL_TIME</th>\n",
       "      <th>ARRIVAL_DELAY</th>\n",
       "      <th>CANCELLED</th>\n",
       "    </tr>\n",
       "  </thead>\n",
       "  <tbody>\n",
       "    <tr>\n",
       "      <th>0</th>\n",
       "      <td>0</td>\n",
       "      <td>2015-01-01</td>\n",
       "      <td>2015</td>\n",
       "      <td>1</td>\n",
       "      <td>1</td>\n",
       "      <td>THURSDAY</td>\n",
       "      <td>AS</td>\n",
       "      <td>ANC</td>\n",
       "      <td>SEA</td>\n",
       "      <td>0</td>\n",
       "      <td>23:54.0</td>\n",
       "      <td>-11.0</td>\n",
       "      <td>205.0</td>\n",
       "      <td>194.0</td>\n",
       "      <td>169.0</td>\n",
       "      <td>1448</td>\n",
       "      <td>430</td>\n",
       "      <td>408.0</td>\n",
       "      <td>-22.0</td>\n",
       "      <td>0</td>\n",
       "    </tr>\n",
       "    <tr>\n",
       "      <th>1</th>\n",
       "      <td>1</td>\n",
       "      <td>2015-01-01</td>\n",
       "      <td>2015</td>\n",
       "      <td>1</td>\n",
       "      <td>1</td>\n",
       "      <td>THURSDAY</td>\n",
       "      <td>AA</td>\n",
       "      <td>LAX</td>\n",
       "      <td>PBI</td>\n",
       "      <td>0</td>\n",
       "      <td>00:02.0</td>\n",
       "      <td>-8.0</td>\n",
       "      <td>280.0</td>\n",
       "      <td>279.0</td>\n",
       "      <td>263.0</td>\n",
       "      <td>2330</td>\n",
       "      <td>750</td>\n",
       "      <td>741.0</td>\n",
       "      <td>-9.0</td>\n",
       "      <td>0</td>\n",
       "    </tr>\n",
       "    <tr>\n",
       "      <th>2</th>\n",
       "      <td>2</td>\n",
       "      <td>2015-01-01</td>\n",
       "      <td>2015</td>\n",
       "      <td>1</td>\n",
       "      <td>1</td>\n",
       "      <td>THURSDAY</td>\n",
       "      <td>US</td>\n",
       "      <td>SFO</td>\n",
       "      <td>CLT</td>\n",
       "      <td>0</td>\n",
       "      <td>00:18.0</td>\n",
       "      <td>-2.0</td>\n",
       "      <td>286.0</td>\n",
       "      <td>293.0</td>\n",
       "      <td>266.0</td>\n",
       "      <td>2296</td>\n",
       "      <td>806</td>\n",
       "      <td>811.0</td>\n",
       "      <td>5.0</td>\n",
       "      <td>0</td>\n",
       "    </tr>\n",
       "    <tr>\n",
       "      <th>3</th>\n",
       "      <td>3</td>\n",
       "      <td>2015-01-01</td>\n",
       "      <td>2015</td>\n",
       "      <td>1</td>\n",
       "      <td>1</td>\n",
       "      <td>THURSDAY</td>\n",
       "      <td>AA</td>\n",
       "      <td>LAX</td>\n",
       "      <td>MIA</td>\n",
       "      <td>0</td>\n",
       "      <td>00:15.0</td>\n",
       "      <td>-5.0</td>\n",
       "      <td>285.0</td>\n",
       "      <td>281.0</td>\n",
       "      <td>258.0</td>\n",
       "      <td>2342</td>\n",
       "      <td>805</td>\n",
       "      <td>756.0</td>\n",
       "      <td>-9.0</td>\n",
       "      <td>0</td>\n",
       "    </tr>\n",
       "    <tr>\n",
       "      <th>4</th>\n",
       "      <td>4</td>\n",
       "      <td>2015-01-01</td>\n",
       "      <td>2015</td>\n",
       "      <td>1</td>\n",
       "      <td>1</td>\n",
       "      <td>THURSDAY</td>\n",
       "      <td>AS</td>\n",
       "      <td>SEA</td>\n",
       "      <td>ANC</td>\n",
       "      <td>0</td>\n",
       "      <td>00:24.0</td>\n",
       "      <td>-1.0</td>\n",
       "      <td>235.0</td>\n",
       "      <td>215.0</td>\n",
       "      <td>199.0</td>\n",
       "      <td>1448</td>\n",
       "      <td>320</td>\n",
       "      <td>259.0</td>\n",
       "      <td>-21.0</td>\n",
       "      <td>0</td>\n",
       "    </tr>\n",
       "  </tbody>\n",
       "</table>\n",
       "</div>"
      ],
      "text/plain": [
       "   Unnamed: 0   FULL_DATE  YEAR  MONTH  DAY DAY_OF_WEEK AIRLINE  \\\n",
       "0           0  2015-01-01  2015      1    1    THURSDAY      AS   \n",
       "1           1  2015-01-01  2015      1    1    THURSDAY      AA   \n",
       "2           2  2015-01-01  2015      1    1    THURSDAY      US   \n",
       "3           3  2015-01-01  2015      1    1    THURSDAY      AA   \n",
       "4           4  2015-01-01  2015      1    1    THURSDAY      AS   \n",
       "\n",
       "  ORIGIN_AIRPORT DESTINATION_AIRPORT  SCHEDULED_DEPARTURE DEPARTURE_TIME  \\\n",
       "0            ANC                 SEA                    0        23:54.0   \n",
       "1            LAX                 PBI                    0        00:02.0   \n",
       "2            SFO                 CLT                    0        00:18.0   \n",
       "3            LAX                 MIA                    0        00:15.0   \n",
       "4            SEA                 ANC                    0        00:24.0   \n",
       "\n",
       "   DEPARTURE_DELAY  SCHEDULED_TIME  ELAPSED_TIME  AIR_TIME  DISTANCE  \\\n",
       "0            -11.0           205.0         194.0     169.0      1448   \n",
       "1             -8.0           280.0         279.0     263.0      2330   \n",
       "2             -2.0           286.0         293.0     266.0      2296   \n",
       "3             -5.0           285.0         281.0     258.0      2342   \n",
       "4             -1.0           235.0         215.0     199.0      1448   \n",
       "\n",
       "   SCHEDULED_ARRIVAL  ARRIVAL_TIME  ARRIVAL_DELAY  CANCELLED  \n",
       "0                430         408.0          -22.0          0  \n",
       "1                750         741.0           -9.0          0  \n",
       "2                806         811.0            5.0          0  \n",
       "3                805         756.0           -9.0          0  \n",
       "4                320         259.0          -21.0          0  "
      ]
     },
     "execution_count": 14,
     "metadata": {},
     "output_type": "execute_result"
    }
   ],
   "source": [
    "# dropping the minutes from scheduled departure\n",
    "\n",
    "df[\"SCHEDULED_DEPARTURE\"] = df[\"SCHEDULED_DEPARTURE\"].astype(\"string\")\n",
    "df[\"SCHEDULED_DEPARTURE\"] = df[\"SCHEDULED_DEPARTURE\"].str[:2]\n",
    "df[\"SCHEDULED_DEPARTURE\"] = df[\"SCHEDULED_DEPARTURE\"].astype(\"int\")\n",
    "df.head()"
   ]
  },
  {
   "cell_type": "code",
   "execution_count": 15,
   "metadata": {},
   "outputs": [],
   "source": [
    "mondayFlights = df[df[\"DAY_OF_WEEK\"] == \"MONDAY\"].groupby([\"SCHEDULED_DEPARTURE\"]).count()\n",
    "tuesdayFlights = df[df[\"DAY_OF_WEEK\"] == \"TUESDAY\"].groupby([\"SCHEDULED_DEPARTURE\"]).count()\n",
    "wednesdayFlights = df[df[\"DAY_OF_WEEK\"] == \"WEDNESDAY\"].groupby([\"SCHEDULED_DEPARTURE\"]).count()\n",
    "thursdayFlights = df[df[\"DAY_OF_WEEK\"] == \"THURSDAY\"].groupby([\"SCHEDULED_DEPARTURE\"]).count()\n",
    "fridayFlights = df[df[\"DAY_OF_WEEK\"] == \"FRIDAY\"].groupby([\"SCHEDULED_DEPARTURE\"]).count()\n",
    "saturdayFlights = df[df[\"DAY_OF_WEEK\"] == \"SATURDAY\"].groupby([\"SCHEDULED_DEPARTURE\"]).count()\n",
    "sundayFlights = df[df[\"DAY_OF_WEEK\"] == \"SUNDAY\"].groupby([\"SCHEDULED_DEPARTURE\"]).count()"
   ]
  },
  {
   "cell_type": "code",
   "execution_count": 22,
   "metadata": {},
   "outputs": [
    {
     "data": {
      "application/vnd.plotly.v1+json": {
       "config": {
        "plotlyServerURL": "https://plot.ly"
       },
       "data": [
        {
         "hovertemplate": "%{x} 'o clock <br>%{y} Flights",
         "name": "Monday",
         "type": "scatter",
         "x": [
          0,
          1,
          2,
          3,
          4,
          5,
          6,
          7,
          8,
          9,
          10,
          11,
          12,
          13,
          14,
          15,
          16,
          17,
          18,
          19,
          20,
          21,
          22,
          23
         ],
         "y": [
          45.05769230769231,
          14.442307692307692,
          4.076923076923077,
          2.5576923076923075,
          1.5769230769230769,
          353.71153846153845,
          1163.8076923076924,
          1113.7692307692307,
          1053.2692307692307,
          973.7884615384615,
          1034.173076923077,
          990.1538461538462,
          976.4615384615385,
          1005.3269230769231,
          911.3269230769231,
          1017.0384615384615,
          926.1730769230769,
          1091.9615384615386,
          930.2307692307693,
          930.1730769230769,
          722.9230769230769,
          528.1153846153846,
          330.65384615384613,
          119.03846153846153
         ]
        },
        {
         "hovertemplate": "%{x} 'o clock <br>%{y} Flights",
         "name": "Tuesday",
         "type": "scatter",
         "x": [
          0,
          1,
          2,
          3,
          4,
          5,
          6,
          7,
          8,
          9,
          10,
          11,
          12,
          13,
          14,
          15,
          16,
          17,
          18,
          19,
          20,
          21,
          22,
          23
         ],
         "y": [
          37.28846153846154,
          13.423076923076923,
          3.923076923076923,
          2.076923076923077,
          1.1346153846153846,
          348.9230769230769,
          1141.3653846153845,
          1096.1153846153845,
          1041.2307692307693,
          958.6923076923077,
          1008.9615384615385,
          967.0384615384615,
          967.5576923076923,
          992.4615384615385,
          905.9230769230769,
          1006.3653846153846,
          915.5769230769231,
          1074.5961538461538,
          917.6730769230769,
          909.9230769230769,
          704.25,
          516.4423076923077,
          313.59615384615387,
          107.92307692307692
         ]
        },
        {
         "hovertemplate": "%{x} 'o clock <br>%{y} Flights",
         "name": "Wednesday",
         "type": "scatter",
         "x": [
          0,
          1,
          2,
          3,
          4,
          5,
          6,
          7,
          8,
          9,
          10,
          11,
          12,
          13,
          14,
          15,
          16,
          17,
          18,
          19,
          20,
          21,
          22,
          23
         ],
         "y": [
          36.61538461538461,
          13.134615384615385,
          2.9038461538461537,
          1.6730769230769231,
          1.4230769230769231,
          355.78846153846155,
          1155.3846153846155,
          1109.4423076923076,
          1052.75,
          976.8269230769231,
          1029.1923076923076,
          988.0576923076923,
          979.9807692307693,
          1002.7884615384615,
          913.25,
          1020.2307692307693,
          930.2115384615385,
          1096.0961538461538,
          942.9038461538462,
          935.5576923076923,
          724.6153846153846,
          531.1923076923077,
          336.13461538461536,
          117.07692307692308
         ]
        },
        {
         "hovertemplate": "%{x} 'o clock <br>%{y} Flights",
         "name": "Thursday",
         "type": "scatter",
         "x": [
          0,
          1,
          2,
          3,
          4,
          5,
          6,
          7,
          8,
          9,
          10,
          11,
          12,
          13,
          14,
          15,
          16,
          17,
          18,
          19,
          20,
          21,
          22,
          23
         ],
         "y": [
          40.0377358490566,
          13.735849056603774,
          3.8679245283018866,
          1.9622641509433962,
          1.2264150943396226,
          351.3207547169811,
          1156.132075471698,
          1111.1698113207547,
          1058.9245283018868,
          980.9056603773585,
          1035.1698113207547,
          994.9433962264151,
          978.3584905660377,
          1007.4716981132076,
          909.7735849056604,
          1013.6603773584906,
          921.622641509434,
          1085.7169811320755,
          928.0943396226415,
          927.4150943396227,
          720.7358490566038,
          527.7169811320755,
          333.9433962264151,
          126.84905660377359
         ]
        },
        {
         "hovertemplate": "%{x} 'o clock <br>%{y} Flights",
         "name": "Friday",
         "type": "scatter",
         "x": [
          0,
          1,
          2,
          3,
          4,
          5,
          6,
          7,
          8,
          9,
          10,
          11,
          12,
          13,
          14,
          15,
          16,
          17,
          18,
          19,
          20,
          21,
          22,
          23
         ],
         "y": [
          42.42307692307692,
          14.51923076923077,
          3.8653846153846154,
          1.8846153846153846,
          1.4615384615384615,
          347.53846153846155,
          1163.673076923077,
          1118.5576923076924,
          1065.4807692307693,
          982.1346153846154,
          1038.6923076923076,
          1000.8076923076923,
          987.1538461538462,
          1017.3269230769231,
          917.3461538461538,
          1026.8846153846155,
          937.7884615384615,
          1103.9807692307693,
          942.3653846153846,
          950.0192307692307,
          737,
          540.9230769230769,
          340.03846153846155,
          129.75
         ]
        },
        {
         "hovertemplate": "%{x} 'o clock <br>%{y} Flights",
         "name": "Saturday",
         "type": "scatter",
         "x": [
          0,
          1,
          2,
          3,
          4,
          5,
          6,
          7,
          8,
          9,
          10,
          11,
          12,
          13,
          14,
          15,
          16,
          17,
          18,
          19,
          20,
          21,
          22,
          23
         ],
         "y": [
          40.76923076923077,
          14.634615384615385,
          4.134615384615385,
          2.519230769230769,
          1.6730769230769231,
          237.73076923076923,
          991.4230769230769,
          967.8076923076923,
          956.6923076923077,
          860.3076923076923,
          894.6153846153846,
          869.2884615384615,
          878.5384615384615,
          862.4038461538462,
          779.8653846153846,
          866.6730769230769,
          750.1730769230769,
          832.0576923076923,
          688.1730769230769,
          649.9230769230769,
          511.21153846153845,
          332.25,
          207.59615384615384,
          103.3076923076923
         ]
        },
        {
         "hovertemplate": "%{x} 'o clock <br>%{y} Flights",
         "name": "Sunday",
         "type": "scatter",
         "x": [
          0,
          1,
          2,
          3,
          4,
          5,
          6,
          7,
          8,
          9,
          10,
          11,
          12,
          13,
          14,
          15,
          16,
          17,
          18,
          19,
          20,
          21,
          22,
          23
         ],
         "y": [
          36.63461538461539,
          14.01923076923077,
          3.8076923076923075,
          2.0384615384615383,
          1.6346153846153846,
          228.69230769230768,
          890.9423076923077,
          936.8461538461538,
          976.0769230769231,
          922.7884615384615,
          994.9038461538462,
          969.6923076923077,
          960.0576923076923,
          992.2115384615385,
          892.5192307692307,
          1000.7115384615385,
          918.3269230769231,
          1071.173076923077,
          938.1730769230769,
          933.1730769230769,
          753.4615384615385,
          547.5576923076923,
          353.09615384615387,
          134.51923076923077
         ]
        }
       ],
       "layout": {
        "template": {
         "data": {
          "bar": [
           {
            "error_x": {
             "color": "#2a3f5f"
            },
            "error_y": {
             "color": "#2a3f5f"
            },
            "marker": {
             "line": {
              "color": "#E5ECF6",
              "width": 0.5
             },
             "pattern": {
              "fillmode": "overlay",
              "size": 10,
              "solidity": 0.2
             }
            },
            "type": "bar"
           }
          ],
          "barpolar": [
           {
            "marker": {
             "line": {
              "color": "#E5ECF6",
              "width": 0.5
             },
             "pattern": {
              "fillmode": "overlay",
              "size": 10,
              "solidity": 0.2
             }
            },
            "type": "barpolar"
           }
          ],
          "carpet": [
           {
            "aaxis": {
             "endlinecolor": "#2a3f5f",
             "gridcolor": "white",
             "linecolor": "white",
             "minorgridcolor": "white",
             "startlinecolor": "#2a3f5f"
            },
            "baxis": {
             "endlinecolor": "#2a3f5f",
             "gridcolor": "white",
             "linecolor": "white",
             "minorgridcolor": "white",
             "startlinecolor": "#2a3f5f"
            },
            "type": "carpet"
           }
          ],
          "choropleth": [
           {
            "colorbar": {
             "outlinewidth": 0,
             "ticks": ""
            },
            "type": "choropleth"
           }
          ],
          "contour": [
           {
            "colorbar": {
             "outlinewidth": 0,
             "ticks": ""
            },
            "colorscale": [
             [
              0,
              "#0d0887"
             ],
             [
              0.1111111111111111,
              "#46039f"
             ],
             [
              0.2222222222222222,
              "#7201a8"
             ],
             [
              0.3333333333333333,
              "#9c179e"
             ],
             [
              0.4444444444444444,
              "#bd3786"
             ],
             [
              0.5555555555555556,
              "#d8576b"
             ],
             [
              0.6666666666666666,
              "#ed7953"
             ],
             [
              0.7777777777777778,
              "#fb9f3a"
             ],
             [
              0.8888888888888888,
              "#fdca26"
             ],
             [
              1,
              "#f0f921"
             ]
            ],
            "type": "contour"
           }
          ],
          "contourcarpet": [
           {
            "colorbar": {
             "outlinewidth": 0,
             "ticks": ""
            },
            "type": "contourcarpet"
           }
          ],
          "heatmap": [
           {
            "colorbar": {
             "outlinewidth": 0,
             "ticks": ""
            },
            "colorscale": [
             [
              0,
              "#0d0887"
             ],
             [
              0.1111111111111111,
              "#46039f"
             ],
             [
              0.2222222222222222,
              "#7201a8"
             ],
             [
              0.3333333333333333,
              "#9c179e"
             ],
             [
              0.4444444444444444,
              "#bd3786"
             ],
             [
              0.5555555555555556,
              "#d8576b"
             ],
             [
              0.6666666666666666,
              "#ed7953"
             ],
             [
              0.7777777777777778,
              "#fb9f3a"
             ],
             [
              0.8888888888888888,
              "#fdca26"
             ],
             [
              1,
              "#f0f921"
             ]
            ],
            "type": "heatmap"
           }
          ],
          "heatmapgl": [
           {
            "colorbar": {
             "outlinewidth": 0,
             "ticks": ""
            },
            "colorscale": [
             [
              0,
              "#0d0887"
             ],
             [
              0.1111111111111111,
              "#46039f"
             ],
             [
              0.2222222222222222,
              "#7201a8"
             ],
             [
              0.3333333333333333,
              "#9c179e"
             ],
             [
              0.4444444444444444,
              "#bd3786"
             ],
             [
              0.5555555555555556,
              "#d8576b"
             ],
             [
              0.6666666666666666,
              "#ed7953"
             ],
             [
              0.7777777777777778,
              "#fb9f3a"
             ],
             [
              0.8888888888888888,
              "#fdca26"
             ],
             [
              1,
              "#f0f921"
             ]
            ],
            "type": "heatmapgl"
           }
          ],
          "histogram": [
           {
            "marker": {
             "pattern": {
              "fillmode": "overlay",
              "size": 10,
              "solidity": 0.2
             }
            },
            "type": "histogram"
           }
          ],
          "histogram2d": [
           {
            "colorbar": {
             "outlinewidth": 0,
             "ticks": ""
            },
            "colorscale": [
             [
              0,
              "#0d0887"
             ],
             [
              0.1111111111111111,
              "#46039f"
             ],
             [
              0.2222222222222222,
              "#7201a8"
             ],
             [
              0.3333333333333333,
              "#9c179e"
             ],
             [
              0.4444444444444444,
              "#bd3786"
             ],
             [
              0.5555555555555556,
              "#d8576b"
             ],
             [
              0.6666666666666666,
              "#ed7953"
             ],
             [
              0.7777777777777778,
              "#fb9f3a"
             ],
             [
              0.8888888888888888,
              "#fdca26"
             ],
             [
              1,
              "#f0f921"
             ]
            ],
            "type": "histogram2d"
           }
          ],
          "histogram2dcontour": [
           {
            "colorbar": {
             "outlinewidth": 0,
             "ticks": ""
            },
            "colorscale": [
             [
              0,
              "#0d0887"
             ],
             [
              0.1111111111111111,
              "#46039f"
             ],
             [
              0.2222222222222222,
              "#7201a8"
             ],
             [
              0.3333333333333333,
              "#9c179e"
             ],
             [
              0.4444444444444444,
              "#bd3786"
             ],
             [
              0.5555555555555556,
              "#d8576b"
             ],
             [
              0.6666666666666666,
              "#ed7953"
             ],
             [
              0.7777777777777778,
              "#fb9f3a"
             ],
             [
              0.8888888888888888,
              "#fdca26"
             ],
             [
              1,
              "#f0f921"
             ]
            ],
            "type": "histogram2dcontour"
           }
          ],
          "mesh3d": [
           {
            "colorbar": {
             "outlinewidth": 0,
             "ticks": ""
            },
            "type": "mesh3d"
           }
          ],
          "parcoords": [
           {
            "line": {
             "colorbar": {
              "outlinewidth": 0,
              "ticks": ""
             }
            },
            "type": "parcoords"
           }
          ],
          "pie": [
           {
            "automargin": true,
            "type": "pie"
           }
          ],
          "scatter": [
           {
            "fillpattern": {
             "fillmode": "overlay",
             "size": 10,
             "solidity": 0.2
            },
            "type": "scatter"
           }
          ],
          "scatter3d": [
           {
            "line": {
             "colorbar": {
              "outlinewidth": 0,
              "ticks": ""
             }
            },
            "marker": {
             "colorbar": {
              "outlinewidth": 0,
              "ticks": ""
             }
            },
            "type": "scatter3d"
           }
          ],
          "scattercarpet": [
           {
            "marker": {
             "colorbar": {
              "outlinewidth": 0,
              "ticks": ""
             }
            },
            "type": "scattercarpet"
           }
          ],
          "scattergeo": [
           {
            "marker": {
             "colorbar": {
              "outlinewidth": 0,
              "ticks": ""
             }
            },
            "type": "scattergeo"
           }
          ],
          "scattergl": [
           {
            "marker": {
             "colorbar": {
              "outlinewidth": 0,
              "ticks": ""
             }
            },
            "type": "scattergl"
           }
          ],
          "scattermapbox": [
           {
            "marker": {
             "colorbar": {
              "outlinewidth": 0,
              "ticks": ""
             }
            },
            "type": "scattermapbox"
           }
          ],
          "scatterpolar": [
           {
            "marker": {
             "colorbar": {
              "outlinewidth": 0,
              "ticks": ""
             }
            },
            "type": "scatterpolar"
           }
          ],
          "scatterpolargl": [
           {
            "marker": {
             "colorbar": {
              "outlinewidth": 0,
              "ticks": ""
             }
            },
            "type": "scatterpolargl"
           }
          ],
          "scatterternary": [
           {
            "marker": {
             "colorbar": {
              "outlinewidth": 0,
              "ticks": ""
             }
            },
            "type": "scatterternary"
           }
          ],
          "surface": [
           {
            "colorbar": {
             "outlinewidth": 0,
             "ticks": ""
            },
            "colorscale": [
             [
              0,
              "#0d0887"
             ],
             [
              0.1111111111111111,
              "#46039f"
             ],
             [
              0.2222222222222222,
              "#7201a8"
             ],
             [
              0.3333333333333333,
              "#9c179e"
             ],
             [
              0.4444444444444444,
              "#bd3786"
             ],
             [
              0.5555555555555556,
              "#d8576b"
             ],
             [
              0.6666666666666666,
              "#ed7953"
             ],
             [
              0.7777777777777778,
              "#fb9f3a"
             ],
             [
              0.8888888888888888,
              "#fdca26"
             ],
             [
              1,
              "#f0f921"
             ]
            ],
            "type": "surface"
           }
          ],
          "table": [
           {
            "cells": {
             "fill": {
              "color": "#EBF0F8"
             },
             "line": {
              "color": "white"
             }
            },
            "header": {
             "fill": {
              "color": "#C8D4E3"
             },
             "line": {
              "color": "white"
             }
            },
            "type": "table"
           }
          ]
         },
         "layout": {
          "annotationdefaults": {
           "arrowcolor": "#2a3f5f",
           "arrowhead": 0,
           "arrowwidth": 1
          },
          "autotypenumbers": "strict",
          "coloraxis": {
           "colorbar": {
            "outlinewidth": 0,
            "ticks": ""
           }
          },
          "colorscale": {
           "diverging": [
            [
             0,
             "#8e0152"
            ],
            [
             0.1,
             "#c51b7d"
            ],
            [
             0.2,
             "#de77ae"
            ],
            [
             0.3,
             "#f1b6da"
            ],
            [
             0.4,
             "#fde0ef"
            ],
            [
             0.5,
             "#f7f7f7"
            ],
            [
             0.6,
             "#e6f5d0"
            ],
            [
             0.7,
             "#b8e186"
            ],
            [
             0.8,
             "#7fbc41"
            ],
            [
             0.9,
             "#4d9221"
            ],
            [
             1,
             "#276419"
            ]
           ],
           "sequential": [
            [
             0,
             "#0d0887"
            ],
            [
             0.1111111111111111,
             "#46039f"
            ],
            [
             0.2222222222222222,
             "#7201a8"
            ],
            [
             0.3333333333333333,
             "#9c179e"
            ],
            [
             0.4444444444444444,
             "#bd3786"
            ],
            [
             0.5555555555555556,
             "#d8576b"
            ],
            [
             0.6666666666666666,
             "#ed7953"
            ],
            [
             0.7777777777777778,
             "#fb9f3a"
            ],
            [
             0.8888888888888888,
             "#fdca26"
            ],
            [
             1,
             "#f0f921"
            ]
           ],
           "sequentialminus": [
            [
             0,
             "#0d0887"
            ],
            [
             0.1111111111111111,
             "#46039f"
            ],
            [
             0.2222222222222222,
             "#7201a8"
            ],
            [
             0.3333333333333333,
             "#9c179e"
            ],
            [
             0.4444444444444444,
             "#bd3786"
            ],
            [
             0.5555555555555556,
             "#d8576b"
            ],
            [
             0.6666666666666666,
             "#ed7953"
            ],
            [
             0.7777777777777778,
             "#fb9f3a"
            ],
            [
             0.8888888888888888,
             "#fdca26"
            ],
            [
             1,
             "#f0f921"
            ]
           ]
          },
          "colorway": [
           "#636efa",
           "#EF553B",
           "#00cc96",
           "#ab63fa",
           "#FFA15A",
           "#19d3f3",
           "#FF6692",
           "#B6E880",
           "#FF97FF",
           "#FECB52"
          ],
          "font": {
           "color": "#2a3f5f"
          },
          "geo": {
           "bgcolor": "white",
           "lakecolor": "white",
           "landcolor": "#E5ECF6",
           "showlakes": true,
           "showland": true,
           "subunitcolor": "white"
          },
          "hoverlabel": {
           "align": "left"
          },
          "hovermode": "closest",
          "mapbox": {
           "style": "light"
          },
          "paper_bgcolor": "white",
          "plot_bgcolor": "#E5ECF6",
          "polar": {
           "angularaxis": {
            "gridcolor": "white",
            "linecolor": "white",
            "ticks": ""
           },
           "bgcolor": "#E5ECF6",
           "radialaxis": {
            "gridcolor": "white",
            "linecolor": "white",
            "ticks": ""
           }
          },
          "scene": {
           "xaxis": {
            "backgroundcolor": "#E5ECF6",
            "gridcolor": "white",
            "gridwidth": 2,
            "linecolor": "white",
            "showbackground": true,
            "ticks": "",
            "zerolinecolor": "white"
           },
           "yaxis": {
            "backgroundcolor": "#E5ECF6",
            "gridcolor": "white",
            "gridwidth": 2,
            "linecolor": "white",
            "showbackground": true,
            "ticks": "",
            "zerolinecolor": "white"
           },
           "zaxis": {
            "backgroundcolor": "#E5ECF6",
            "gridcolor": "white",
            "gridwidth": 2,
            "linecolor": "white",
            "showbackground": true,
            "ticks": "",
            "zerolinecolor": "white"
           }
          },
          "shapedefaults": {
           "line": {
            "color": "#2a3f5f"
           }
          },
          "ternary": {
           "aaxis": {
            "gridcolor": "white",
            "linecolor": "white",
            "ticks": ""
           },
           "baxis": {
            "gridcolor": "white",
            "linecolor": "white",
            "ticks": ""
           },
           "bgcolor": "#E5ECF6",
           "caxis": {
            "gridcolor": "white",
            "linecolor": "white",
            "ticks": ""
           }
          },
          "title": {
           "x": 0.05
          },
          "xaxis": {
           "automargin": true,
           "gridcolor": "white",
           "linecolor": "white",
           "ticks": "",
           "title": {
            "standoff": 15
           },
           "zerolinecolor": "white",
           "zerolinewidth": 2
          },
          "yaxis": {
           "automargin": true,
           "gridcolor": "white",
           "linecolor": "white",
           "ticks": "",
           "title": {
            "standoff": 15
           },
           "zerolinecolor": "white",
           "zerolinewidth": 2
          }
         }
        }
       }
      }
     },
     "metadata": {},
     "output_type": "display_data"
    }
   ],
   "source": [
    "fig = go.Figure()\n",
    "\n",
    "mondayTrace = go.Line(x = mondayFlights.index, y = mondayFlights.YEAR / 52, name = \"Monday\",\n",
    "                        hovertemplate = \"%{x} 'o clock <br>%{y} Flights\")\n",
    "tuesdayTrace = go.Line(x = tuesdayFlights.index, y = tuesdayFlights.YEAR / 52, name = \"Tuesday\",\n",
    "                        hovertemplate = \"%{x} 'o clock <br>%{y} Flights\")\n",
    "wednesdayTrace = go.Line(x = wednesdayFlights.index, y = wednesdayFlights.YEAR / 52, name = \"Wednesday\",\n",
    "                        hovertemplate = \"%{x} 'o clock <br>%{y} Flights\")\n",
    "thursdayTrace = go.Line(x = thursdayFlights.index, y = thursdayFlights.YEAR / 53, name = \"Thursday\",\n",
    "                        hovertemplate = \"%{x} 'o clock <br>%{y} Flights\")\n",
    "fridayTrace = go.Line(x = fridayFlights.index, y = fridayFlights.YEAR / 52, name = \"Friday\",\n",
    "                        hovertemplate = \"%{x} 'o clock <br>%{y} Flights\")\n",
    "saturdayTrace = go.Line(x = saturdayFlights.index, y = saturdayFlights.YEAR / 52, name = \"Saturday\",\n",
    "                        hovertemplate = \"%{x} 'o clock <br>%{y} Flights\")\n",
    "sundayTrace = go.Line(x = sundayFlights.index, y = sundayFlights.YEAR / 52, name = \"Sunday\",\n",
    "                        hovertemplate = \"%{x} 'o clock <br>%{y} Flights\")\n",
    "fig.add_trace(mondayTrace)\n",
    "fig.add_trace(tuesdayTrace)\n",
    "fig.add_trace(wednesdayTrace)\n",
    "fig.add_trace(thursdayTrace)\n",
    "fig.add_trace(fridayTrace)\n",
    "fig.add_trace(saturdayTrace)\n",
    "fig.add_trace(sundayTrace)\n",
    "\n",
    "fig.show()"
   ]
  }
 ],
 "metadata": {
  "interpreter": {
   "hash": "639f3994b8dceab5a82e554cc239ea7aabbfb8dc398744298402812ca933fc08"
  },
  "kernelspec": {
   "display_name": "Python 3.10.4 64-bit",
   "language": "python",
   "name": "python3"
  },
  "language_info": {
   "codemirror_mode": {
    "name": "ipython",
    "version": 3
   },
   "file_extension": ".py",
   "mimetype": "text/x-python",
   "name": "python",
   "nbconvert_exporter": "python",
   "pygments_lexer": "ipython3",
   "version": "3.10.4"
  },
  "orig_nbformat": 4
 },
 "nbformat": 4,
 "nbformat_minor": 2
}
