{
 "cells": [
  {
   "cell_type": "code",
   "execution_count": 1,
   "metadata": {},
   "outputs": [],
   "source": [
    "import pandas as pd\n",
    "import numpy as np\n",
    "import plotly.graph_objects as go\n"
   ]
  },
  {
   "cell_type": "code",
   "execution_count": 2,
   "metadata": {},
   "outputs": [],
   "source": [
    "# loading the dataframes\n",
    "\n",
    "df = pd.read_csv(\"../data/CleanedFlights.csv\")\n",
    "pd.set_option(\"display.max_columns\", None)\n",
    "df.head()"
   ]
  },
  {
   "cell_type": "code",
   "execution_count": null,
   "metadata": {},
   "outputs": [],
   "source": [
    "df[\"AIR_TIME\"] = df[\"AIR_TIME\"].astype(\"string\")\n",
    "# df[\"AIR_TIME\"] = df[\"AIR_TIME\"].astype(\"int\")\n",
    "dropL = []\n",
    "for i, row in df.iterrows():\n",
    "    if pd.isnull(row.AIR_TIME):\n",
    "        dropL.append(i)\n",
    "    else:\n",
    "        row.AIR_TIME = row.AIR_TIME[:len(row.AIR_TIME) -2]\n",
    "        row.AIR_TIME = int(row.AIR_TIME)\n",
    "        df.iloc[i].AIR_TIME = round(row.AIR_TIME/10) * 10\n",
    "        print(row.AIR_TIME)\n",
    "    \n",
    "\n",
    "df.drop(df.index[dropL])\n",
    "df = df.groupby([\"AIR_TIME\"]).count()\n",
    "df = df.sort_values([\"AIR_TIME\"])\n",
    "df.head()\n"
   ]
  },
  {
   "cell_type": "code",
   "execution_count": null,
   "metadata": {},
   "outputs": [
    {
     "ename": "TypeError",
     "evalue": "type Float64Index doesn't define __round__ method",
     "output_type": "error",
     "traceback": [
      "\u001b[1;31m---------------------------------------------------------------------------\u001b[0m",
      "\u001b[1;31mTypeError\u001b[0m                                 Traceback (most recent call last)",
      "\u001b[1;32mc:\\sources\\FlightVisualization\\FourthVisualization_FlyingTime\\FlyingTime.ipynb Cell 4'\u001b[0m in \u001b[0;36m<cell line: 2>\u001b[1;34m()\u001b[0m\n\u001b[0;32m      <a href='vscode-notebook-cell:/c%3A/sources/FlightVisualization/FourthVisualization_FlyingTime/FlyingTime.ipynb#ch0000003?line=0'>1</a>\u001b[0m fig \u001b[39m=\u001b[39m go\u001b[39m.\u001b[39mFigure()\n\u001b[1;32m----> <a href='vscode-notebook-cell:/c%3A/sources/FlightVisualization/FourthVisualization_FlyingTime/FlyingTime.ipynb#ch0000003?line=1'>2</a>\u001b[0m airTime \u001b[39m=\u001b[39m go\u001b[39m.\u001b[39mLine(x \u001b[39m=\u001b[39m \u001b[39mround\u001b[39;49m((df\u001b[39m.\u001b[39;49mindex \u001b[39m/\u001b[39;49m \u001b[39m5\u001b[39;49m) \u001b[39m*\u001b[39;49m \u001b[39m5\u001b[39;49m), y \u001b[39m=\u001b[39m df\u001b[39m.\u001b[39mYEAR)\n\u001b[0;32m      <a href='vscode-notebook-cell:/c%3A/sources/FlightVisualization/FourthVisualization_FlyingTime/FlyingTime.ipynb#ch0000003?line=2'>3</a>\u001b[0m fig\u001b[39m.\u001b[39madd_trace(airTime)\n\u001b[0;32m      <a href='vscode-notebook-cell:/c%3A/sources/FlightVisualization/FourthVisualization_FlyingTime/FlyingTime.ipynb#ch0000003?line=3'>4</a>\u001b[0m fig\u001b[39m.\u001b[39mshow()\n",
      "\u001b[1;31mTypeError\u001b[0m: type Float64Index doesn't define __round__ method"
     ]
    }
   ],
   "source": [
    "fig = go.Figure()\n",
    "airTime = go.Line(x = round((df.index / 5) * 5), y = df.YEAR)\n",
    "fig.add_trace(airTime)\n",
    "fig.show()"
   ]
  },
  {
   "cell_type": "code",
   "execution_count": null,
   "metadata": {},
   "outputs": [
    {
     "name": "stdout",
     "output_type": "stream",
     "text": [
      "130\n"
     ]
    }
   ],
   "source": [
    "print(round(133/10) *10)"
   ]
  }
 ],
 "metadata": {
  "interpreter": {
   "hash": "639f3994b8dceab5a82e554cc239ea7aabbfb8dc398744298402812ca933fc08"
  },
  "kernelspec": {
   "display_name": "Python 3.10.4 64-bit",
   "language": "python",
   "name": "python3"
  },
  "language_info": {
   "codemirror_mode": {
    "name": "ipython",
    "version": 3
   },
   "file_extension": ".py",
   "mimetype": "text/x-python",
   "name": "python",
   "nbconvert_exporter": "python",
   "pygments_lexer": "ipython3",
   "version": "3.10.0"
  },
  "orig_nbformat": 4
 },
 "nbformat": 4,
 "nbformat_minor": 2
}
