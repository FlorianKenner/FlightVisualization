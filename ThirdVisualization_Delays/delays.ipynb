{
 "cells": [
  {
   "cell_type": "code",
   "execution_count": 2,
   "metadata": {},
   "outputs": [],
   "source": [
    "import pandas as pd\n",
    "import plotly.graph_objects as go\n",
    "import numpy as np\n"
   ]
  },
  {
   "cell_type": "code",
   "execution_count": 3,
   "metadata": {},
   "outputs": [
    {
     "name": "stderr",
     "output_type": "stream",
     "text": [
      "C:\\Users\\Florian\\AppData\\Local\\Programs\\Python\\Python310\\lib\\site-packages\\IPython\\core\\interactiveshell.py:3369: DtypeWarning: Columns (7,8) have mixed types.Specify dtype option on import or set low_memory=False.\n",
      "  exec(code_obj, self.user_global_ns, self.user_ns)\n"
     ]
    },
    {
     "data": {
      "text/html": [
       "<div>\n",
       "<style scoped>\n",
       "    .dataframe tbody tr th:only-of-type {\n",
       "        vertical-align: middle;\n",
       "    }\n",
       "\n",
       "    .dataframe tbody tr th {\n",
       "        vertical-align: top;\n",
       "    }\n",
       "\n",
       "    .dataframe thead th {\n",
       "        text-align: right;\n",
       "    }\n",
       "</style>\n",
       "<table border=\"1\" class=\"dataframe\">\n",
       "  <thead>\n",
       "    <tr style=\"text-align: right;\">\n",
       "      <th></th>\n",
       "      <th>Unnamed: 0</th>\n",
       "      <th>FULL_DATE</th>\n",
       "      <th>YEAR</th>\n",
       "      <th>MONTH</th>\n",
       "      <th>DAY</th>\n",
       "      <th>DAY_OF_WEEK</th>\n",
       "      <th>AIRLINE</th>\n",
       "      <th>ORIGIN_AIRPORT</th>\n",
       "      <th>DESTINATION_AIRPORT</th>\n",
       "      <th>SCHEDULED_DEPARTURE</th>\n",
       "      <th>DEPARTURE_TIME</th>\n",
       "      <th>DEPARTURE_DELAY</th>\n",
       "      <th>SCHEDULED_TIME</th>\n",
       "      <th>ELAPSED_TIME</th>\n",
       "      <th>AIR_TIME</th>\n",
       "      <th>DISTANCE</th>\n",
       "      <th>SCHEDULED_ARRIVAL</th>\n",
       "      <th>ARRIVAL_TIME</th>\n",
       "      <th>ARRIVAL_DELAY</th>\n",
       "      <th>CANCELLED</th>\n",
       "    </tr>\n",
       "  </thead>\n",
       "  <tbody>\n",
       "    <tr>\n",
       "      <th>0</th>\n",
       "      <td>0</td>\n",
       "      <td>2015-01-01</td>\n",
       "      <td>2015</td>\n",
       "      <td>1</td>\n",
       "      <td>1</td>\n",
       "      <td>Thursday</td>\n",
       "      <td>AS</td>\n",
       "      <td>ANC</td>\n",
       "      <td>SEA</td>\n",
       "      <td>00:05</td>\n",
       "      <td>23:54.0</td>\n",
       "      <td>-11.0</td>\n",
       "      <td>205.0</td>\n",
       "      <td>194.0</td>\n",
       "      <td>169.0</td>\n",
       "      <td>1448</td>\n",
       "      <td>430</td>\n",
       "      <td>408.0</td>\n",
       "      <td>-22.0</td>\n",
       "      <td>0</td>\n",
       "    </tr>\n",
       "    <tr>\n",
       "      <th>1</th>\n",
       "      <td>1</td>\n",
       "      <td>2015-01-01</td>\n",
       "      <td>2015</td>\n",
       "      <td>1</td>\n",
       "      <td>1</td>\n",
       "      <td>Thursday</td>\n",
       "      <td>AA</td>\n",
       "      <td>LAX</td>\n",
       "      <td>PBI</td>\n",
       "      <td>00:10</td>\n",
       "      <td>00:02.0</td>\n",
       "      <td>-8.0</td>\n",
       "      <td>280.0</td>\n",
       "      <td>279.0</td>\n",
       "      <td>263.0</td>\n",
       "      <td>2330</td>\n",
       "      <td>750</td>\n",
       "      <td>741.0</td>\n",
       "      <td>-9.0</td>\n",
       "      <td>0</td>\n",
       "    </tr>\n",
       "    <tr>\n",
       "      <th>2</th>\n",
       "      <td>2</td>\n",
       "      <td>2015-01-01</td>\n",
       "      <td>2015</td>\n",
       "      <td>1</td>\n",
       "      <td>1</td>\n",
       "      <td>Thursday</td>\n",
       "      <td>US</td>\n",
       "      <td>SFO</td>\n",
       "      <td>CLT</td>\n",
       "      <td>00:20</td>\n",
       "      <td>00:18.0</td>\n",
       "      <td>-2.0</td>\n",
       "      <td>286.0</td>\n",
       "      <td>293.0</td>\n",
       "      <td>266.0</td>\n",
       "      <td>2296</td>\n",
       "      <td>806</td>\n",
       "      <td>811.0</td>\n",
       "      <td>5.0</td>\n",
       "      <td>0</td>\n",
       "    </tr>\n",
       "    <tr>\n",
       "      <th>3</th>\n",
       "      <td>3</td>\n",
       "      <td>2015-01-01</td>\n",
       "      <td>2015</td>\n",
       "      <td>1</td>\n",
       "      <td>1</td>\n",
       "      <td>Thursday</td>\n",
       "      <td>AA</td>\n",
       "      <td>LAX</td>\n",
       "      <td>MIA</td>\n",
       "      <td>00:20</td>\n",
       "      <td>00:15.0</td>\n",
       "      <td>-5.0</td>\n",
       "      <td>285.0</td>\n",
       "      <td>281.0</td>\n",
       "      <td>258.0</td>\n",
       "      <td>2342</td>\n",
       "      <td>805</td>\n",
       "      <td>756.0</td>\n",
       "      <td>-9.0</td>\n",
       "      <td>0</td>\n",
       "    </tr>\n",
       "    <tr>\n",
       "      <th>4</th>\n",
       "      <td>4</td>\n",
       "      <td>2015-01-01</td>\n",
       "      <td>2015</td>\n",
       "      <td>1</td>\n",
       "      <td>1</td>\n",
       "      <td>Thursday</td>\n",
       "      <td>AS</td>\n",
       "      <td>SEA</td>\n",
       "      <td>ANC</td>\n",
       "      <td>00:25</td>\n",
       "      <td>00:24.0</td>\n",
       "      <td>-1.0</td>\n",
       "      <td>235.0</td>\n",
       "      <td>215.0</td>\n",
       "      <td>199.0</td>\n",
       "      <td>1448</td>\n",
       "      <td>320</td>\n",
       "      <td>259.0</td>\n",
       "      <td>-21.0</td>\n",
       "      <td>0</td>\n",
       "    </tr>\n",
       "  </tbody>\n",
       "</table>\n",
       "</div>"
      ],
      "text/plain": [
       "   Unnamed: 0   FULL_DATE  YEAR  MONTH  DAY DAY_OF_WEEK AIRLINE  \\\n",
       "0           0  2015-01-01  2015      1    1    Thursday      AS   \n",
       "1           1  2015-01-01  2015      1    1    Thursday      AA   \n",
       "2           2  2015-01-01  2015      1    1    Thursday      US   \n",
       "3           3  2015-01-01  2015      1    1    Thursday      AA   \n",
       "4           4  2015-01-01  2015      1    1    Thursday      AS   \n",
       "\n",
       "  ORIGIN_AIRPORT DESTINATION_AIRPORT SCHEDULED_DEPARTURE DEPARTURE_TIME  \\\n",
       "0            ANC                 SEA               00:05        23:54.0   \n",
       "1            LAX                 PBI               00:10        00:02.0   \n",
       "2            SFO                 CLT               00:20        00:18.0   \n",
       "3            LAX                 MIA               00:20        00:15.0   \n",
       "4            SEA                 ANC               00:25        00:24.0   \n",
       "\n",
       "   DEPARTURE_DELAY  SCHEDULED_TIME  ELAPSED_TIME  AIR_TIME  DISTANCE  \\\n",
       "0            -11.0           205.0         194.0     169.0      1448   \n",
       "1             -8.0           280.0         279.0     263.0      2330   \n",
       "2             -2.0           286.0         293.0     266.0      2296   \n",
       "3             -5.0           285.0         281.0     258.0      2342   \n",
       "4             -1.0           235.0         215.0     199.0      1448   \n",
       "\n",
       "   SCHEDULED_ARRIVAL  ARRIVAL_TIME  ARRIVAL_DELAY  CANCELLED  \n",
       "0                430         408.0          -22.0          0  \n",
       "1                750         741.0           -9.0          0  \n",
       "2                806         811.0            5.0          0  \n",
       "3                805         756.0           -9.0          0  \n",
       "4                320         259.0          -21.0          0  "
      ]
     },
     "execution_count": 3,
     "metadata": {},
     "output_type": "execute_result"
    }
   ],
   "source": [
    "df = pd.read_csv(\"../data/CleanedFlights.csv\")\n",
    "\n",
    "dfAirports = pd.read_csv(\"../data/Airports.csv\")\n",
    "pd.set_option(\"display.max_columns\", None)\n",
    "\n",
    "dfAirlines = pd.read_csv(\"../data/airlines.csv\")\n",
    "# creating dictionaries from the IATA_CODE to the Airport, Latitude and Longiture\n",
    "\n",
    "AirportDict = pd.Series(dfAirports.AIRPORT.values, index = dfAirports.IATA_CODE).to_dict()\n",
    "AirLineDict = pd.Series(dfAirlines.AIRLINE.values, index = dfAirlines.IATA_CODE).to_dict()\n",
    "LatitudeDict = pd.Series(dfAirports.LATITUDE.values, index = dfAirports.IATA_CODE).to_dict()\n",
    "LongitudeDict = pd.Series(dfAirports.LONGITUDE.values, index = dfAirports.IATA_CODE).to_dict()\n",
    "\n",
    "df.head()"
   ]
  },
  {
   "cell_type": "code",
   "execution_count": 4,
   "metadata": {},
   "outputs": [
    {
     "data": {
      "text/html": [
       "<div>\n",
       "<style scoped>\n",
       "    .dataframe tbody tr th:only-of-type {\n",
       "        vertical-align: middle;\n",
       "    }\n",
       "\n",
       "    .dataframe tbody tr th {\n",
       "        vertical-align: top;\n",
       "    }\n",
       "\n",
       "    .dataframe thead th {\n",
       "        text-align: right;\n",
       "    }\n",
       "</style>\n",
       "<table border=\"1\" class=\"dataframe\">\n",
       "  <thead>\n",
       "    <tr style=\"text-align: right;\">\n",
       "      <th></th>\n",
       "      <th>AIRPORT</th>\n",
       "      <th>ORIGIN_AIRPORT</th>\n",
       "      <th>TOTAL_FLIGHTS</th>\n",
       "      <th>AVERAGE_ARRIVAL_DELAY</th>\n",
       "    </tr>\n",
       "  </thead>\n",
       "  <tbody>\n",
       "    <tr>\n",
       "      <th>19</th>\n",
       "      <td>NaN</td>\n",
       "      <td>10397</td>\n",
       "      <td>30824</td>\n",
       "      <td>-4.129073</td>\n",
       "    </tr>\n",
       "    <tr>\n",
       "      <th>273</th>\n",
       "      <td>NaN</td>\n",
       "      <td>14869</td>\n",
       "      <td>8275</td>\n",
       "      <td>-3.532170</td>\n",
       "    </tr>\n",
       "    <tr>\n",
       "      <th>204</th>\n",
       "      <td>NaN</td>\n",
       "      <td>13487</td>\n",
       "      <td>10027</td>\n",
       "      <td>-3.161481</td>\n",
       "    </tr>\n",
       "    <tr>\n",
       "      <th>184</th>\n",
       "      <td>NaN</td>\n",
       "      <td>13232</td>\n",
       "      <td>7180</td>\n",
       "      <td>-2.848130</td>\n",
       "    </tr>\n",
       "    <tr>\n",
       "      <th>216</th>\n",
       "      <td>NaN</td>\n",
       "      <td>13930</td>\n",
       "      <td>26117</td>\n",
       "      <td>-2.522307</td>\n",
       "    </tr>\n",
       "  </tbody>\n",
       "</table>\n",
       "</div>"
      ],
      "text/plain": [
       "    AIRPORT ORIGIN_AIRPORT  TOTAL_FLIGHTS  AVERAGE_ARRIVAL_DELAY\n",
       "19      NaN          10397          30824              -4.129073\n",
       "273     NaN          14869           8275              -3.532170\n",
       "204     NaN          13487          10027              -3.161481\n",
       "184     NaN          13232           7180              -2.848130\n",
       "216     NaN          13930          26117              -2.522307"
      ]
     },
     "execution_count": 4,
     "metadata": {},
     "output_type": "execute_result"
    }
   ],
   "source": [
    "#  df for delay by airport and total flights from this airport\n",
    "\n",
    "count = pd.DataFrame(df.groupby([\"ORIGIN_AIRPORT\"]).count()[\"YEAR\"])\n",
    "df2 = df.groupby([\"ORIGIN_AIRPORT\"]).mean()\n",
    "preparedDfForDelayByAirport = pd.DataFrame({\n",
    "    \"TOTAL_FLIGHTS\" : count[\"YEAR\"], \n",
    "    \"AVERAGE_ARRIVAL_DELAY\": df2.ARRIVAL_DELAY })\n",
    "preparedDfForDelayByAirport = preparedDfForDelayByAirport.reset_index(drop= False)\n",
    "preparedDfForDelayByAirport = preparedDfForDelayByAirport.sort_values(by = \"AVERAGE_ARRIVAL_DELAY\")\n",
    "preparedDfForDelayByAirport = preparedDfForDelayByAirport[preparedDfForDelayByAirport[\"TOTAL_FLIGHTS\"] > 5000]\n",
    "preparedDfForDelayByAirport.insert(column = \"AIRPORT\", loc = 0, value = preparedDfForDelayByAirport.ORIGIN_AIRPORT.map(AirportDict))\n",
    "preparedDfForDelayByAirport.drop(columns = [\"ORIGIN_AIRPORT\"])\n",
    "preparedDfForDelayByAirport.head()"
   ]
  },
  {
   "cell_type": "code",
   "execution_count": 5,
   "metadata": {},
   "outputs": [
    {
     "name": "stderr",
     "output_type": "stream",
     "text": [
      "C:\\Users\\Florian\\AppData\\Local\\Programs\\Python\\Python310\\lib\\site-packages\\IPython\\core\\interactiveshell.py:3369: DtypeWarning: Columns (7,8) have mixed types.Specify dtype option on import or set low_memory=False.\n",
      "  exec(code_obj, self.user_global_ns, self.user_ns)\n"
     ]
    },
    {
     "data": {
      "text/html": [
       "<div>\n",
       "<style scoped>\n",
       "    .dataframe tbody tr th:only-of-type {\n",
       "        vertical-align: middle;\n",
       "    }\n",
       "\n",
       "    .dataframe tbody tr th {\n",
       "        vertical-align: top;\n",
       "    }\n",
       "\n",
       "    .dataframe thead th {\n",
       "        text-align: right;\n",
       "    }\n",
       "</style>\n",
       "<table border=\"1\" class=\"dataframe\">\n",
       "  <thead>\n",
       "    <tr style=\"text-align: right;\">\n",
       "      <th></th>\n",
       "      <th>AIRLINE</th>\n",
       "      <th>TOTAL_FLIGHTS</th>\n",
       "      <th>AVERAGE_ARRIVAL_DELAY</th>\n",
       "    </tr>\n",
       "  </thead>\n",
       "  <tbody>\n",
       "    <tr>\n",
       "      <th>0</th>\n",
       "      <td>American Airlines Inc.</td>\n",
       "      <td>725984</td>\n",
       "      <td>3.451372</td>\n",
       "    </tr>\n",
       "    <tr>\n",
       "      <th>1</th>\n",
       "      <td>Alaska Airlines Inc.</td>\n",
       "      <td>172521</td>\n",
       "      <td>-0.976563</td>\n",
       "    </tr>\n",
       "    <tr>\n",
       "      <th>2</th>\n",
       "      <td>JetBlue Airways</td>\n",
       "      <td>267048</td>\n",
       "      <td>6.677861</td>\n",
       "    </tr>\n",
       "    <tr>\n",
       "      <th>3</th>\n",
       "      <td>Delta Air Lines Inc.</td>\n",
       "      <td>875881</td>\n",
       "      <td>0.186754</td>\n",
       "    </tr>\n",
       "    <tr>\n",
       "      <th>4</th>\n",
       "      <td>Atlantic Southeast Airlines</td>\n",
       "      <td>571977</td>\n",
       "      <td>6.585379</td>\n",
       "    </tr>\n",
       "  </tbody>\n",
       "</table>\n",
       "</div>"
      ],
      "text/plain": [
       "                       AIRLINE  TOTAL_FLIGHTS  AVERAGE_ARRIVAL_DELAY\n",
       "0       American Airlines Inc.         725984               3.451372\n",
       "1         Alaska Airlines Inc.         172521              -0.976563\n",
       "2              JetBlue Airways         267048               6.677861\n",
       "3         Delta Air Lines Inc.         875881               0.186754\n",
       "4  Atlantic Southeast Airlines         571977               6.585379"
      ]
     },
     "execution_count": 5,
     "metadata": {},
     "output_type": "execute_result"
    }
   ],
   "source": [
    "# df for delay by airline\n",
    "df = pd.read_csv(\"../data/CleanedFlights.csv\")\n",
    "\n",
    "count = pd.DataFrame(df.groupby([\"AIRLINE\"]).count()[\"YEAR\"])\n",
    "df = df.groupby([\"AIRLINE\"]).mean()\n",
    "dfDelayByAirline = pd.DataFrame({\n",
    "    \"TOTAL_FLIGHTS\" : count[\"YEAR\"], \n",
    "    \"AVERAGE_ARRIVAL_DELAY\": df.ARRIVAL_DELAY }) \n",
    "dfDelayByAirline = dfDelayByAirline.reset_index()\n",
    "dfDelayByAirline[\"AIRLINE\"] = dfDelayByAirline.AIRLINE.map(AirLineDict)\n",
    "\n",
    "dfDelayByAirline.head()"
   ]
  },
  {
   "cell_type": "code",
   "execution_count": 8,
   "metadata": {},
   "outputs": [
    {
     "name": "stderr",
     "output_type": "stream",
     "text": [
      "C:\\Users\\Florian\\AppData\\Local\\Programs\\Python\\Python310\\lib\\site-packages\\IPython\\core\\interactiveshell.py:3369: DtypeWarning:\n",
      "\n",
      "Columns (7,8) have mixed types.Specify dtype option on import or set low_memory=False.\n",
      "\n"
     ]
    },
    {
     "data": {
      "text/html": [
       "<div>\n",
       "<style scoped>\n",
       "    .dataframe tbody tr th:only-of-type {\n",
       "        vertical-align: middle;\n",
       "    }\n",
       "\n",
       "    .dataframe tbody tr th {\n",
       "        vertical-align: top;\n",
       "    }\n",
       "\n",
       "    .dataframe thead th {\n",
       "        text-align: right;\n",
       "    }\n",
       "</style>\n",
       "<table border=\"1\" class=\"dataframe\">\n",
       "  <thead>\n",
       "    <tr style=\"text-align: right;\">\n",
       "      <th></th>\n",
       "      <th>DAY_OF_WEEK</th>\n",
       "      <th>TOTAL_FLIGHTS</th>\n",
       "      <th>AVERAGE_ARRIVAL_DELAY</th>\n",
       "    </tr>\n",
       "  </thead>\n",
       "  <tbody>\n",
       "    <tr>\n",
       "      <th>0</th>\n",
       "      <td>Friday</td>\n",
       "      <td>862209</td>\n",
       "      <td>4.764079</td>\n",
       "    </tr>\n",
       "    <tr>\n",
       "      <th>1</th>\n",
       "      <td>Monday</td>\n",
       "      <td>865543</td>\n",
       "      <td>6.002063</td>\n",
       "    </tr>\n",
       "    <tr>\n",
       "      <th>2</th>\n",
       "      <td>Saturday</td>\n",
       "      <td>700545</td>\n",
       "      <td>1.852892</td>\n",
       "    </tr>\n",
       "    <tr>\n",
       "      <th>3</th>\n",
       "      <td>Sunday</td>\n",
       "      <td>817764</td>\n",
       "      <td>3.958293</td>\n",
       "    </tr>\n",
       "    <tr>\n",
       "      <th>4</th>\n",
       "      <td>Thursday</td>\n",
       "      <td>872521</td>\n",
       "      <td>5.668334</td>\n",
       "    </tr>\n",
       "    <tr>\n",
       "      <th>5</th>\n",
       "      <td>Tuesday</td>\n",
       "      <td>844600</td>\n",
       "      <td>4.246041</td>\n",
       "    </tr>\n",
       "    <tr>\n",
       "      <th>6</th>\n",
       "      <td>Wednessday</td>\n",
       "      <td>855897</td>\n",
       "      <td>3.845468</td>\n",
       "    </tr>\n",
       "  </tbody>\n",
       "</table>\n",
       "</div>"
      ],
      "text/plain": [
       "  DAY_OF_WEEK  TOTAL_FLIGHTS  AVERAGE_ARRIVAL_DELAY\n",
       "0      Friday         862209               4.764079\n",
       "1      Monday         865543               6.002063\n",
       "2    Saturday         700545               1.852892\n",
       "3      Sunday         817764               3.958293\n",
       "4    Thursday         872521               5.668334\n",
       "5     Tuesday         844600               4.246041\n",
       "6  Wednessday         855897               3.845468"
      ]
     },
     "execution_count": 8,
     "metadata": {},
     "output_type": "execute_result"
    }
   ],
   "source": [
    "# df for delay by weekday \n",
    "\n",
    "df = pd.read_csv(\"../data/CleanedFlights.csv\")\n",
    "\n",
    "count = pd.DataFrame(df.groupby([\"DAY_OF_WEEK\"]).count()[\"YEAR\"])\n",
    "df = df.groupby([\"DAY_OF_WEEK\"]).mean()\n",
    "dfDelayByWeekday = pd.DataFrame({\n",
    "    \"TOTAL_FLIGHTS\" : count[\"YEAR\"], \n",
    "    \"AVERAGE_ARRIVAL_DELAY\": df.ARRIVAL_DELAY }) \n",
    "dfDelayByWeekday= dfDelayByWeekday.reset_index()\n",
    "\n",
    "dfDelayByWeekday.head(8)"
   ]
  },
  {
   "cell_type": "code",
   "execution_count": 10,
   "metadata": {},
   "outputs": [
    {
     "name": "stderr",
     "output_type": "stream",
     "text": [
      "C:\\Users\\Florian\\AppData\\Local\\Programs\\Python\\Python310\\lib\\site-packages\\IPython\\core\\interactiveshell.py:3369: DtypeWarning:\n",
      "\n",
      "Columns (7,8) have mixed types.Specify dtype option on import or set low_memory=False.\n",
      "\n"
     ]
    },
    {
     "data": {
      "text/html": [
       "<div>\n",
       "<style scoped>\n",
       "    .dataframe tbody tr th:only-of-type {\n",
       "        vertical-align: middle;\n",
       "    }\n",
       "\n",
       "    .dataframe tbody tr th {\n",
       "        vertical-align: top;\n",
       "    }\n",
       "\n",
       "    .dataframe thead th {\n",
       "        text-align: right;\n",
       "    }\n",
       "</style>\n",
       "<table border=\"1\" class=\"dataframe\">\n",
       "  <thead>\n",
       "    <tr style=\"text-align: right;\">\n",
       "      <th></th>\n",
       "      <th>MONTH</th>\n",
       "      <th>TOTAL_FLIGHTS</th>\n",
       "      <th>AVERAGE_ARRIVAL_DELAY</th>\n",
       "    </tr>\n",
       "  </thead>\n",
       "  <tbody>\n",
       "    <tr>\n",
       "      <th>0</th>\n",
       "      <td>1</td>\n",
       "      <td>469968</td>\n",
       "      <td>5.813583</td>\n",
       "    </tr>\n",
       "    <tr>\n",
       "      <th>1</th>\n",
       "      <td>2</td>\n",
       "      <td>429191</td>\n",
       "      <td>8.320500</td>\n",
       "    </tr>\n",
       "    <tr>\n",
       "      <th>2</th>\n",
       "      <td>3</td>\n",
       "      <td>504312</td>\n",
       "      <td>4.920673</td>\n",
       "    </tr>\n",
       "    <tr>\n",
       "      <th>3</th>\n",
       "      <td>4</td>\n",
       "      <td>485151</td>\n",
       "      <td>3.163190</td>\n",
       "    </tr>\n",
       "    <tr>\n",
       "      <th>4</th>\n",
       "      <td>5</td>\n",
       "      <td>496993</td>\n",
       "      <td>4.485019</td>\n",
       "    </tr>\n",
       "    <tr>\n",
       "      <th>5</th>\n",
       "      <td>6</td>\n",
       "      <td>503897</td>\n",
       "      <td>9.601590</td>\n",
       "    </tr>\n",
       "    <tr>\n",
       "      <th>6</th>\n",
       "      <td>7</td>\n",
       "      <td>520718</td>\n",
       "      <td>6.431775</td>\n",
       "    </tr>\n",
       "    <tr>\n",
       "      <th>7</th>\n",
       "      <td>8</td>\n",
       "      <td>510536</td>\n",
       "      <td>4.607372</td>\n",
       "    </tr>\n",
       "    <tr>\n",
       "      <th>8</th>\n",
       "      <td>9</td>\n",
       "      <td>464946</td>\n",
       "      <td>-0.772571</td>\n",
       "    </tr>\n",
       "    <tr>\n",
       "      <th>9</th>\n",
       "      <td>10</td>\n",
       "      <td>486165</td>\n",
       "      <td>-0.780390</td>\n",
       "    </tr>\n",
       "    <tr>\n",
       "      <th>10</th>\n",
       "      <td>11</td>\n",
       "      <td>467972</td>\n",
       "      <td>1.100784</td>\n",
       "    </tr>\n",
       "    <tr>\n",
       "      <th>11</th>\n",
       "      <td>12</td>\n",
       "      <td>479230</td>\n",
       "      <td>6.092903</td>\n",
       "    </tr>\n",
       "  </tbody>\n",
       "</table>\n",
       "</div>"
      ],
      "text/plain": [
       "    MONTH  TOTAL_FLIGHTS  AVERAGE_ARRIVAL_DELAY\n",
       "0       1         469968               5.813583\n",
       "1       2         429191               8.320500\n",
       "2       3         504312               4.920673\n",
       "3       4         485151               3.163190\n",
       "4       5         496993               4.485019\n",
       "5       6         503897               9.601590\n",
       "6       7         520718               6.431775\n",
       "7       8         510536               4.607372\n",
       "8       9         464946              -0.772571\n",
       "9      10         486165              -0.780390\n",
       "10     11         467972               1.100784\n",
       "11     12         479230               6.092903"
      ]
     },
     "execution_count": 10,
     "metadata": {},
     "output_type": "execute_result"
    }
   ],
   "source": [
    "# df for delay by month\n",
    "\n",
    "df = pd.read_csv(\"../data/CleanedFlights.csv\")\n",
    "\n",
    "count = pd.DataFrame(df.groupby([\"MONTH\"]).count()[\"YEAR\"])\n",
    "df = df.groupby([\"MONTH\"]).mean()\n",
    "dfDelayByMonth = pd.DataFrame({\n",
    "    \"TOTAL_FLIGHTS\" : count[\"YEAR\"], \n",
    "    \"AVERAGE_ARRIVAL_DELAY\": df.ARRIVAL_DELAY }) \n",
    "dfDelayByMonth= dfDelayByMonth.reset_index()\n",
    "\n",
    "dfDelayByMonth.head(12)"
   ]
  },
  {
   "cell_type": "code",
   "execution_count": 7,
   "metadata": {},
   "outputs": [
    {
     "data": {
      "application/vnd.plotly.v1+json": {
       "config": {
        "plotlyServerURL": "https://plot.ly"
       },
       "data": [
        {
         "customdata": [
          null,
          null,
          null,
          null,
          null,
          null,
          null,
          "Albany International Airport",
          null,
          null,
          null,
          null,
          null,
          "Pittsburgh International Airport",
          null,
          null,
          "Lihue Airport",
          null,
          "Ted Stevens Anchorage International Airport",
          null,
          null,
          "Manchester-Boston Regional Airport",
          "Kona International Airport at Keahole",
          null,
          null,
          null,
          "Akron-Canton Regional Airport",
          "Buffalo Niagara International Airport",
          "Hilo International Airport",
          "Theodore Francis Green State Airport",
          null,
          "Syracuse Hancock International Airport",
          "Salt Lake City International Airport",
          "Bradley International Airport",
          "Honolulu International Airport",
          "Greater Rochester International Airport",
          "Kahului Airport",
          null,
          "Portland International Airport",
          "John Wayne Airport (Orange County Airport)",
          null,
          null,
          "Gerald R. Ford International Airport",
          null,
          "Minneapolis-Saint Paul International Airport",
          null,
          "San Antonio International Airport",
          "Indianapolis International Airport",
          "Tucson International Airport",
          "Luis Muñoz Marín International Airport",
          "General Mitchell International Airport",
          "Blue Grass Airport",
          "Spokane International Airport",
          "Seattle-Tacoma International Airport",
          "Dane County Regional Airport",
          "Cleveland Hopkins International Airport",
          "Hartsfield-Jackson Atlanta International Airport",
          "Greenville-Spartanburg International Airport",
          "Ronald Reagan Washington National Airport",
          "Bob Hope Airport (Hollywood Burbank Airport)",
          "Louisville International Airport (Standiford Field)",
          "San Diego International Airport (Lindbergh Field)",
          "Pensacola International Airport (Pensacola Gulf Coast Regional Airport)",
          "Port Columbus International Airport",
          "Detroit Metropolitan Airport",
          "John F. Kennedy International Airport (New York International Airport)",
          "Fort Lauderdale-Hollywood International Airport",
          "Jacksonville International Airport",
          "Eppley Airfield",
          "Louis Armstrong New Orleans International Airport",
          "Charleston International Airport/Charleston AFB",
          "Southwest Florida International Airport",
          "Norfolk International Airport",
          "James M. Cox Dayton International Airport",
          "Long Beach Airport (Daugherty Field)",
          "Ontario International Airport",
          "Tulsa International Airport",
          "Kansas City International Airport",
          "Gen. Edward Lawrence Logan International Airport",
          "St. Louis International Airport at Lambert Field",
          "Philadelphia International Airport",
          "Phoenix Sky Harbor International Airport",
          "Hector International Airport",
          "Newark Liberty International Airport",
          "Jackson-Evers International Airport",
          "Memphis International Airport",
          "Birmingham-Shuttlesworth International Airport",
          "Nashville International Airport",
          "Raleigh-Durham International Airport",
          "Albuquerque International Sunport",
          null,
          "Santa Barbara Municipal Airport (Santa Barbara Airport)",
          "El Paso International Airport",
          "Austin-Bergstrom International Airport",
          "Tampa International Airport",
          "Will Rogers World Airport",
          "Norman Y. Mineta San José International Airport",
          "Washington Dulles International Airport",
          "Reno/Tahoe International Airport",
          "Sacramento International Airport",
          "LaGuardia Airport (Marine Air Terminal)",
          "Los Angeles International Airport",
          "Midland International Airport",
          "San Francisco International Airport",
          "Savannah/Hilton Head International Airport",
          "Richmond International Airport",
          "Charlotte Douglas International Airport",
          "Boise Airport (Boise Air Terminal)",
          "Cincinnati/Northern Kentucky International Airport",
          "Bill and Hillary Clinton National Airport (Adams Field)",
          "Palm Springs International Airport",
          "McCarran International Airport",
          "Chicago Midway International Airport",
          "Piedmont Triad International Airport",
          "Oakland International Airport",
          "Des Moines International Airport",
          "Dallas/Fort Worth International Airport",
          "Wichita Dwight D. Eisenhower National Airport (Wichita Mid-Continent Airport)",
          "Orlando International Airport",
          "Miami International Airport",
          "Mobile Regional Airport",
          "Denver International Airport",
          "Fort Wayne International Airport",
          "Baltimore-Washington International Airport",
          "George Bush Intercontinental Airport",
          "City of Colorado Springs Municipal Airport",
          "William P. Hobby Airport",
          "Lafayette Regional Airport",
          "Columbia Metropolitan Airport",
          "Palm Beach International Airport",
          "Dallas Love Field",
          "McGhee Tyson Airport",
          "Chicago O'Hare International Airport",
          "The Eastern Iowa Airport",
          "Fresno Yosemite International Airport",
          "Sioux Falls Regional Airport",
          "Springfield-Branson National Airport",
          "Westchester County Airport",
          "Shreveport Regional Airport",
          "Baton Rouge Metropolitan Airport",
          "Northwest Arkansas Regional Airport"
         ],
         "hovertemplate": "%{customdata} <br>Average delay: %{y} min <br>Flights in 2015: %{x}",
         "marker": {
          "color": "black",
          "opacity": 0.5,
          "size": 3.5
         },
         "mode": "markers",
         "name": "",
         "type": "scatter",
         "x": [
          30824,
          8275,
          10027,
          7180,
          26117,
          5739,
          8132,
          7459,
          9079,
          9766,
          7826,
          9607,
          17135,
          24118,
          9423,
          6442,
          10545,
          5854,
          16005,
          8468,
          12449,
          6292,
          11114,
          19840,
          5576,
          12194,
          6100,
          16824,
          5723,
          11058,
          16715,
          5608,
          97210,
          18799,
          43172,
          7448,
          20627,
          5454,
          47085,
          37187,
          7569,
          9030,
          10845,
          11941,
          112117,
          13353,
          29788,
          25558,
          15117,
          24656,
          29825,
          5979,
          9505,
          110899,
          9135,
          34589,
          346836,
          6542,
          73794,
          18889,
          10204,
          70207,
          6534,
          24187,
          108500,
          93811,
          73624,
          18038,
          16753,
          38804,
          11817,
          27350,
          9374,
          8676,
          8777,
          17978,
          13970,
          38665,
          107847,
          46963,
          66021,
          146815,
          5693,
          101772,
          7097,
          14770,
          12514,
          47580,
          31896,
          19192,
          5603,
          6017,
          11972,
          42067,
          63906,
          16144,
          38200,
          34305,
          13011,
          37212,
          99605,
          194673,
          7527,
          148008,
          7542,
          15355,
          100324,
          11655,
          20031,
          10422,
          8987,
          133181,
          80886,
          6737,
          42316,
          8385,
          239551,
          8096,
          110982,
          69341,
          5018,
          196055,
          5261,
          86079,
          146622,
          6881,
          52042,
          5149,
          5151,
          22573,
          59699,
          6963,
          285884,
          6832,
          7018,
          5331,
          6236,
          7443,
          6099,
          7166,
          9283
         ],
         "y": [
          -4.129073170731707,
          -3.5321701199563793,
          -3.1614807403701852,
          -2.8481295365717476,
          -2.522306688167089,
          -1.9304971988795518,
          -1.8832062023258722,
          -1.8672493854138215,
          -1.8661092530657748,
          -1.6961921379451914,
          -1.6226875642343268,
          -1.5699758884579096,
          -1.2749517063747586,
          -1.1953610207444336,
          -1.1069792221630261,
          -1.0610615312353218,
          -1.0093449032135025,
          -0.43036020583190393,
          -0.3822860032873941,
          -0.37344398340248963,
          -0.317792501616031,
          -0.26116107931316435,
          -0.24375678610206297,
          -0.2043292714278369,
          -0.1930835734870317,
          -0.08016114445449314,
          -0.06528289253431536,
          0.2952779800922554,
          0.34320252277505253,
          0.4002974807102352,
          0.4507398051245038,
          0.48356893702955756,
          0.7500854877985597,
          0.7580408163265306,
          0.7964653285521353,
          0.9294198895027624,
          1.0718855301069492,
          1.1385185185185185,
          1.2046518588195052,
          1.6555791653045657,
          1.7347209333156568,
          1.8155350594510502,
          1.9546532587041077,
          1.959949622166247,
          1.9675926342803116,
          2.172260686333534,
          2.1752170212765956,
          2.2605397636537847,
          2.4423669749363355,
          2.519693430058609,
          2.5723296311531607,
          2.7444827586206895,
          2.794385593220339,
          2.9755668100709762,
          3.0346545866364667,
          3.0371094328446615,
          3.046773564362777,
          3.1156739811912226,
          3.1176602076027886,
          3.1429805149241647,
          3.248189134808853,
          3.328988017900967,
          3.583632672184913,
          3.587553593411725,
          3.591408703454464,
          3.607518846208394,
          3.6110360980986496,
          3.7196939866119143,
          3.7209585208612093,
          3.7655907239109996,
          3.8550398337374436,
          3.997067339817358,
          4.028071334214003,
          4.04054054054054,
          4.071116727941177,
          4.1399628566604765,
          4.25633165462375,
          4.268146748543536,
          4.29164917369566,
          4.363028085143241,
          4.392179271362604,
          4.392787457403539,
          4.414121451670859,
          4.485728231358233,
          4.4910934105720495,
          4.499339406160907,
          4.506432177169842,
          4.573548122749132,
          4.577749887365643,
          4.768263029918596,
          4.928764166216945,
          4.946070091867982,
          4.9989835676774526,
          5.014036528797836,
          5.058706025968261,
          5.068304108375008,
          5.148297443513313,
          5.169647100760456,
          5.225429927632091,
          5.451832119169294,
          5.628139696733239,
          5.723420988213726,
          5.734831770546056,
          5.750211353279584,
          5.806158437330439,
          5.847450795996507,
          5.8509974558817595,
          5.89170426935092,
          5.8954127497816815,
          5.913639952625346,
          6.007783417935702,
          6.023336895639585,
          6.053923873673508,
          6.109718353450944,
          6.654179365955507,
          6.876928774225404,
          6.9189587658555665,
          6.939570902627904,
          6.959628236497097,
          7.040804673430843,
          7.1663608562691135,
          7.187909121932555,
          7.231738531206931,
          7.248431737599165,
          7.378269533880946,
          7.413936249073387,
          7.600719705859344,
          7.606393606393606,
          7.697970553123756,
          7.936026023312551,
          7.988427188437415,
          8.184039087947882,
          8.600790442372919,
          8.714025500910747,
          8.829433853264009,
          9.265076594919528,
          9.515658657829329,
          9.561132922041503,
          9.921443020903574,
          11.203064585421739,
          11.233850273345977
         ]
        }
       ],
       "layout": {
        "template": {
         "data": {
          "bar": [
           {
            "error_x": {
             "color": "#2a3f5f"
            },
            "error_y": {
             "color": "#2a3f5f"
            },
            "marker": {
             "line": {
              "color": "#E5ECF6",
              "width": 0.5
             },
             "pattern": {
              "fillmode": "overlay",
              "size": 10,
              "solidity": 0.2
             }
            },
            "type": "bar"
           }
          ],
          "barpolar": [
           {
            "marker": {
             "line": {
              "color": "#E5ECF6",
              "width": 0.5
             },
             "pattern": {
              "fillmode": "overlay",
              "size": 10,
              "solidity": 0.2
             }
            },
            "type": "barpolar"
           }
          ],
          "carpet": [
           {
            "aaxis": {
             "endlinecolor": "#2a3f5f",
             "gridcolor": "white",
             "linecolor": "white",
             "minorgridcolor": "white",
             "startlinecolor": "#2a3f5f"
            },
            "baxis": {
             "endlinecolor": "#2a3f5f",
             "gridcolor": "white",
             "linecolor": "white",
             "minorgridcolor": "white",
             "startlinecolor": "#2a3f5f"
            },
            "type": "carpet"
           }
          ],
          "choropleth": [
           {
            "colorbar": {
             "outlinewidth": 0,
             "ticks": ""
            },
            "type": "choropleth"
           }
          ],
          "contour": [
           {
            "colorbar": {
             "outlinewidth": 0,
             "ticks": ""
            },
            "colorscale": [
             [
              0,
              "#0d0887"
             ],
             [
              0.1111111111111111,
              "#46039f"
             ],
             [
              0.2222222222222222,
              "#7201a8"
             ],
             [
              0.3333333333333333,
              "#9c179e"
             ],
             [
              0.4444444444444444,
              "#bd3786"
             ],
             [
              0.5555555555555556,
              "#d8576b"
             ],
             [
              0.6666666666666666,
              "#ed7953"
             ],
             [
              0.7777777777777778,
              "#fb9f3a"
             ],
             [
              0.8888888888888888,
              "#fdca26"
             ],
             [
              1,
              "#f0f921"
             ]
            ],
            "type": "contour"
           }
          ],
          "contourcarpet": [
           {
            "colorbar": {
             "outlinewidth": 0,
             "ticks": ""
            },
            "type": "contourcarpet"
           }
          ],
          "heatmap": [
           {
            "colorbar": {
             "outlinewidth": 0,
             "ticks": ""
            },
            "colorscale": [
             [
              0,
              "#0d0887"
             ],
             [
              0.1111111111111111,
              "#46039f"
             ],
             [
              0.2222222222222222,
              "#7201a8"
             ],
             [
              0.3333333333333333,
              "#9c179e"
             ],
             [
              0.4444444444444444,
              "#bd3786"
             ],
             [
              0.5555555555555556,
              "#d8576b"
             ],
             [
              0.6666666666666666,
              "#ed7953"
             ],
             [
              0.7777777777777778,
              "#fb9f3a"
             ],
             [
              0.8888888888888888,
              "#fdca26"
             ],
             [
              1,
              "#f0f921"
             ]
            ],
            "type": "heatmap"
           }
          ],
          "heatmapgl": [
           {
            "colorbar": {
             "outlinewidth": 0,
             "ticks": ""
            },
            "colorscale": [
             [
              0,
              "#0d0887"
             ],
             [
              0.1111111111111111,
              "#46039f"
             ],
             [
              0.2222222222222222,
              "#7201a8"
             ],
             [
              0.3333333333333333,
              "#9c179e"
             ],
             [
              0.4444444444444444,
              "#bd3786"
             ],
             [
              0.5555555555555556,
              "#d8576b"
             ],
             [
              0.6666666666666666,
              "#ed7953"
             ],
             [
              0.7777777777777778,
              "#fb9f3a"
             ],
             [
              0.8888888888888888,
              "#fdca26"
             ],
             [
              1,
              "#f0f921"
             ]
            ],
            "type": "heatmapgl"
           }
          ],
          "histogram": [
           {
            "marker": {
             "pattern": {
              "fillmode": "overlay",
              "size": 10,
              "solidity": 0.2
             }
            },
            "type": "histogram"
           }
          ],
          "histogram2d": [
           {
            "colorbar": {
             "outlinewidth": 0,
             "ticks": ""
            },
            "colorscale": [
             [
              0,
              "#0d0887"
             ],
             [
              0.1111111111111111,
              "#46039f"
             ],
             [
              0.2222222222222222,
              "#7201a8"
             ],
             [
              0.3333333333333333,
              "#9c179e"
             ],
             [
              0.4444444444444444,
              "#bd3786"
             ],
             [
              0.5555555555555556,
              "#d8576b"
             ],
             [
              0.6666666666666666,
              "#ed7953"
             ],
             [
              0.7777777777777778,
              "#fb9f3a"
             ],
             [
              0.8888888888888888,
              "#fdca26"
             ],
             [
              1,
              "#f0f921"
             ]
            ],
            "type": "histogram2d"
           }
          ],
          "histogram2dcontour": [
           {
            "colorbar": {
             "outlinewidth": 0,
             "ticks": ""
            },
            "colorscale": [
             [
              0,
              "#0d0887"
             ],
             [
              0.1111111111111111,
              "#46039f"
             ],
             [
              0.2222222222222222,
              "#7201a8"
             ],
             [
              0.3333333333333333,
              "#9c179e"
             ],
             [
              0.4444444444444444,
              "#bd3786"
             ],
             [
              0.5555555555555556,
              "#d8576b"
             ],
             [
              0.6666666666666666,
              "#ed7953"
             ],
             [
              0.7777777777777778,
              "#fb9f3a"
             ],
             [
              0.8888888888888888,
              "#fdca26"
             ],
             [
              1,
              "#f0f921"
             ]
            ],
            "type": "histogram2dcontour"
           }
          ],
          "mesh3d": [
           {
            "colorbar": {
             "outlinewidth": 0,
             "ticks": ""
            },
            "type": "mesh3d"
           }
          ],
          "parcoords": [
           {
            "line": {
             "colorbar": {
              "outlinewidth": 0,
              "ticks": ""
             }
            },
            "type": "parcoords"
           }
          ],
          "pie": [
           {
            "automargin": true,
            "type": "pie"
           }
          ],
          "scatter": [
           {
            "fillpattern": {
             "fillmode": "overlay",
             "size": 10,
             "solidity": 0.2
            },
            "type": "scatter"
           }
          ],
          "scatter3d": [
           {
            "line": {
             "colorbar": {
              "outlinewidth": 0,
              "ticks": ""
             }
            },
            "marker": {
             "colorbar": {
              "outlinewidth": 0,
              "ticks": ""
             }
            },
            "type": "scatter3d"
           }
          ],
          "scattercarpet": [
           {
            "marker": {
             "colorbar": {
              "outlinewidth": 0,
              "ticks": ""
             }
            },
            "type": "scattercarpet"
           }
          ],
          "scattergeo": [
           {
            "marker": {
             "colorbar": {
              "outlinewidth": 0,
              "ticks": ""
             }
            },
            "type": "scattergeo"
           }
          ],
          "scattergl": [
           {
            "marker": {
             "colorbar": {
              "outlinewidth": 0,
              "ticks": ""
             }
            },
            "type": "scattergl"
           }
          ],
          "scattermapbox": [
           {
            "marker": {
             "colorbar": {
              "outlinewidth": 0,
              "ticks": ""
             }
            },
            "type": "scattermapbox"
           }
          ],
          "scatterpolar": [
           {
            "marker": {
             "colorbar": {
              "outlinewidth": 0,
              "ticks": ""
             }
            },
            "type": "scatterpolar"
           }
          ],
          "scatterpolargl": [
           {
            "marker": {
             "colorbar": {
              "outlinewidth": 0,
              "ticks": ""
             }
            },
            "type": "scatterpolargl"
           }
          ],
          "scatterternary": [
           {
            "marker": {
             "colorbar": {
              "outlinewidth": 0,
              "ticks": ""
             }
            },
            "type": "scatterternary"
           }
          ],
          "surface": [
           {
            "colorbar": {
             "outlinewidth": 0,
             "ticks": ""
            },
            "colorscale": [
             [
              0,
              "#0d0887"
             ],
             [
              0.1111111111111111,
              "#46039f"
             ],
             [
              0.2222222222222222,
              "#7201a8"
             ],
             [
              0.3333333333333333,
              "#9c179e"
             ],
             [
              0.4444444444444444,
              "#bd3786"
             ],
             [
              0.5555555555555556,
              "#d8576b"
             ],
             [
              0.6666666666666666,
              "#ed7953"
             ],
             [
              0.7777777777777778,
              "#fb9f3a"
             ],
             [
              0.8888888888888888,
              "#fdca26"
             ],
             [
              1,
              "#f0f921"
             ]
            ],
            "type": "surface"
           }
          ],
          "table": [
           {
            "cells": {
             "fill": {
              "color": "#EBF0F8"
             },
             "line": {
              "color": "white"
             }
            },
            "header": {
             "fill": {
              "color": "#C8D4E3"
             },
             "line": {
              "color": "white"
             }
            },
            "type": "table"
           }
          ]
         },
         "layout": {
          "annotationdefaults": {
           "arrowcolor": "#2a3f5f",
           "arrowhead": 0,
           "arrowwidth": 1
          },
          "autotypenumbers": "strict",
          "coloraxis": {
           "colorbar": {
            "outlinewidth": 0,
            "ticks": ""
           }
          },
          "colorscale": {
           "diverging": [
            [
             0,
             "#8e0152"
            ],
            [
             0.1,
             "#c51b7d"
            ],
            [
             0.2,
             "#de77ae"
            ],
            [
             0.3,
             "#f1b6da"
            ],
            [
             0.4,
             "#fde0ef"
            ],
            [
             0.5,
             "#f7f7f7"
            ],
            [
             0.6,
             "#e6f5d0"
            ],
            [
             0.7,
             "#b8e186"
            ],
            [
             0.8,
             "#7fbc41"
            ],
            [
             0.9,
             "#4d9221"
            ],
            [
             1,
             "#276419"
            ]
           ],
           "sequential": [
            [
             0,
             "#0d0887"
            ],
            [
             0.1111111111111111,
             "#46039f"
            ],
            [
             0.2222222222222222,
             "#7201a8"
            ],
            [
             0.3333333333333333,
             "#9c179e"
            ],
            [
             0.4444444444444444,
             "#bd3786"
            ],
            [
             0.5555555555555556,
             "#d8576b"
            ],
            [
             0.6666666666666666,
             "#ed7953"
            ],
            [
             0.7777777777777778,
             "#fb9f3a"
            ],
            [
             0.8888888888888888,
             "#fdca26"
            ],
            [
             1,
             "#f0f921"
            ]
           ],
           "sequentialminus": [
            [
             0,
             "#0d0887"
            ],
            [
             0.1111111111111111,
             "#46039f"
            ],
            [
             0.2222222222222222,
             "#7201a8"
            ],
            [
             0.3333333333333333,
             "#9c179e"
            ],
            [
             0.4444444444444444,
             "#bd3786"
            ],
            [
             0.5555555555555556,
             "#d8576b"
            ],
            [
             0.6666666666666666,
             "#ed7953"
            ],
            [
             0.7777777777777778,
             "#fb9f3a"
            ],
            [
             0.8888888888888888,
             "#fdca26"
            ],
            [
             1,
             "#f0f921"
            ]
           ]
          },
          "colorway": [
           "#636efa",
           "#EF553B",
           "#00cc96",
           "#ab63fa",
           "#FFA15A",
           "#19d3f3",
           "#FF6692",
           "#B6E880",
           "#FF97FF",
           "#FECB52"
          ],
          "font": {
           "color": "#2a3f5f"
          },
          "geo": {
           "bgcolor": "white",
           "lakecolor": "white",
           "landcolor": "#E5ECF6",
           "showlakes": true,
           "showland": true,
           "subunitcolor": "white"
          },
          "hoverlabel": {
           "align": "left"
          },
          "hovermode": "closest",
          "mapbox": {
           "style": "light"
          },
          "paper_bgcolor": "white",
          "plot_bgcolor": "#E5ECF6",
          "polar": {
           "angularaxis": {
            "gridcolor": "white",
            "linecolor": "white",
            "ticks": ""
           },
           "bgcolor": "#E5ECF6",
           "radialaxis": {
            "gridcolor": "white",
            "linecolor": "white",
            "ticks": ""
           }
          },
          "scene": {
           "xaxis": {
            "backgroundcolor": "#E5ECF6",
            "gridcolor": "white",
            "gridwidth": 2,
            "linecolor": "white",
            "showbackground": true,
            "ticks": "",
            "zerolinecolor": "white"
           },
           "yaxis": {
            "backgroundcolor": "#E5ECF6",
            "gridcolor": "white",
            "gridwidth": 2,
            "linecolor": "white",
            "showbackground": true,
            "ticks": "",
            "zerolinecolor": "white"
           },
           "zaxis": {
            "backgroundcolor": "#E5ECF6",
            "gridcolor": "white",
            "gridwidth": 2,
            "linecolor": "white",
            "showbackground": true,
            "ticks": "",
            "zerolinecolor": "white"
           }
          },
          "shapedefaults": {
           "line": {
            "color": "#2a3f5f"
           }
          },
          "ternary": {
           "aaxis": {
            "gridcolor": "white",
            "linecolor": "white",
            "ticks": ""
           },
           "baxis": {
            "gridcolor": "white",
            "linecolor": "white",
            "ticks": ""
           },
           "bgcolor": "#E5ECF6",
           "caxis": {
            "gridcolor": "white",
            "linecolor": "white",
            "ticks": ""
           }
          },
          "title": {
           "x": 0.05
          },
          "xaxis": {
           "automargin": true,
           "gridcolor": "white",
           "linecolor": "white",
           "ticks": "",
           "title": {
            "standoff": 15
           },
           "zerolinecolor": "white",
           "zerolinewidth": 2
          },
          "yaxis": {
           "automargin": true,
           "gridcolor": "white",
           "linecolor": "white",
           "ticks": "",
           "title": {
            "standoff": 15
           },
           "zerolinecolor": "white",
           "zerolinewidth": 2
          }
         }
        },
        "xaxis": {
         "range": [
          3000,
          350000
         ]
        }
       }
      }
     },
     "metadata": {},
     "output_type": "display_data"
    }
   ],
   "source": [
    "\n",
    "\n",
    "fig = go.Figure()\n",
    "scatter = go.Scatter(x= preparedDfForDelayByAirport[\"TOTAL_FLIGHTS\"], y = preparedDfForDelayByAirport[\"AVERAGE_ARRIVAL_DELAY\"], mode = \"markers\", name = \"\",\n",
    "                    customdata = preparedDfForDelayByAirport.AIRPORT,\n",
    "                    hovertemplate = \"%{customdata} <br>Average delay: %{y} min <br>Flights in 2015: %{x}\",\n",
    "                    marker = dict(\n",
    "                        color = \"black\",\n",
    "                        size = 3.5,\n",
    "                        opacity = 0.5)\n",
    "                    )\n",
    "\n",
    "fig.update(layout_xaxis_range = [3000, 350000])\n",
    "fig.add_trace(scatter)\n",
    "fig.show()\n",
    "\n"
   ]
  },
  {
   "cell_type": "code",
   "execution_count": null,
   "metadata": {},
   "outputs": [],
   "source": []
  }
 ],
 "metadata": {
  "interpreter": {
   "hash": "639f3994b8dceab5a82e554cc239ea7aabbfb8dc398744298402812ca933fc08"
  },
  "kernelspec": {
   "display_name": "Python 3.10.4 64-bit",
   "language": "python",
   "name": "python3"
  },
  "language_info": {
   "codemirror_mode": {
    "name": "ipython",
    "version": 3
   },
   "file_extension": ".py",
   "mimetype": "text/x-python",
   "name": "python",
   "nbconvert_exporter": "python",
   "pygments_lexer": "ipython3",
   "version": "3.10.4"
  },
  "orig_nbformat": 4
 },
 "nbformat": 4,
 "nbformat_minor": 2
}
