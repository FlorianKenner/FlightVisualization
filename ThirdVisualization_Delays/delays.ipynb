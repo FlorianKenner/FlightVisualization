{
 "cells": [
  {
   "cell_type": "code",
   "execution_count": 36,
   "metadata": {},
   "outputs": [],
   "source": [
    "import pandas as pd\n",
    "import plotly.graph_objects as go\n",
    "import numpy as np\n"
   ]
  },
  {
   "cell_type": "code",
   "execution_count": 42,
   "metadata": {},
   "outputs": [
    {
     "name": "stderr",
     "output_type": "stream",
     "text": [
      "C:\\Users\\Florian\\AppData\\Local\\Programs\\Python\\Python310\\lib\\site-packages\\IPython\\core\\interactiveshell.py:3369: DtypeWarning:\n",
      "\n",
      "Columns (7,8) have mixed types.Specify dtype option on import or set low_memory=False.\n",
      "\n"
     ]
    },
    {
     "data": {
      "text/html": [
       "<div>\n",
       "<style scoped>\n",
       "    .dataframe tbody tr th:only-of-type {\n",
       "        vertical-align: middle;\n",
       "    }\n",
       "\n",
       "    .dataframe tbody tr th {\n",
       "        vertical-align: top;\n",
       "    }\n",
       "\n",
       "    .dataframe thead th {\n",
       "        text-align: right;\n",
       "    }\n",
       "</style>\n",
       "<table border=\"1\" class=\"dataframe\">\n",
       "  <thead>\n",
       "    <tr style=\"text-align: right;\">\n",
       "      <th></th>\n",
       "      <th>Unnamed: 0</th>\n",
       "      <th>FULL_DATE</th>\n",
       "      <th>YEAR</th>\n",
       "      <th>MONTH</th>\n",
       "      <th>DAY</th>\n",
       "      <th>DAY_OF_WEEK</th>\n",
       "      <th>AIRLINE</th>\n",
       "      <th>ORIGIN_AIRPORT</th>\n",
       "      <th>DESTINATION_AIRPORT</th>\n",
       "      <th>SCHEDULED_DEPARTURE</th>\n",
       "      <th>DEPARTURE_TIME</th>\n",
       "      <th>DEPARTURE_DELAY</th>\n",
       "      <th>SCHEDULED_TIME</th>\n",
       "      <th>ELAPSED_TIME</th>\n",
       "      <th>AIR_TIME</th>\n",
       "      <th>DISTANCE</th>\n",
       "      <th>SCHEDULED_ARRIVAL</th>\n",
       "      <th>ARRIVAL_TIME</th>\n",
       "      <th>ARRIVAL_DELAY</th>\n",
       "      <th>CANCELLED</th>\n",
       "    </tr>\n",
       "  </thead>\n",
       "  <tbody>\n",
       "    <tr>\n",
       "      <th>0</th>\n",
       "      <td>0</td>\n",
       "      <td>2015-01-01</td>\n",
       "      <td>2015</td>\n",
       "      <td>1</td>\n",
       "      <td>1</td>\n",
       "      <td>Thursday</td>\n",
       "      <td>AS</td>\n",
       "      <td>ANC</td>\n",
       "      <td>SEA</td>\n",
       "      <td>00:05</td>\n",
       "      <td>23:54.0</td>\n",
       "      <td>-11.0</td>\n",
       "      <td>205.0</td>\n",
       "      <td>194.0</td>\n",
       "      <td>169.0</td>\n",
       "      <td>1448</td>\n",
       "      <td>430</td>\n",
       "      <td>408.0</td>\n",
       "      <td>-22.0</td>\n",
       "      <td>0</td>\n",
       "    </tr>\n",
       "    <tr>\n",
       "      <th>1</th>\n",
       "      <td>1</td>\n",
       "      <td>2015-01-01</td>\n",
       "      <td>2015</td>\n",
       "      <td>1</td>\n",
       "      <td>1</td>\n",
       "      <td>Thursday</td>\n",
       "      <td>AA</td>\n",
       "      <td>LAX</td>\n",
       "      <td>PBI</td>\n",
       "      <td>00:10</td>\n",
       "      <td>00:02.0</td>\n",
       "      <td>-8.0</td>\n",
       "      <td>280.0</td>\n",
       "      <td>279.0</td>\n",
       "      <td>263.0</td>\n",
       "      <td>2330</td>\n",
       "      <td>750</td>\n",
       "      <td>741.0</td>\n",
       "      <td>-9.0</td>\n",
       "      <td>0</td>\n",
       "    </tr>\n",
       "    <tr>\n",
       "      <th>2</th>\n",
       "      <td>2</td>\n",
       "      <td>2015-01-01</td>\n",
       "      <td>2015</td>\n",
       "      <td>1</td>\n",
       "      <td>1</td>\n",
       "      <td>Thursday</td>\n",
       "      <td>US</td>\n",
       "      <td>SFO</td>\n",
       "      <td>CLT</td>\n",
       "      <td>00:20</td>\n",
       "      <td>00:18.0</td>\n",
       "      <td>-2.0</td>\n",
       "      <td>286.0</td>\n",
       "      <td>293.0</td>\n",
       "      <td>266.0</td>\n",
       "      <td>2296</td>\n",
       "      <td>806</td>\n",
       "      <td>811.0</td>\n",
       "      <td>5.0</td>\n",
       "      <td>0</td>\n",
       "    </tr>\n",
       "    <tr>\n",
       "      <th>3</th>\n",
       "      <td>3</td>\n",
       "      <td>2015-01-01</td>\n",
       "      <td>2015</td>\n",
       "      <td>1</td>\n",
       "      <td>1</td>\n",
       "      <td>Thursday</td>\n",
       "      <td>AA</td>\n",
       "      <td>LAX</td>\n",
       "      <td>MIA</td>\n",
       "      <td>00:20</td>\n",
       "      <td>00:15.0</td>\n",
       "      <td>-5.0</td>\n",
       "      <td>285.0</td>\n",
       "      <td>281.0</td>\n",
       "      <td>258.0</td>\n",
       "      <td>2342</td>\n",
       "      <td>805</td>\n",
       "      <td>756.0</td>\n",
       "      <td>-9.0</td>\n",
       "      <td>0</td>\n",
       "    </tr>\n",
       "    <tr>\n",
       "      <th>4</th>\n",
       "      <td>4</td>\n",
       "      <td>2015-01-01</td>\n",
       "      <td>2015</td>\n",
       "      <td>1</td>\n",
       "      <td>1</td>\n",
       "      <td>Thursday</td>\n",
       "      <td>AS</td>\n",
       "      <td>SEA</td>\n",
       "      <td>ANC</td>\n",
       "      <td>00:25</td>\n",
       "      <td>00:24.0</td>\n",
       "      <td>-1.0</td>\n",
       "      <td>235.0</td>\n",
       "      <td>215.0</td>\n",
       "      <td>199.0</td>\n",
       "      <td>1448</td>\n",
       "      <td>320</td>\n",
       "      <td>259.0</td>\n",
       "      <td>-21.0</td>\n",
       "      <td>0</td>\n",
       "    </tr>\n",
       "  </tbody>\n",
       "</table>\n",
       "</div>"
      ],
      "text/plain": [
       "   Unnamed: 0   FULL_DATE  YEAR  MONTH  DAY DAY_OF_WEEK AIRLINE  \\\n",
       "0           0  2015-01-01  2015      1    1    Thursday      AS   \n",
       "1           1  2015-01-01  2015      1    1    Thursday      AA   \n",
       "2           2  2015-01-01  2015      1    1    Thursday      US   \n",
       "3           3  2015-01-01  2015      1    1    Thursday      AA   \n",
       "4           4  2015-01-01  2015      1    1    Thursday      AS   \n",
       "\n",
       "  ORIGIN_AIRPORT DESTINATION_AIRPORT SCHEDULED_DEPARTURE DEPARTURE_TIME  \\\n",
       "0            ANC                 SEA               00:05        23:54.0   \n",
       "1            LAX                 PBI               00:10        00:02.0   \n",
       "2            SFO                 CLT               00:20        00:18.0   \n",
       "3            LAX                 MIA               00:20        00:15.0   \n",
       "4            SEA                 ANC               00:25        00:24.0   \n",
       "\n",
       "   DEPARTURE_DELAY  SCHEDULED_TIME  ELAPSED_TIME  AIR_TIME  DISTANCE  \\\n",
       "0            -11.0           205.0         194.0     169.0      1448   \n",
       "1             -8.0           280.0         279.0     263.0      2330   \n",
       "2             -2.0           286.0         293.0     266.0      2296   \n",
       "3             -5.0           285.0         281.0     258.0      2342   \n",
       "4             -1.0           235.0         215.0     199.0      1448   \n",
       "\n",
       "   SCHEDULED_ARRIVAL  ARRIVAL_TIME  ARRIVAL_DELAY  CANCELLED  \n",
       "0                430         408.0          -22.0          0  \n",
       "1                750         741.0           -9.0          0  \n",
       "2                806         811.0            5.0          0  \n",
       "3                805         756.0           -9.0          0  \n",
       "4                320         259.0          -21.0          0  "
      ]
     },
     "execution_count": 42,
     "metadata": {},
     "output_type": "execute_result"
    }
   ],
   "source": [
    "df = pd.read_csv(\"../data/CleanedFlights.csv\")\n",
    "\n",
    "dfAirports = pd.read_csv(\"../data/Airports.csv\")\n",
    "pd.set_option(\"display.max_columns\", None)\n",
    "\n",
    "dfAirlines = pd.read_csv(\"../data/airlines.csv\")\n",
    "# creating dictionaries from the IATA_CODE to the Airport, Latitude and Longiture\n",
    "\n",
    "AirportDict = pd.Series(dfAirports.AIRPORT.values, index = dfAirports.IATA_CODE).to_dict()\n",
    "AirLineDict = pd.Series(dfAirlines.AIRLINE.values, index = dfAirlines.IATA_CODE).to_dict()\n",
    "LatitudeDict = pd.Series(dfAirports.LATITUDE.values, index = dfAirports.IATA_CODE).to_dict()\n",
    "LongitudeDict = pd.Series(dfAirports.LONGITUDE.values, index = dfAirports.IATA_CODE).to_dict()\n",
    "\n",
    "df.head()"
   ]
  },
  {
   "cell_type": "code",
   "execution_count": 38,
   "metadata": {},
   "outputs": [
    {
     "data": {
      "text/html": [
       "<div>\n",
       "<style scoped>\n",
       "    .dataframe tbody tr th:only-of-type {\n",
       "        vertical-align: middle;\n",
       "    }\n",
       "\n",
       "    .dataframe tbody tr th {\n",
       "        vertical-align: top;\n",
       "    }\n",
       "\n",
       "    .dataframe thead th {\n",
       "        text-align: right;\n",
       "    }\n",
       "</style>\n",
       "<table border=\"1\" class=\"dataframe\">\n",
       "  <thead>\n",
       "    <tr style=\"text-align: right;\">\n",
       "      <th></th>\n",
       "      <th>AIRPORT</th>\n",
       "      <th>ORIGIN_AIRPORT</th>\n",
       "      <th>TOTAL_FLIGHTS</th>\n",
       "      <th>AVERAGE_ARRIVAL_DELAY</th>\n",
       "    </tr>\n",
       "  </thead>\n",
       "  <tbody>\n",
       "    <tr>\n",
       "      <th>19</th>\n",
       "      <td>NaN</td>\n",
       "      <td>10397</td>\n",
       "      <td>30824</td>\n",
       "      <td>-4.129073</td>\n",
       "    </tr>\n",
       "    <tr>\n",
       "      <th>273</th>\n",
       "      <td>NaN</td>\n",
       "      <td>14869</td>\n",
       "      <td>8275</td>\n",
       "      <td>-3.532170</td>\n",
       "    </tr>\n",
       "    <tr>\n",
       "      <th>204</th>\n",
       "      <td>NaN</td>\n",
       "      <td>13487</td>\n",
       "      <td>10027</td>\n",
       "      <td>-3.161481</td>\n",
       "    </tr>\n",
       "    <tr>\n",
       "      <th>184</th>\n",
       "      <td>NaN</td>\n",
       "      <td>13232</td>\n",
       "      <td>7180</td>\n",
       "      <td>-2.848130</td>\n",
       "    </tr>\n",
       "    <tr>\n",
       "      <th>216</th>\n",
       "      <td>NaN</td>\n",
       "      <td>13930</td>\n",
       "      <td>26117</td>\n",
       "      <td>-2.522307</td>\n",
       "    </tr>\n",
       "  </tbody>\n",
       "</table>\n",
       "</div>"
      ],
      "text/plain": [
       "    AIRPORT ORIGIN_AIRPORT  TOTAL_FLIGHTS  AVERAGE_ARRIVAL_DELAY\n",
       "19      NaN          10397          30824              -4.129073\n",
       "273     NaN          14869           8275              -3.532170\n",
       "204     NaN          13487          10027              -3.161481\n",
       "184     NaN          13232           7180              -2.848130\n",
       "216     NaN          13930          26117              -2.522307"
      ]
     },
     "execution_count": 38,
     "metadata": {},
     "output_type": "execute_result"
    }
   ],
   "source": [
    "#  df for delay by airport and total flights from this airport\n",
    "\n",
    "count = pd.DataFrame(df.groupby([\"ORIGIN_AIRPORT\"]).count()[\"YEAR\"])\n",
    "df2 = df.groupby([\"ORIGIN_AIRPORT\"]).mean()\n",
    "preparedDfForDelayByAirport = pd.DataFrame({\n",
    "    \"TOTAL_FLIGHTS\" : count[\"YEAR\"], \n",
    "    \"AVERAGE_ARRIVAL_DELAY\": df2.ARRIVAL_DELAY })\n",
    "preparedDfForDelayByAirport = preparedDfForDelayByAirport.reset_index(drop= False)\n",
    "preparedDfForDelayByAirport = preparedDfForDelayByAirport.sort_values(by = \"AVERAGE_ARRIVAL_DELAY\")\n",
    "preparedDfForDelayByAirport = preparedDfForDelayByAirport[preparedDfForDelayByAirport[\"TOTAL_FLIGHTS\"] > 5000]\n",
    "preparedDfForDelayByAirport.insert(column = \"AIRPORT\", loc = 0, value = preparedDfForDelayByAirport.ORIGIN_AIRPORT.map(AirportDict))\n",
    "preparedDfForDelayByAirport.drop(columns = [\"ORIGIN_AIRPORT\"])\n",
    "preparedDfForDelayByAirport.head()"
   ]
  },
  {
   "cell_type": "code",
   "execution_count": 48,
   "metadata": {},
   "outputs": [
    {
     "name": "stderr",
     "output_type": "stream",
     "text": [
      "C:\\Users\\Florian\\AppData\\Local\\Programs\\Python\\Python310\\lib\\site-packages\\IPython\\core\\interactiveshell.py:3369: DtypeWarning:\n",
      "\n",
      "Columns (7,8) have mixed types.Specify dtype option on import or set low_memory=False.\n",
      "\n"
     ]
    },
    {
     "data": {
      "text/html": [
       "<div>\n",
       "<style scoped>\n",
       "    .dataframe tbody tr th:only-of-type {\n",
       "        vertical-align: middle;\n",
       "    }\n",
       "\n",
       "    .dataframe tbody tr th {\n",
       "        vertical-align: top;\n",
       "    }\n",
       "\n",
       "    .dataframe thead th {\n",
       "        text-align: right;\n",
       "    }\n",
       "</style>\n",
       "<table border=\"1\" class=\"dataframe\">\n",
       "  <thead>\n",
       "    <tr style=\"text-align: right;\">\n",
       "      <th></th>\n",
       "      <th>AIRLINE</th>\n",
       "      <th>TOTAL_FLIGHTS</th>\n",
       "      <th>AVERAGE_ARRIVAL_DELAY</th>\n",
       "    </tr>\n",
       "  </thead>\n",
       "  <tbody>\n",
       "    <tr>\n",
       "      <th>0</th>\n",
       "      <td>American Airlines Inc.</td>\n",
       "      <td>725984</td>\n",
       "      <td>3.451372</td>\n",
       "    </tr>\n",
       "    <tr>\n",
       "      <th>1</th>\n",
       "      <td>Alaska Airlines Inc.</td>\n",
       "      <td>172521</td>\n",
       "      <td>-0.976563</td>\n",
       "    </tr>\n",
       "    <tr>\n",
       "      <th>2</th>\n",
       "      <td>JetBlue Airways</td>\n",
       "      <td>267048</td>\n",
       "      <td>6.677861</td>\n",
       "    </tr>\n",
       "    <tr>\n",
       "      <th>3</th>\n",
       "      <td>Delta Air Lines Inc.</td>\n",
       "      <td>875881</td>\n",
       "      <td>0.186754</td>\n",
       "    </tr>\n",
       "    <tr>\n",
       "      <th>4</th>\n",
       "      <td>Atlantic Southeast Airlines</td>\n",
       "      <td>571977</td>\n",
       "      <td>6.585379</td>\n",
       "    </tr>\n",
       "  </tbody>\n",
       "</table>\n",
       "</div>"
      ],
      "text/plain": [
       "                       AIRLINE  TOTAL_FLIGHTS  AVERAGE_ARRIVAL_DELAY\n",
       "0       American Airlines Inc.         725984               3.451372\n",
       "1         Alaska Airlines Inc.         172521              -0.976563\n",
       "2              JetBlue Airways         267048               6.677861\n",
       "3         Delta Air Lines Inc.         875881               0.186754\n",
       "4  Atlantic Southeast Airlines         571977               6.585379"
      ]
     },
     "execution_count": 48,
     "metadata": {},
     "output_type": "execute_result"
    }
   ],
   "source": [
    "# df for delay by airline\n",
    "df = pd.read_csv(\"../data/CleanedFlights.csv\")\n",
    "\n",
    "count = pd.DataFrame(df.groupby([\"AIRLINE\"]).count()[\"YEAR\"])\n",
    "df = df.groupby([\"AIRLINE\"]).mean()\n",
    "dfDelayByAirline = pd.DataFrame({\n",
    "    \"TOTAL_FLIGHTS\" : count[\"YEAR\"], \n",
    "    \"AVERAGE_ARRIVAL_DELAY\": df.ARRIVAL_DELAY }) \n",
    "dfDelayByAirline = dfDelayByAirline.reset_index()\n",
    "dfDelayByAirline[\"AIRLINE\"] = dfDelayByAirline.AIRLINE.map(AirLineDict)\n",
    "\n",
    "dfDelayByAirline.head()"
   ]
  },
  {
   "cell_type": "code",
   "execution_count": null,
   "metadata": {},
   "outputs": [],
   "source": [
    "# df for delay by weekday \n",
    "\n",
    "df = pd.read_csv(\"../data/CleanedFlights.csv\")\n",
    "\n",
    "count = pd.DataFrame(df.groupby([\"DAY_OF_WEEK\"]).count()[\"YEAR\"])\n",
    "df = df.groupby([\"DAY_OF_WEEK\"]).mean()\n",
    "dfDelayByWeekday = pd.DataFrame({\n",
    "    \"TOTAL_FLIGHTS\" : count[\"YEAR\"], \n",
    "    \"AVERAGE_ARRIVAL_DELAY\": df.ARRIVAL_DELAY }) \n",
    "dfDelayByWeekday.reset_index()\n",
    "\n",
    "dfDelayByWeekday.head(8)"
   ]
  },
  {
   "cell_type": "code",
   "execution_count": null,
   "metadata": {},
   "outputs": [],
   "source": []
  },
  {
   "cell_type": "code",
   "execution_count": 47,
   "metadata": {},
   "outputs": [
    {
     "data": {
      "application/vnd.plotly.v1+json": {
       "config": {
        "plotlyServerURL": "https://plot.ly"
       },
       "data": [
        {
         "customdata": [
          null,
          null,
          null,
          null,
          null,
          "Albany International Airport",
          null,
          null,
          null,
          null,
          null,
          null,
          "Pittsburgh International Airport",
          null,
          null,
          null,
          "Lihue Airport",
          null,
          "Manchester-Boston Regional Airport",
          null,
          null,
          "Ted Stevens Anchorage International Airport",
          "Akron-Canton Regional Airport",
          "Kona International Airport at Keahole",
          null,
          null,
          null,
          "Theodore Francis Green State Airport",
          "Buffalo Niagara International Airport",
          "Syracuse Hancock International Airport",
          "Bradley International Airport",
          "Salt Lake City International Airport",
          "Hilo International Airport",
          null,
          "Greater Rochester International Airport",
          "Honolulu International Airport",
          "Portland International Airport",
          "Kahului Airport",
          null,
          "John Wayne Airport (Orange County Airport)",
          "Minneapolis-Saint Paul International Airport",
          null,
          "San Antonio International Airport",
          null,
          "Indianapolis International Airport",
          "Gerald R. Ford International Airport",
          null,
          "Tucson International Airport",
          "General Mitchell International Airport",
          null,
          "Luis Muñoz Marín International Airport",
          "Spokane International Airport",
          "Hartsfield-Jackson Atlanta International Airport",
          "Blue Grass Airport",
          "Bob Hope Airport (Hollywood Burbank Airport)",
          "Ronald Reagan Washington National Airport",
          "Dane County Regional Airport",
          "Seattle-Tacoma International Airport",
          "Louisville International Airport (Standiford Field)",
          "John F. Kennedy International Airport (New York International Airport)",
          "Cleveland Hopkins International Airport",
          "Greenville-Spartanburg International Airport",
          "San Diego International Airport (Lindbergh Field)",
          "Eppley Airfield",
          "Pensacola International Airport (Pensacola Gulf Coast Regional Airport)",
          "Fort Lauderdale-Hollywood International Airport",
          "Louis Armstrong New Orleans International Airport",
          "Detroit Metropolitan Airport",
          "Jacksonville International Airport",
          "Port Columbus International Airport",
          "Long Beach Airport (Daugherty Field)",
          "Charleston International Airport/Charleston AFB",
          "Southwest Florida International Airport",
          "Norfolk International Airport",
          "Kansas City International Airport",
          "Tulsa International Airport",
          "Birmingham-Shuttlesworth International Airport",
          "Gen. Edward Lawrence Logan International Airport",
          "St. Louis International Airport at Lambert Field",
          "Ontario International Airport",
          "James M. Cox Dayton International Airport",
          "Philadelphia International Airport",
          "Hector International Airport",
          "Newark Liberty International Airport",
          "Albuquerque International Sunport",
          "Jackson-Evers International Airport",
          "Phoenix Sky Harbor International Airport",
          "Raleigh-Durham International Airport",
          "Memphis International Airport",
          "Nashville International Airport",
          "El Paso International Airport",
          "Santa Barbara Municipal Airport (Santa Barbara Airport)",
          "Austin-Bergstrom International Airport",
          "Will Rogers World Airport",
          "Reno/Tahoe International Airport",
          "Tampa International Airport",
          "Norman Y. Mineta San José International Airport",
          null,
          "Washington Dulles International Airport",
          "San Francisco International Airport",
          "Sacramento International Airport",
          "Los Angeles International Airport",
          "Bill and Hillary Clinton National Airport (Adams Field)",
          "Charlotte Douglas International Airport",
          "Boise Airport (Boise Air Terminal)",
          "Midland International Airport",
          "LaGuardia Airport (Marine Air Terminal)",
          "Richmond International Airport",
          "Chicago Midway International Airport",
          "Savannah/Hilton Head International Airport",
          "McCarran International Airport",
          "Cincinnati/Northern Kentucky International Airport",
          "Piedmont Triad International Airport",
          "Palm Springs International Airport",
          "Oakland International Airport",
          "Des Moines International Airport",
          "Dallas/Fort Worth International Airport",
          "Orlando International Airport",
          "Wichita Dwight D. Eisenhower National Airport (Wichita Mid-Continent Airport)",
          "Denver International Airport",
          "Miami International Airport",
          "Baltimore-Washington International Airport",
          "Fort Wayne International Airport",
          "City of Colorado Springs Municipal Airport",
          "George Bush Intercontinental Airport",
          "William P. Hobby Airport",
          "Columbia Metropolitan Airport",
          "Dallas Love Field",
          "Palm Beach International Airport",
          "Lafayette Regional Airport",
          "McGhee Tyson Airport",
          "Chicago O'Hare International Airport",
          "The Eastern Iowa Airport",
          "Fresno Yosemite International Airport",
          "Westchester County Airport",
          "Sioux Falls Regional Airport",
          "Springfield-Branson National Airport",
          "Shreveport Regional Airport",
          "Baton Rouge Metropolitan Airport",
          "Northwest Arkansas Regional Airport"
         ],
         "hovertemplate": "%{customdata} <br>Average delay: %{y} min <br>Flights in 2015: %{x}",
         "marker": {
          "color": "black",
          "opacity": 0.5,
          "size": 3.5
         },
         "mode": "markers",
         "name": "",
         "type": "scatter",
         "x": [
          30824,
          8275,
          10027,
          7180,
          26117,
          7162,
          5739,
          8132,
          9079,
          9766,
          7826,
          9607,
          23317,
          17135,
          9423,
          6442,
          10100,
          5854,
          6108,
          8468,
          12449,
          15473,
          5915,
          10676,
          19840,
          5576,
          12194,
          10644,
          16263,
          5395,
          18114,
          93530,
          5516,
          16715,
          7182,
          41453,
          45201,
          19758,
          5454,
          35782,
          108399,
          7569,
          28768,
          9030,
          24594,
          10515,
          11941,
          14518,
          28840,
          13353,
          23458,
          9154,
          334658,
          5831,
          18210,
          71446,
          8860,
          106546,
          9866,
          90325,
          33512,
          6313,
          67630,
          16112,
          6323,
          70316,
          37416,
          105101,
          17334,
          23400,
          8460,
          11403,
          25918,
          9041,
          37368,
          13520,
          12103,
          104478,
          45263,
          17359,
          8419,
          63669,
          5470,
          98036,
          18515,
          6859,
          141121,
          30778,
          14329,
          45963,
          11561,
          5849,
          40532,
          15540,
          12543,
          61340,
          36921,
          5603,
          33175,
          142346,
          35932,
          187623,
          10075,
          96578,
          11160,
          7321,
          96639,
          14872,
          78013,
          7325,
          128317,
          19411,
          6600,
          8594,
          40736,
          8079,
          231042,
          106387,
          7796,
          188562,
          66545,
          82871,
          5092,
          6630,
          141536,
          50137,
          5008,
          57375,
          21412,
          5008,
          6741,
          275617,
          6631,
          6796,
          7215,
          5210,
          6016,
          5879,
          6939,
          8998
         ],
         "y": [
          -4.129073170731707,
          -3.5321701199563793,
          -3.1614807403701852,
          -2.8481295365717476,
          -2.522306688167089,
          -2.198322433892522,
          -1.9304971988795518,
          -1.8832062023258722,
          -1.8661092530657748,
          -1.6961921379451914,
          -1.6226875642343268,
          -1.5699758884579096,
          -1.362826447724692,
          -1.2749517063747586,
          -1.1069792221630261,
          -1.0610615312353218,
          -0.9278391559669553,
          -0.43036020583190393,
          -0.3860919346691362,
          -0.37344398340248963,
          -0.317792501616031,
          -0.29549019607843136,
          -0.2921697136943774,
          -0.2170104549307714,
          -0.2043292714278369,
          -0.1930835734870317,
          -0.08016114445449314,
          -0.054187192118226604,
          0.04230214021213833,
          0.08053435114503817,
          0.10744548638571913,
          0.17594745908699397,
          0.36429740047264136,
          0.4507398051245038,
          0.5840251932436301,
          0.8815754371498556,
          0.9535489327605778,
          1.0781034922253379,
          1.1385185185185185,
          1.328703572741931,
          1.6065210509654955,
          1.7347209333156568,
          1.809035847594901,
          1.8155350594510502,
          1.878167115902965,
          1.8821805392731537,
          1.959949622166247,
          2.0513767863367027,
          2.1385486725663716,
          2.172260686333534,
          2.190090478242137,
          2.2782666080070393,
          2.469260299088982,
          2.5957935666313183,
          2.7300307864539604,
          2.742477812251966,
          2.751137026239067,
          2.764245915572764,
          2.847321892875715,
          2.8759919285358,
          2.892032262006599,
          2.9073503164043486,
          2.9807193899716857,
          2.9970309538850284,
          3.0269137792103145,
          3.160072124053372,
          3.2571869416923827,
          3.313384186620635,
          3.3296471827277516,
          3.3394000526269627,
          3.4103694874851014,
          3.5364672109087647,
          3.5912045739348373,
          3.6247006500171057,
          3.684526070207802,
          3.7071277878239903,
          3.740348221044663,
          3.7574420299848303,
          3.7771390074107343,
          3.9083493561731633,
          4.006529505975114,
          4.014763101852593,
          4.037929745889387,
          4.048207898540785,
          4.07832512315271,
          4.106453061835604,
          4.133676349733805,
          4.181266464370269,
          4.211845591921507,
          4.236469144068742,
          4.474196092175589,
          4.574401119076762,
          4.576018042851773,
          4.752575966397584,
          4.7878690111308275,
          4.808253790005615,
          4.852360962493484,
          4.928764166216945,
          5.099910930925397,
          5.101329449228177,
          5.266017614451729,
          5.341144820433035,
          5.375369558568662,
          5.436763888451898,
          5.457838963861969,
          5.550275774289351,
          5.568499108424303,
          5.576072641574825,
          5.579889517295804,
          5.594081518704634,
          5.691511533712416,
          5.826075439711803,
          5.927488151658768,
          5.952257456088648,
          6.078014361224693,
          6.492707267144319,
          6.531957203550059,
          6.688721919073603,
          6.723793239510719,
          6.824374724577865,
          6.83165296441482,
          6.9189855018907895,
          6.98130081300813,
          7.073635664873175,
          7.117958113302439,
          7.162230157441973,
          7.192559280457891,
          7.240956598759965,
          7.249964270401601,
          7.591142095550543,
          7.6957651735208685,
          8.292562490874854,
          8.447446509448696,
          8.516028030415983,
          8.951106610733401,
          9.146481665014866,
          9.25098644707497,
          9.510571378647562,
          10.63984051978736,
          10.929770114942528
         ]
        }
       ],
       "layout": {
        "template": {
         "data": {
          "bar": [
           {
            "error_x": {
             "color": "#2a3f5f"
            },
            "error_y": {
             "color": "#2a3f5f"
            },
            "marker": {
             "line": {
              "color": "#E5ECF6",
              "width": 0.5
             },
             "pattern": {
              "fillmode": "overlay",
              "size": 10,
              "solidity": 0.2
             }
            },
            "type": "bar"
           }
          ],
          "barpolar": [
           {
            "marker": {
             "line": {
              "color": "#E5ECF6",
              "width": 0.5
             },
             "pattern": {
              "fillmode": "overlay",
              "size": 10,
              "solidity": 0.2
             }
            },
            "type": "barpolar"
           }
          ],
          "carpet": [
           {
            "aaxis": {
             "endlinecolor": "#2a3f5f",
             "gridcolor": "white",
             "linecolor": "white",
             "minorgridcolor": "white",
             "startlinecolor": "#2a3f5f"
            },
            "baxis": {
             "endlinecolor": "#2a3f5f",
             "gridcolor": "white",
             "linecolor": "white",
             "minorgridcolor": "white",
             "startlinecolor": "#2a3f5f"
            },
            "type": "carpet"
           }
          ],
          "choropleth": [
           {
            "colorbar": {
             "outlinewidth": 0,
             "ticks": ""
            },
            "type": "choropleth"
           }
          ],
          "contour": [
           {
            "colorbar": {
             "outlinewidth": 0,
             "ticks": ""
            },
            "colorscale": [
             [
              0,
              "#0d0887"
             ],
             [
              0.1111111111111111,
              "#46039f"
             ],
             [
              0.2222222222222222,
              "#7201a8"
             ],
             [
              0.3333333333333333,
              "#9c179e"
             ],
             [
              0.4444444444444444,
              "#bd3786"
             ],
             [
              0.5555555555555556,
              "#d8576b"
             ],
             [
              0.6666666666666666,
              "#ed7953"
             ],
             [
              0.7777777777777778,
              "#fb9f3a"
             ],
             [
              0.8888888888888888,
              "#fdca26"
             ],
             [
              1,
              "#f0f921"
             ]
            ],
            "type": "contour"
           }
          ],
          "contourcarpet": [
           {
            "colorbar": {
             "outlinewidth": 0,
             "ticks": ""
            },
            "type": "contourcarpet"
           }
          ],
          "heatmap": [
           {
            "colorbar": {
             "outlinewidth": 0,
             "ticks": ""
            },
            "colorscale": [
             [
              0,
              "#0d0887"
             ],
             [
              0.1111111111111111,
              "#46039f"
             ],
             [
              0.2222222222222222,
              "#7201a8"
             ],
             [
              0.3333333333333333,
              "#9c179e"
             ],
             [
              0.4444444444444444,
              "#bd3786"
             ],
             [
              0.5555555555555556,
              "#d8576b"
             ],
             [
              0.6666666666666666,
              "#ed7953"
             ],
             [
              0.7777777777777778,
              "#fb9f3a"
             ],
             [
              0.8888888888888888,
              "#fdca26"
             ],
             [
              1,
              "#f0f921"
             ]
            ],
            "type": "heatmap"
           }
          ],
          "heatmapgl": [
           {
            "colorbar": {
             "outlinewidth": 0,
             "ticks": ""
            },
            "colorscale": [
             [
              0,
              "#0d0887"
             ],
             [
              0.1111111111111111,
              "#46039f"
             ],
             [
              0.2222222222222222,
              "#7201a8"
             ],
             [
              0.3333333333333333,
              "#9c179e"
             ],
             [
              0.4444444444444444,
              "#bd3786"
             ],
             [
              0.5555555555555556,
              "#d8576b"
             ],
             [
              0.6666666666666666,
              "#ed7953"
             ],
             [
              0.7777777777777778,
              "#fb9f3a"
             ],
             [
              0.8888888888888888,
              "#fdca26"
             ],
             [
              1,
              "#f0f921"
             ]
            ],
            "type": "heatmapgl"
           }
          ],
          "histogram": [
           {
            "marker": {
             "pattern": {
              "fillmode": "overlay",
              "size": 10,
              "solidity": 0.2
             }
            },
            "type": "histogram"
           }
          ],
          "histogram2d": [
           {
            "colorbar": {
             "outlinewidth": 0,
             "ticks": ""
            },
            "colorscale": [
             [
              0,
              "#0d0887"
             ],
             [
              0.1111111111111111,
              "#46039f"
             ],
             [
              0.2222222222222222,
              "#7201a8"
             ],
             [
              0.3333333333333333,
              "#9c179e"
             ],
             [
              0.4444444444444444,
              "#bd3786"
             ],
             [
              0.5555555555555556,
              "#d8576b"
             ],
             [
              0.6666666666666666,
              "#ed7953"
             ],
             [
              0.7777777777777778,
              "#fb9f3a"
             ],
             [
              0.8888888888888888,
              "#fdca26"
             ],
             [
              1,
              "#f0f921"
             ]
            ],
            "type": "histogram2d"
           }
          ],
          "histogram2dcontour": [
           {
            "colorbar": {
             "outlinewidth": 0,
             "ticks": ""
            },
            "colorscale": [
             [
              0,
              "#0d0887"
             ],
             [
              0.1111111111111111,
              "#46039f"
             ],
             [
              0.2222222222222222,
              "#7201a8"
             ],
             [
              0.3333333333333333,
              "#9c179e"
             ],
             [
              0.4444444444444444,
              "#bd3786"
             ],
             [
              0.5555555555555556,
              "#d8576b"
             ],
             [
              0.6666666666666666,
              "#ed7953"
             ],
             [
              0.7777777777777778,
              "#fb9f3a"
             ],
             [
              0.8888888888888888,
              "#fdca26"
             ],
             [
              1,
              "#f0f921"
             ]
            ],
            "type": "histogram2dcontour"
           }
          ],
          "mesh3d": [
           {
            "colorbar": {
             "outlinewidth": 0,
             "ticks": ""
            },
            "type": "mesh3d"
           }
          ],
          "parcoords": [
           {
            "line": {
             "colorbar": {
              "outlinewidth": 0,
              "ticks": ""
             }
            },
            "type": "parcoords"
           }
          ],
          "pie": [
           {
            "automargin": true,
            "type": "pie"
           }
          ],
          "scatter": [
           {
            "fillpattern": {
             "fillmode": "overlay",
             "size": 10,
             "solidity": 0.2
            },
            "type": "scatter"
           }
          ],
          "scatter3d": [
           {
            "line": {
             "colorbar": {
              "outlinewidth": 0,
              "ticks": ""
             }
            },
            "marker": {
             "colorbar": {
              "outlinewidth": 0,
              "ticks": ""
             }
            },
            "type": "scatter3d"
           }
          ],
          "scattercarpet": [
           {
            "marker": {
             "colorbar": {
              "outlinewidth": 0,
              "ticks": ""
             }
            },
            "type": "scattercarpet"
           }
          ],
          "scattergeo": [
           {
            "marker": {
             "colorbar": {
              "outlinewidth": 0,
              "ticks": ""
             }
            },
            "type": "scattergeo"
           }
          ],
          "scattergl": [
           {
            "marker": {
             "colorbar": {
              "outlinewidth": 0,
              "ticks": ""
             }
            },
            "type": "scattergl"
           }
          ],
          "scattermapbox": [
           {
            "marker": {
             "colorbar": {
              "outlinewidth": 0,
              "ticks": ""
             }
            },
            "type": "scattermapbox"
           }
          ],
          "scatterpolar": [
           {
            "marker": {
             "colorbar": {
              "outlinewidth": 0,
              "ticks": ""
             }
            },
            "type": "scatterpolar"
           }
          ],
          "scatterpolargl": [
           {
            "marker": {
             "colorbar": {
              "outlinewidth": 0,
              "ticks": ""
             }
            },
            "type": "scatterpolargl"
           }
          ],
          "scatterternary": [
           {
            "marker": {
             "colorbar": {
              "outlinewidth": 0,
              "ticks": ""
             }
            },
            "type": "scatterternary"
           }
          ],
          "surface": [
           {
            "colorbar": {
             "outlinewidth": 0,
             "ticks": ""
            },
            "colorscale": [
             [
              0,
              "#0d0887"
             ],
             [
              0.1111111111111111,
              "#46039f"
             ],
             [
              0.2222222222222222,
              "#7201a8"
             ],
             [
              0.3333333333333333,
              "#9c179e"
             ],
             [
              0.4444444444444444,
              "#bd3786"
             ],
             [
              0.5555555555555556,
              "#d8576b"
             ],
             [
              0.6666666666666666,
              "#ed7953"
             ],
             [
              0.7777777777777778,
              "#fb9f3a"
             ],
             [
              0.8888888888888888,
              "#fdca26"
             ],
             [
              1,
              "#f0f921"
             ]
            ],
            "type": "surface"
           }
          ],
          "table": [
           {
            "cells": {
             "fill": {
              "color": "#EBF0F8"
             },
             "line": {
              "color": "white"
             }
            },
            "header": {
             "fill": {
              "color": "#C8D4E3"
             },
             "line": {
              "color": "white"
             }
            },
            "type": "table"
           }
          ]
         },
         "layout": {
          "annotationdefaults": {
           "arrowcolor": "#2a3f5f",
           "arrowhead": 0,
           "arrowwidth": 1
          },
          "autotypenumbers": "strict",
          "coloraxis": {
           "colorbar": {
            "outlinewidth": 0,
            "ticks": ""
           }
          },
          "colorscale": {
           "diverging": [
            [
             0,
             "#8e0152"
            ],
            [
             0.1,
             "#c51b7d"
            ],
            [
             0.2,
             "#de77ae"
            ],
            [
             0.3,
             "#f1b6da"
            ],
            [
             0.4,
             "#fde0ef"
            ],
            [
             0.5,
             "#f7f7f7"
            ],
            [
             0.6,
             "#e6f5d0"
            ],
            [
             0.7,
             "#b8e186"
            ],
            [
             0.8,
             "#7fbc41"
            ],
            [
             0.9,
             "#4d9221"
            ],
            [
             1,
             "#276419"
            ]
           ],
           "sequential": [
            [
             0,
             "#0d0887"
            ],
            [
             0.1111111111111111,
             "#46039f"
            ],
            [
             0.2222222222222222,
             "#7201a8"
            ],
            [
             0.3333333333333333,
             "#9c179e"
            ],
            [
             0.4444444444444444,
             "#bd3786"
            ],
            [
             0.5555555555555556,
             "#d8576b"
            ],
            [
             0.6666666666666666,
             "#ed7953"
            ],
            [
             0.7777777777777778,
             "#fb9f3a"
            ],
            [
             0.8888888888888888,
             "#fdca26"
            ],
            [
             1,
             "#f0f921"
            ]
           ],
           "sequentialminus": [
            [
             0,
             "#0d0887"
            ],
            [
             0.1111111111111111,
             "#46039f"
            ],
            [
             0.2222222222222222,
             "#7201a8"
            ],
            [
             0.3333333333333333,
             "#9c179e"
            ],
            [
             0.4444444444444444,
             "#bd3786"
            ],
            [
             0.5555555555555556,
             "#d8576b"
            ],
            [
             0.6666666666666666,
             "#ed7953"
            ],
            [
             0.7777777777777778,
             "#fb9f3a"
            ],
            [
             0.8888888888888888,
             "#fdca26"
            ],
            [
             1,
             "#f0f921"
            ]
           ]
          },
          "colorway": [
           "#636efa",
           "#EF553B",
           "#00cc96",
           "#ab63fa",
           "#FFA15A",
           "#19d3f3",
           "#FF6692",
           "#B6E880",
           "#FF97FF",
           "#FECB52"
          ],
          "font": {
           "color": "#2a3f5f"
          },
          "geo": {
           "bgcolor": "white",
           "lakecolor": "white",
           "landcolor": "#E5ECF6",
           "showlakes": true,
           "showland": true,
           "subunitcolor": "white"
          },
          "hoverlabel": {
           "align": "left"
          },
          "hovermode": "closest",
          "mapbox": {
           "style": "light"
          },
          "paper_bgcolor": "white",
          "plot_bgcolor": "#E5ECF6",
          "polar": {
           "angularaxis": {
            "gridcolor": "white",
            "linecolor": "white",
            "ticks": ""
           },
           "bgcolor": "#E5ECF6",
           "radialaxis": {
            "gridcolor": "white",
            "linecolor": "white",
            "ticks": ""
           }
          },
          "scene": {
           "xaxis": {
            "backgroundcolor": "#E5ECF6",
            "gridcolor": "white",
            "gridwidth": 2,
            "linecolor": "white",
            "showbackground": true,
            "ticks": "",
            "zerolinecolor": "white"
           },
           "yaxis": {
            "backgroundcolor": "#E5ECF6",
            "gridcolor": "white",
            "gridwidth": 2,
            "linecolor": "white",
            "showbackground": true,
            "ticks": "",
            "zerolinecolor": "white"
           },
           "zaxis": {
            "backgroundcolor": "#E5ECF6",
            "gridcolor": "white",
            "gridwidth": 2,
            "linecolor": "white",
            "showbackground": true,
            "ticks": "",
            "zerolinecolor": "white"
           }
          },
          "shapedefaults": {
           "line": {
            "color": "#2a3f5f"
           }
          },
          "ternary": {
           "aaxis": {
            "gridcolor": "white",
            "linecolor": "white",
            "ticks": ""
           },
           "baxis": {
            "gridcolor": "white",
            "linecolor": "white",
            "ticks": ""
           },
           "bgcolor": "#E5ECF6",
           "caxis": {
            "gridcolor": "white",
            "linecolor": "white",
            "ticks": ""
           }
          },
          "title": {
           "x": 0.05
          },
          "xaxis": {
           "automargin": true,
           "gridcolor": "white",
           "linecolor": "white",
           "ticks": "",
           "title": {
            "standoff": 15
           },
           "zerolinecolor": "white",
           "zerolinewidth": 2
          },
          "yaxis": {
           "automargin": true,
           "gridcolor": "white",
           "linecolor": "white",
           "ticks": "",
           "title": {
            "standoff": 15
           },
           "zerolinecolor": "white",
           "zerolinewidth": 2
          }
         }
        },
        "xaxis": {
         "range": [
          3000,
          350000
         ]
        }
       }
      }
     },
     "metadata": {},
     "output_type": "display_data"
    }
   ],
   "source": [
    "\n",
    "\n",
    "fig = go.Figure()\n",
    "scatter = go.Scatter(x= preparedDfForDelayByAirport[\"TOTAL_FLIGHTS\"], y = preparedDfForDelayByAirport[\"AVERAGE_ARRIVAL_DELAY\"], mode = \"markers\", name = \"\",\n",
    "                    customdata = preparedDfForDelayByAirport.AIRPORT,\n",
    "                    hovertemplate = \"%{customdata} <br>Average delay: %{y} min <br>Flights in 2015: %{x}\",\n",
    "                    marker = dict(\n",
    "                        color = \"black\",\n",
    "                        size = 3.5,\n",
    "                        opacity = 0.5)\n",
    "                    )\n",
    "\n",
    "fig.update(layout_xaxis_range = [3000, 350000])\n",
    "fig.add_trace(scatter)\n",
    "fig.show()\n",
    "\n"
   ]
  },
  {
   "cell_type": "code",
   "execution_count": null,
   "metadata": {},
   "outputs": [],
   "source": []
  }
 ],
 "metadata": {
  "interpreter": {
   "hash": "639f3994b8dceab5a82e554cc239ea7aabbfb8dc398744298402812ca933fc08"
  },
  "kernelspec": {
   "display_name": "Python 3.10.4 64-bit",
   "language": "python",
   "name": "python3"
  },
  "language_info": {
   "codemirror_mode": {
    "name": "ipython",
    "version": 3
   },
   "file_extension": ".py",
   "mimetype": "text/x-python",
   "name": "python",
   "nbconvert_exporter": "python",
   "pygments_lexer": "ipython3",
   "version": "3.10.4"
  },
  "orig_nbformat": 4
 },
 "nbformat": 4,
 "nbformat_minor": 2
}
