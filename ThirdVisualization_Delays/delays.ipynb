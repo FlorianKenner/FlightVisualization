{
 "cells": [
  {
   "cell_type": "code",
   "execution_count": 167,
   "metadata": {},
   "outputs": [],
   "source": [
    "import pandas as pd\n",
    "import plotly.graph_objects as go\n",
    "import numpy as np\n"
   ]
  },
  {
   "cell_type": "code",
   "execution_count": 168,
   "metadata": {},
   "outputs": [
    {
     "name": "stderr",
     "output_type": "stream",
     "text": [
      "C:\\Users\\Florian\\AppData\\Local\\Programs\\Python\\Python310\\lib\\site-packages\\IPython\\core\\interactiveshell.py:3369: DtypeWarning:\n",
      "\n",
      "Columns (7,8) have mixed types.Specify dtype option on import or set low_memory=False.\n",
      "\n"
     ]
    },
    {
     "data": {
      "text/html": [
       "<div>\n",
       "<style scoped>\n",
       "    .dataframe tbody tr th:only-of-type {\n",
       "        vertical-align: middle;\n",
       "    }\n",
       "\n",
       "    .dataframe tbody tr th {\n",
       "        vertical-align: top;\n",
       "    }\n",
       "\n",
       "    .dataframe thead th {\n",
       "        text-align: right;\n",
       "    }\n",
       "</style>\n",
       "<table border=\"1\" class=\"dataframe\">\n",
       "  <thead>\n",
       "    <tr style=\"text-align: right;\">\n",
       "      <th></th>\n",
       "      <th>Unnamed: 0</th>\n",
       "      <th>FULL_DATE</th>\n",
       "      <th>YEAR</th>\n",
       "      <th>MONTH</th>\n",
       "      <th>DAY</th>\n",
       "      <th>DAY_OF_WEEK</th>\n",
       "      <th>AIRLINE</th>\n",
       "      <th>ORIGIN_AIRPORT</th>\n",
       "      <th>DESTINATION_AIRPORT</th>\n",
       "      <th>SCHEDULED_DEPARTURE</th>\n",
       "      <th>DEPARTURE_TIME</th>\n",
       "      <th>DEPARTURE_DELAY</th>\n",
       "      <th>SCHEDULED_TIME</th>\n",
       "      <th>ELAPSED_TIME</th>\n",
       "      <th>AIR_TIME</th>\n",
       "      <th>DISTANCE</th>\n",
       "      <th>SCHEDULED_ARRIVAL</th>\n",
       "      <th>ARRIVAL_TIME</th>\n",
       "      <th>ARRIVAL_DELAY</th>\n",
       "      <th>CANCELLED</th>\n",
       "    </tr>\n",
       "  </thead>\n",
       "  <tbody>\n",
       "    <tr>\n",
       "      <th>0</th>\n",
       "      <td>0</td>\n",
       "      <td>2015-01-01</td>\n",
       "      <td>2015</td>\n",
       "      <td>1</td>\n",
       "      <td>1</td>\n",
       "      <td>Thursday</td>\n",
       "      <td>AS</td>\n",
       "      <td>ANC</td>\n",
       "      <td>SEA</td>\n",
       "      <td>00:05</td>\n",
       "      <td>23:54.0</td>\n",
       "      <td>-11.0</td>\n",
       "      <td>205.0</td>\n",
       "      <td>194.0</td>\n",
       "      <td>169.0</td>\n",
       "      <td>1448</td>\n",
       "      <td>430</td>\n",
       "      <td>408.0</td>\n",
       "      <td>-22.0</td>\n",
       "      <td>0</td>\n",
       "    </tr>\n",
       "    <tr>\n",
       "      <th>1</th>\n",
       "      <td>1</td>\n",
       "      <td>2015-01-01</td>\n",
       "      <td>2015</td>\n",
       "      <td>1</td>\n",
       "      <td>1</td>\n",
       "      <td>Thursday</td>\n",
       "      <td>AA</td>\n",
       "      <td>LAX</td>\n",
       "      <td>PBI</td>\n",
       "      <td>00:10</td>\n",
       "      <td>00:02.0</td>\n",
       "      <td>-8.0</td>\n",
       "      <td>280.0</td>\n",
       "      <td>279.0</td>\n",
       "      <td>263.0</td>\n",
       "      <td>2330</td>\n",
       "      <td>750</td>\n",
       "      <td>741.0</td>\n",
       "      <td>-9.0</td>\n",
       "      <td>0</td>\n",
       "    </tr>\n",
       "    <tr>\n",
       "      <th>2</th>\n",
       "      <td>2</td>\n",
       "      <td>2015-01-01</td>\n",
       "      <td>2015</td>\n",
       "      <td>1</td>\n",
       "      <td>1</td>\n",
       "      <td>Thursday</td>\n",
       "      <td>US</td>\n",
       "      <td>SFO</td>\n",
       "      <td>CLT</td>\n",
       "      <td>00:20</td>\n",
       "      <td>00:18.0</td>\n",
       "      <td>-2.0</td>\n",
       "      <td>286.0</td>\n",
       "      <td>293.0</td>\n",
       "      <td>266.0</td>\n",
       "      <td>2296</td>\n",
       "      <td>806</td>\n",
       "      <td>811.0</td>\n",
       "      <td>5.0</td>\n",
       "      <td>0</td>\n",
       "    </tr>\n",
       "    <tr>\n",
       "      <th>3</th>\n",
       "      <td>3</td>\n",
       "      <td>2015-01-01</td>\n",
       "      <td>2015</td>\n",
       "      <td>1</td>\n",
       "      <td>1</td>\n",
       "      <td>Thursday</td>\n",
       "      <td>AA</td>\n",
       "      <td>LAX</td>\n",
       "      <td>MIA</td>\n",
       "      <td>00:20</td>\n",
       "      <td>00:15.0</td>\n",
       "      <td>-5.0</td>\n",
       "      <td>285.0</td>\n",
       "      <td>281.0</td>\n",
       "      <td>258.0</td>\n",
       "      <td>2342</td>\n",
       "      <td>805</td>\n",
       "      <td>756.0</td>\n",
       "      <td>-9.0</td>\n",
       "      <td>0</td>\n",
       "    </tr>\n",
       "    <tr>\n",
       "      <th>4</th>\n",
       "      <td>4</td>\n",
       "      <td>2015-01-01</td>\n",
       "      <td>2015</td>\n",
       "      <td>1</td>\n",
       "      <td>1</td>\n",
       "      <td>Thursday</td>\n",
       "      <td>AS</td>\n",
       "      <td>SEA</td>\n",
       "      <td>ANC</td>\n",
       "      <td>00:25</td>\n",
       "      <td>00:24.0</td>\n",
       "      <td>-1.0</td>\n",
       "      <td>235.0</td>\n",
       "      <td>215.0</td>\n",
       "      <td>199.0</td>\n",
       "      <td>1448</td>\n",
       "      <td>320</td>\n",
       "      <td>259.0</td>\n",
       "      <td>-21.0</td>\n",
       "      <td>0</td>\n",
       "    </tr>\n",
       "  </tbody>\n",
       "</table>\n",
       "</div>"
      ],
      "text/plain": [
       "   Unnamed: 0   FULL_DATE  YEAR  MONTH  DAY DAY_OF_WEEK AIRLINE  \\\n",
       "0           0  2015-01-01  2015      1    1    Thursday      AS   \n",
       "1           1  2015-01-01  2015      1    1    Thursday      AA   \n",
       "2           2  2015-01-01  2015      1    1    Thursday      US   \n",
       "3           3  2015-01-01  2015      1    1    Thursday      AA   \n",
       "4           4  2015-01-01  2015      1    1    Thursday      AS   \n",
       "\n",
       "  ORIGIN_AIRPORT DESTINATION_AIRPORT SCHEDULED_DEPARTURE DEPARTURE_TIME  \\\n",
       "0            ANC                 SEA               00:05        23:54.0   \n",
       "1            LAX                 PBI               00:10        00:02.0   \n",
       "2            SFO                 CLT               00:20        00:18.0   \n",
       "3            LAX                 MIA               00:20        00:15.0   \n",
       "4            SEA                 ANC               00:25        00:24.0   \n",
       "\n",
       "   DEPARTURE_DELAY  SCHEDULED_TIME  ELAPSED_TIME  AIR_TIME  DISTANCE  \\\n",
       "0            -11.0           205.0         194.0     169.0      1448   \n",
       "1             -8.0           280.0         279.0     263.0      2330   \n",
       "2             -2.0           286.0         293.0     266.0      2296   \n",
       "3             -5.0           285.0         281.0     258.0      2342   \n",
       "4             -1.0           235.0         215.0     199.0      1448   \n",
       "\n",
       "   SCHEDULED_ARRIVAL  ARRIVAL_TIME  ARRIVAL_DELAY  CANCELLED  \n",
       "0                430         408.0          -22.0          0  \n",
       "1                750         741.0           -9.0          0  \n",
       "2                806         811.0            5.0          0  \n",
       "3                805         756.0           -9.0          0  \n",
       "4                320         259.0          -21.0          0  "
      ]
     },
     "execution_count": 168,
     "metadata": {},
     "output_type": "execute_result"
    }
   ],
   "source": [
    "df = pd.read_csv(\"../data/CleanedFlights.csv\")\n",
    "df = df[df[\"CANCELLED\"] == 0]\n",
    "dfAirports = pd.read_csv(\"../data/Airports.csv\")\n",
    "pd.set_option(\"display.max_columns\", None)\n",
    "\n",
    "dfAirlines = pd.read_csv(\"../data/airlines.csv\")\n",
    "# creating dictionaries from the IATA_CODE to the Airport, Latitude and Longiture\n",
    "\n",
    "AirportDict = pd.Series(dfAirports.AIRPORT.values, index = dfAirports.IATA_CODE).to_dict()\n",
    "AirLineDict = pd.Series(dfAirlines.AIRLINE.values, index = dfAirlines.IATA_CODE).to_dict()\n",
    "LatitudeDict = pd.Series(dfAirports.LATITUDE.values, index = dfAirports.IATA_CODE).to_dict()\n",
    "LongitudeDict = pd.Series(dfAirports.LONGITUDE.values, index = dfAirports.IATA_CODE).to_dict()\n",
    "\n",
    "df.head()"
   ]
  },
  {
   "cell_type": "code",
   "execution_count": 169,
   "metadata": {},
   "outputs": [],
   "source": [
    "#  df for delay by airport and total flights from this airport\n",
    "\n",
    "count = pd.DataFrame(df.groupby([\"ORIGIN_AIRPORT\"]).count()[\"YEAR\"])\n",
    "df2 = df.groupby([\"ORIGIN_AIRPORT\"]).mean()\n",
    "preparedDfForDelayByAirport = pd.DataFrame({\n",
    "    \"TOTAL_FLIGHTS\" : count[\"YEAR\"], \n",
    "    \"AVERAGE_ARRIVAL_DELAY\": df2.ARRIVAL_DELAY })\n",
    "preparedDfForDelayByAirport = preparedDfForDelayByAirport.reset_index(drop= False)\n",
    "preparedDfForDelayByAirport = preparedDfForDelayByAirport.sort_values(by = \"AVERAGE_ARRIVAL_DELAY\")\n",
    "preparedDfForDelayByAirport = preparedDfForDelayByAirport[preparedDfForDelayByAirport[\"TOTAL_FLIGHTS\"] > 5000]\n",
    "preparedDfForDelayByAirport.insert(column = \"AIRPORT\", loc = 0, value = preparedDfForDelayByAirport.ORIGIN_AIRPORT.map(AirportDict))\n",
    "preparedDfForDelayByAirport.drop(columns = [\"ORIGIN_AIRPORT\"])\n",
    "preparedDfForDelayByAirport = preparedDfForDelayByAirport.dropna()\n",
    "# preparedDfForDelayByAirport.head()"
   ]
  },
  {
   "cell_type": "code",
   "execution_count": 170,
   "metadata": {},
   "outputs": [
    {
     "name": "stderr",
     "output_type": "stream",
     "text": [
      "C:\\Users\\Florian\\AppData\\Local\\Programs\\Python\\Python310\\lib\\site-packages\\IPython\\core\\interactiveshell.py:3369: DtypeWarning:\n",
      "\n",
      "Columns (7,8) have mixed types.Specify dtype option on import or set low_memory=False.\n",
      "\n"
     ]
    },
    {
     "data": {
      "text/html": [
       "<div>\n",
       "<style scoped>\n",
       "    .dataframe tbody tr th:only-of-type {\n",
       "        vertical-align: middle;\n",
       "    }\n",
       "\n",
       "    .dataframe tbody tr th {\n",
       "        vertical-align: top;\n",
       "    }\n",
       "\n",
       "    .dataframe thead th {\n",
       "        text-align: right;\n",
       "    }\n",
       "</style>\n",
       "<table border=\"1\" class=\"dataframe\">\n",
       "  <thead>\n",
       "    <tr style=\"text-align: right;\">\n",
       "      <th></th>\n",
       "      <th>AIRLINE</th>\n",
       "      <th>TOTAL_FLIGHTS</th>\n",
       "      <th>AVERAGE_ARRIVAL_DELAY</th>\n",
       "    </tr>\n",
       "  </thead>\n",
       "  <tbody>\n",
       "    <tr>\n",
       "      <th>1</th>\n",
       "      <td>Alaska Airlines Inc.</td>\n",
       "      <td>171852</td>\n",
       "      <td>-0.976563</td>\n",
       "    </tr>\n",
       "    <tr>\n",
       "      <th>3</th>\n",
       "      <td>Delta Air Lines Inc.</td>\n",
       "      <td>872057</td>\n",
       "      <td>0.186754</td>\n",
       "    </tr>\n",
       "    <tr>\n",
       "      <th>6</th>\n",
       "      <td>Hawaiian Airlines Inc.</td>\n",
       "      <td>76101</td>\n",
       "      <td>2.023093</td>\n",
       "    </tr>\n",
       "    <tr>\n",
       "      <th>0</th>\n",
       "      <td>American Airlines Inc.</td>\n",
       "      <td>715065</td>\n",
       "      <td>3.451372</td>\n",
       "    </tr>\n",
       "    <tr>\n",
       "      <th>11</th>\n",
       "      <td>US Airways Inc.</td>\n",
       "      <td>194648</td>\n",
       "      <td>3.706209</td>\n",
       "    </tr>\n",
       "  </tbody>\n",
       "</table>\n",
       "</div>"
      ],
      "text/plain": [
       "                   AIRLINE  TOTAL_FLIGHTS  AVERAGE_ARRIVAL_DELAY\n",
       "1     Alaska Airlines Inc.         171852              -0.976563\n",
       "3     Delta Air Lines Inc.         872057               0.186754\n",
       "6   Hawaiian Airlines Inc.          76101               2.023093\n",
       "0   American Airlines Inc.         715065               3.451372\n",
       "11         US Airways Inc.         194648               3.706209"
      ]
     },
     "execution_count": 170,
     "metadata": {},
     "output_type": "execute_result"
    }
   ],
   "source": [
    "# df for delay by airline\n",
    "df = pd.read_csv(\"../data/CleanedFlights.csv\")\n",
    "df = df[df[\"CANCELLED\"] == 0]\n",
    "\n",
    "count = pd.DataFrame(df.groupby([\"AIRLINE\"]).count()[\"YEAR\"])\n",
    "df = df.groupby([\"AIRLINE\"]).mean()\n",
    "dfDelayByAirline = pd.DataFrame({\n",
    "    \"TOTAL_FLIGHTS\" : count[\"YEAR\"], \n",
    "    \"AVERAGE_ARRIVAL_DELAY\": df.ARRIVAL_DELAY }) \n",
    "dfDelayByAirline = dfDelayByAirline.reset_index()\n",
    "dfDelayByAirline[\"AIRLINE\"] = dfDelayByAirline.AIRLINE.map(AirLineDict)\n",
    "dfDelayByAirline = dfDelayByAirline.sort_values(by = [\"AVERAGE_ARRIVAL_DELAY\"])\n",
    "dfDelayByAirline.head()"
   ]
  },
  {
   "cell_type": "code",
   "execution_count": 171,
   "metadata": {},
   "outputs": [
    {
     "name": "stderr",
     "output_type": "stream",
     "text": [
      "C:\\Users\\Florian\\AppData\\Local\\Programs\\Python\\Python310\\lib\\site-packages\\IPython\\core\\interactiveshell.py:3369: DtypeWarning:\n",
      "\n",
      "Columns (7,8) have mixed types.Specify dtype option on import or set low_memory=False.\n",
      "\n"
     ]
    }
   ],
   "source": [
    "# df for delay by weekday \n",
    "\n",
    "df = pd.read_csv(\"../data/CleanedFlights.csv\")\n",
    "df = df[df[\"CANCELLED\"] == 0]\n",
    "\n",
    "count = pd.DataFrame(df.groupby([\"DAY_OF_WEEK\"]).count()[\"YEAR\"])\n",
    "df = df.groupby([\"DAY_OF_WEEK\"]).mean()\n",
    "dfDelayByWeekday = pd.DataFrame({\n",
    "    \"TOTAL_FLIGHTS\" : count[\"YEAR\"], \n",
    "    \"AVERAGE_ARRIVAL_DELAY\": df.ARRIVAL_DELAY }) \n",
    "dfDelayByWeekday= dfDelayByWeekday.reset_index()\n",
    "\n",
    "# dfDelayByWeekday.head(8)"
   ]
  },
  {
   "cell_type": "code",
   "execution_count": 172,
   "metadata": {},
   "outputs": [
    {
     "data": {
      "text/html": [
       "<div>\n",
       "<style scoped>\n",
       "    .dataframe tbody tr th:only-of-type {\n",
       "        vertical-align: middle;\n",
       "    }\n",
       "\n",
       "    .dataframe tbody tr th {\n",
       "        vertical-align: top;\n",
       "    }\n",
       "\n",
       "    .dataframe thead th {\n",
       "        text-align: right;\n",
       "    }\n",
       "</style>\n",
       "<table border=\"1\" class=\"dataframe\">\n",
       "  <thead>\n",
       "    <tr style=\"text-align: right;\">\n",
       "      <th></th>\n",
       "      <th>MONTH</th>\n",
       "      <th>TOTAL_FLIGHTS</th>\n",
       "      <th>AVERAGE_ARRIVAL_DELAY</th>\n",
       "    </tr>\n",
       "  </thead>\n",
       "  <tbody>\n",
       "    <tr>\n",
       "      <th>0</th>\n",
       "      <td>January</td>\n",
       "      <td>469968</td>\n",
       "      <td>5.813583</td>\n",
       "    </tr>\n",
       "    <tr>\n",
       "      <th>1</th>\n",
       "      <td>February</td>\n",
       "      <td>429191</td>\n",
       "      <td>8.320500</td>\n",
       "    </tr>\n",
       "    <tr>\n",
       "      <th>2</th>\n",
       "      <td>March</td>\n",
       "      <td>504312</td>\n",
       "      <td>4.920673</td>\n",
       "    </tr>\n",
       "    <tr>\n",
       "      <th>3</th>\n",
       "      <td>April</td>\n",
       "      <td>485151</td>\n",
       "      <td>3.163190</td>\n",
       "    </tr>\n",
       "    <tr>\n",
       "      <th>4</th>\n",
       "      <td>May</td>\n",
       "      <td>496993</td>\n",
       "      <td>4.485019</td>\n",
       "    </tr>\n",
       "    <tr>\n",
       "      <th>5</th>\n",
       "      <td>June</td>\n",
       "      <td>503897</td>\n",
       "      <td>9.601590</td>\n",
       "    </tr>\n",
       "    <tr>\n",
       "      <th>6</th>\n",
       "      <td>July</td>\n",
       "      <td>520718</td>\n",
       "      <td>6.431775</td>\n",
       "    </tr>\n",
       "    <tr>\n",
       "      <th>7</th>\n",
       "      <td>August</td>\n",
       "      <td>510536</td>\n",
       "      <td>4.607372</td>\n",
       "    </tr>\n",
       "    <tr>\n",
       "      <th>8</th>\n",
       "      <td>September</td>\n",
       "      <td>464946</td>\n",
       "      <td>-0.772571</td>\n",
       "    </tr>\n",
       "    <tr>\n",
       "      <th>9</th>\n",
       "      <td>October</td>\n",
       "      <td>486165</td>\n",
       "      <td>-0.780390</td>\n",
       "    </tr>\n",
       "    <tr>\n",
       "      <th>10</th>\n",
       "      <td>November</td>\n",
       "      <td>467972</td>\n",
       "      <td>1.100784</td>\n",
       "    </tr>\n",
       "    <tr>\n",
       "      <th>11</th>\n",
       "      <td>December</td>\n",
       "      <td>479230</td>\n",
       "      <td>6.092903</td>\n",
       "    </tr>\n",
       "  </tbody>\n",
       "</table>\n",
       "</div>"
      ],
      "text/plain": [
       "        MONTH  TOTAL_FLIGHTS  AVERAGE_ARRIVAL_DELAY\n",
       "0     January         469968               5.813583\n",
       "1    February         429191               8.320500\n",
       "2       March         504312               4.920673\n",
       "3       April         485151               3.163190\n",
       "4         May         496993               4.485019\n",
       "5        June         503897               9.601590\n",
       "6        July         520718               6.431775\n",
       "7      August         510536               4.607372\n",
       "8   September         464946              -0.772571\n",
       "9     October         486165              -0.780390\n",
       "10   November         467972               1.100784\n",
       "11   December         479230               6.092903"
      ]
     },
     "execution_count": 172,
     "metadata": {},
     "output_type": "execute_result"
    }
   ],
   "source": [
    "# df for delay by month\n",
    "\n",
    "df = pd.read_csv(\"../data/CleanedFlights.csv\")\n",
    "\n",
    "days = [1,2,3,4,5,6,7,8,9,10,11,12]\n",
    "months = [\"January\", \"February\", \"March\", \"April\", \"May\", \"June\", \"July\", \"August\", \"September\", \"October\", \"November\", \"December\"]\n",
    "monthDict = dict(zip(days, months))\n",
    "\n",
    "count = pd.DataFrame(df.groupby([\"MONTH\"]).count()[\"YEAR\"])\n",
    "df = df.groupby([\"MONTH\"]).mean()\n",
    "dfDelayByMonth = pd.DataFrame({\n",
    "    \"TOTAL_FLIGHTS\" : count[\"YEAR\"], \n",
    "    \"AVERAGE_ARRIVAL_DELAY\": df.ARRIVAL_DELAY }) \n",
    "dfDelayByMonth= dfDelayByMonth.reset_index()\n",
    "dfDelayByMonth[\"MONTH\"] = dfDelayByMonth[\"MONTH\"].map(monthDict)\n",
    "\n",
    "dfDelayByMonth.head(12)"
   ]
  },
  {
   "cell_type": "code",
   "execution_count": 185,
   "metadata": {},
   "outputs": [
    {
     "name": "stderr",
     "output_type": "stream",
     "text": [
      "C:\\Users\\Florian\\AppData\\Local\\Programs\\Python\\Python310\\lib\\site-packages\\IPython\\core\\interactiveshell.py:3369: DtypeWarning:\n",
      "\n",
      "Columns (7,8) have mixed types.Specify dtype option on import or set low_memory=False.\n",
      "\n"
     ]
    }
   ],
   "source": [
    "# df for delay by route\n",
    "\n",
    "df = pd.read_csv(\"../data/CleanedFlights.csv\")\n",
    "df = df[df[\"CANCELLED\"] == 0]\n",
    "\n",
    "\n",
    "dfCount = df.groupby([\"ORIGIN_AIRPORT\", \"DESTINATION_AIRPORT\"]).count().sort_values(\"YEAR\", ascending = False)\n",
    "dfCount = dfCount.reset_index()\n",
    "dfCount.insert(column = \"ORIGIN+DESTINATION\", loc = 0, value = dfCount.ORIGIN_AIRPORT + dfCount.DESTINATION_AIRPORT)\n",
    "RouteCountDict = pd.Series(dfCount.YEAR.values, index = dfCount[\"ORIGIN+DESTINATION\"]).to_dict()\n",
    "\n",
    "df = df.groupby([\"ORIGIN_AIRPORT\", \"DESTINATION_AIRPORT\"]).mean()\n",
    "df = df.reset_index()\n",
    "dfDelayByRoute = pd.DataFrame({\n",
    "    \"ORIGIN_AIRPORT\" : df.ORIGIN_AIRPORT,\n",
    "    \"DESTINATION_AIRPORT\" : df.DESTINATION_AIRPORT,\n",
    "    \"AVERAGE_ARRIVAL_DELAY\": df.ARRIVAL_DELAY,\n",
    "    \"ORIGIN+DESTINATION\": df.ORIGIN_AIRPORT + df.DESTINATION_AIRPORT,\n",
    "})\n",
    "dfDelayByRoute.insert(column = \"TOTAL_FLIGHTS\", loc = 3, value = dfDelayByRoute[\"ORIGIN+DESTINATION\"].map(RouteCountDict))\n",
    "\n",
    "dfDelayByRoute.drop(\"ORIGIN+DESTINATION\", axis = 1, inplace= True)\n",
    "dfDelayByRoute.insert(column = \"ORIGIN_AIRPORT_LONG\", loc =1, value = dfDelayByRoute[\"ORIGIN_AIRPORT\"].map(AirportDict))\n",
    "dfDelayByRoute.insert(column = \"DESTINATION_AIRPORT_LONG\", loc = 3, value = dfDelayByRoute[\"DESTINATION_AIRPORT\"].map(AirportDict))\n",
    "dfDelayByRoute.insert(column = \"ORIGIN_AND_DESTINATION\", loc = 5, value = \"From \" + dfDelayByRoute.ORIGIN_AIRPORT_LONG + \"<br>To \" + dfDelayByRoute.DESTINATION_AIRPORT_LONG )\n",
    "dfDelayByRoute.head(5)\n",
    "\n",
    "dfDelayByRoute = dfDelayByRoute.sort_values(by = [\"AVERAGE_ARRIVAL_DELAY\"], ascending = False)\n",
    "dfDelayByRoute = dfDelayByRoute[dfDelayByRoute[\"TOTAL_FLIGHTS\"] > 100]\n"
   ]
  },
  {
   "cell_type": "code",
   "execution_count": 197,
   "metadata": {},
   "outputs": [
    {
     "data": {
      "application/vnd.plotly.v1+json": {
       "config": {
        "plotlyServerURL": "https://plot.ly"
       },
       "data": [
        {
         "customdata": [
          "Alaska Airlines Inc.",
          "Delta Air Lines Inc.",
          "Hawaiian Airlines Inc.",
          "American Airlines Inc.",
          "US Airways Inc.",
          "Southwest Airlines Co.",
          "Virgin America",
          "United Air Lines Inc.",
          "Skywest Airlines Inc.",
          "American Eagle Airlines Inc."
         ],
         "hovertemplate": "%{customdata} <br>Average delay: %{y} min",
         "name": "Delay by Airline - best ten Airlines",
         "showlegend": true,
         "type": "bar",
         "visible": "legendonly",
         "y": [
          -0.9765630924118783,
          0.18675361236390797,
          2.023092805197196,
          3.4513721447256764,
          3.7062088424131026,
          4.3749636792570525,
          4.737705721003135,
          5.431593935741549,
          5.845652151300072,
          6.457873460764516
         ]
        },
        {
         "customdata": [
          "Alaska Airlines Inc.",
          "Delta Air Lines Inc.",
          "Hawaiian Airlines Inc.",
          "American Airlines Inc.",
          "US Airways Inc.",
          "Southwest Airlines Co.",
          "Virgin America",
          "United Air Lines Inc.",
          "Skywest Airlines Inc.",
          "American Eagle Airlines Inc.",
          "Atlantic Southeast Airlines",
          "JetBlue Airways",
          "Frontier Airlines Inc.",
          "Spirit Air Lines"
         ],
         "hovertemplate": "%{customdata} <br>Average delay: %{y} min",
         "name": "Delay by Airline - worst ten Airlines",
         "showlegend": true,
         "type": "bar",
         "visible": "legendonly",
         "y": [
          3.7062088424131026,
          4.3749636792570525,
          4.737705721003135,
          5.431593935741549,
          5.845652151300072,
          6.457873460764516,
          6.585378691739733,
          6.677860800940307,
          12.504706404706404,
          14.471799501705833
         ]
        },
        {
         "customdata": [
          "Friday",
          "Monday",
          "Saturday",
          "Sunday",
          "Thursday",
          "Tuesday",
          "Wednessday"
         ],
         "hovertemplate": "%{customdata} <br>Average delay: %{y} min",
         "name": "Delay by Weekday",
         "showlegend": true,
         "type": "bar",
         "visible": "legendonly",
         "y": [
          4.764079085069422,
          6.002063450202781,
          1.8528920108155913,
          3.9582932010890217,
          5.668333554807981,
          4.246040906503392,
          3.8454678490872136
         ]
        },
        {
         "customdata": [
          "January",
          "February",
          "March",
          "April",
          "May",
          "June",
          "July",
          "August",
          "September",
          "October",
          "November",
          "December"
         ],
         "hovertemplate": "%{customdata} <br>Average delay: %{y} min",
         "name": "Delay by Month",
         "showlegend": true,
         "type": "bar",
         "visible": "legendonly",
         "y": [
          5.813582983416227,
          8.320500020850556,
          4.92067265685641,
          3.1631900611579318,
          4.485018615679651,
          9.601590351569554,
          6.4317747052785466,
          4.607372469025074,
          -0.7725709883956179,
          -0.780389663641748,
          1.100783576682592,
          6.092902747824754
         ]
        },
        {
         "customdata": [
          "From Aspen-Pitkin County Airport<br>To Dallas/Fort Worth International Airport",
          "From John F. Kennedy International Airport (New York International Airport)<br>To Eagle County Regional Airport",
          "From Oakland International Airport<br>To George Bush Intercontinental Airport",
          "From Atlantic City International Airport<br>To Detroit Metropolitan Airport",
          "From Minneapolis-Saint Paul International Airport<br>To Trenton Mercer Airport",
          "From Sarasota-Bradenton International Airport<br>To LaGuardia Airport (Marine Air Terminal)",
          "From Yeager Airport<br>To Dallas/Fort Worth International Airport",
          "From Atlantic City International Airport<br>To Gen. Edward Lawrence Logan International Airport",
          "From Eagle County Regional Airport<br>To Chicago O'Hare International Airport",
          "From Dallas/Fort Worth International Airport<br>To Kahului Airport"
         ],
         "hovertemplate": "%{customdata}<br>Average delay: %{y} min",
         "name": "Delay by Route - Best ten Routes",
         "showlegend": true,
         "type": "bar",
         "visible": "legendonly",
         "y": [
          39.965648854961835,
          38.00952380952381,
          34.02873563218391,
          30.896551724137932,
          30.225165562913908,
          30.169047619047618,
          29.615942028985508,
          29.42222222222222,
          28.931372549019606,
          28.856565656565657
         ]
        },
        {
         "customdata": [
          "From Bozeman Yellowstone International Airport (Gallatin Field Airport)<br>To Portland International Airport",
          "From Raleigh-Durham International Airport<br>To Dallas Love Field",
          "From Pittsburgh International Airport<br>To Dallas Love Field",
          "From Portland International Airport<br>To Bozeman Yellowstone International Airport (Gallatin Field Airport)",
          null,
          "From Honolulu International Airport<br>To Bellingham International Airport",
          "From Canyonlands Field<br>To Salt Lake City International Airport",
          "From Portland International Airport<br>To Kona International Airport at Keahole",
          "From Kona International Airport at Keahole<br>To San Diego International Airport (Lindbergh Field)",
          "From Charleston International Airport/Charleston AFB<br>To Dallas Love Field"
         ],
         "hovertemplate": "%{customdata}<br>Average delay: %{y} min",
         "name": "Delay by Route - Worst ten Routes",
         "showlegend": true,
         "type": "bar",
         "visible": "legendonly",
         "y": [
          -17.878260869565217,
          -18.601769911504423,
          -18.859649122807017,
          -19.32456140350877,
          -19.765060240963855,
          -19.835526315789473,
          -20.678048780487806,
          -21.78409090909091,
          -22.474137931034484,
          -23.564885496183205
         ]
        }
       ],
       "layout": {
        "template": {
         "data": {
          "bar": [
           {
            "error_x": {
             "color": "#2a3f5f"
            },
            "error_y": {
             "color": "#2a3f5f"
            },
            "marker": {
             "line": {
              "color": "#E5ECF6",
              "width": 0.5
             },
             "pattern": {
              "fillmode": "overlay",
              "size": 10,
              "solidity": 0.2
             }
            },
            "type": "bar"
           }
          ],
          "barpolar": [
           {
            "marker": {
             "line": {
              "color": "#E5ECF6",
              "width": 0.5
             },
             "pattern": {
              "fillmode": "overlay",
              "size": 10,
              "solidity": 0.2
             }
            },
            "type": "barpolar"
           }
          ],
          "carpet": [
           {
            "aaxis": {
             "endlinecolor": "#2a3f5f",
             "gridcolor": "white",
             "linecolor": "white",
             "minorgridcolor": "white",
             "startlinecolor": "#2a3f5f"
            },
            "baxis": {
             "endlinecolor": "#2a3f5f",
             "gridcolor": "white",
             "linecolor": "white",
             "minorgridcolor": "white",
             "startlinecolor": "#2a3f5f"
            },
            "type": "carpet"
           }
          ],
          "choropleth": [
           {
            "colorbar": {
             "outlinewidth": 0,
             "ticks": ""
            },
            "type": "choropleth"
           }
          ],
          "contour": [
           {
            "colorbar": {
             "outlinewidth": 0,
             "ticks": ""
            },
            "colorscale": [
             [
              0,
              "#0d0887"
             ],
             [
              0.1111111111111111,
              "#46039f"
             ],
             [
              0.2222222222222222,
              "#7201a8"
             ],
             [
              0.3333333333333333,
              "#9c179e"
             ],
             [
              0.4444444444444444,
              "#bd3786"
             ],
             [
              0.5555555555555556,
              "#d8576b"
             ],
             [
              0.6666666666666666,
              "#ed7953"
             ],
             [
              0.7777777777777778,
              "#fb9f3a"
             ],
             [
              0.8888888888888888,
              "#fdca26"
             ],
             [
              1,
              "#f0f921"
             ]
            ],
            "type": "contour"
           }
          ],
          "contourcarpet": [
           {
            "colorbar": {
             "outlinewidth": 0,
             "ticks": ""
            },
            "type": "contourcarpet"
           }
          ],
          "heatmap": [
           {
            "colorbar": {
             "outlinewidth": 0,
             "ticks": ""
            },
            "colorscale": [
             [
              0,
              "#0d0887"
             ],
             [
              0.1111111111111111,
              "#46039f"
             ],
             [
              0.2222222222222222,
              "#7201a8"
             ],
             [
              0.3333333333333333,
              "#9c179e"
             ],
             [
              0.4444444444444444,
              "#bd3786"
             ],
             [
              0.5555555555555556,
              "#d8576b"
             ],
             [
              0.6666666666666666,
              "#ed7953"
             ],
             [
              0.7777777777777778,
              "#fb9f3a"
             ],
             [
              0.8888888888888888,
              "#fdca26"
             ],
             [
              1,
              "#f0f921"
             ]
            ],
            "type": "heatmap"
           }
          ],
          "heatmapgl": [
           {
            "colorbar": {
             "outlinewidth": 0,
             "ticks": ""
            },
            "colorscale": [
             [
              0,
              "#0d0887"
             ],
             [
              0.1111111111111111,
              "#46039f"
             ],
             [
              0.2222222222222222,
              "#7201a8"
             ],
             [
              0.3333333333333333,
              "#9c179e"
             ],
             [
              0.4444444444444444,
              "#bd3786"
             ],
             [
              0.5555555555555556,
              "#d8576b"
             ],
             [
              0.6666666666666666,
              "#ed7953"
             ],
             [
              0.7777777777777778,
              "#fb9f3a"
             ],
             [
              0.8888888888888888,
              "#fdca26"
             ],
             [
              1,
              "#f0f921"
             ]
            ],
            "type": "heatmapgl"
           }
          ],
          "histogram": [
           {
            "marker": {
             "pattern": {
              "fillmode": "overlay",
              "size": 10,
              "solidity": 0.2
             }
            },
            "type": "histogram"
           }
          ],
          "histogram2d": [
           {
            "colorbar": {
             "outlinewidth": 0,
             "ticks": ""
            },
            "colorscale": [
             [
              0,
              "#0d0887"
             ],
             [
              0.1111111111111111,
              "#46039f"
             ],
             [
              0.2222222222222222,
              "#7201a8"
             ],
             [
              0.3333333333333333,
              "#9c179e"
             ],
             [
              0.4444444444444444,
              "#bd3786"
             ],
             [
              0.5555555555555556,
              "#d8576b"
             ],
             [
              0.6666666666666666,
              "#ed7953"
             ],
             [
              0.7777777777777778,
              "#fb9f3a"
             ],
             [
              0.8888888888888888,
              "#fdca26"
             ],
             [
              1,
              "#f0f921"
             ]
            ],
            "type": "histogram2d"
           }
          ],
          "histogram2dcontour": [
           {
            "colorbar": {
             "outlinewidth": 0,
             "ticks": ""
            },
            "colorscale": [
             [
              0,
              "#0d0887"
             ],
             [
              0.1111111111111111,
              "#46039f"
             ],
             [
              0.2222222222222222,
              "#7201a8"
             ],
             [
              0.3333333333333333,
              "#9c179e"
             ],
             [
              0.4444444444444444,
              "#bd3786"
             ],
             [
              0.5555555555555556,
              "#d8576b"
             ],
             [
              0.6666666666666666,
              "#ed7953"
             ],
             [
              0.7777777777777778,
              "#fb9f3a"
             ],
             [
              0.8888888888888888,
              "#fdca26"
             ],
             [
              1,
              "#f0f921"
             ]
            ],
            "type": "histogram2dcontour"
           }
          ],
          "mesh3d": [
           {
            "colorbar": {
             "outlinewidth": 0,
             "ticks": ""
            },
            "type": "mesh3d"
           }
          ],
          "parcoords": [
           {
            "line": {
             "colorbar": {
              "outlinewidth": 0,
              "ticks": ""
             }
            },
            "type": "parcoords"
           }
          ],
          "pie": [
           {
            "automargin": true,
            "type": "pie"
           }
          ],
          "scatter": [
           {
            "fillpattern": {
             "fillmode": "overlay",
             "size": 10,
             "solidity": 0.2
            },
            "type": "scatter"
           }
          ],
          "scatter3d": [
           {
            "line": {
             "colorbar": {
              "outlinewidth": 0,
              "ticks": ""
             }
            },
            "marker": {
             "colorbar": {
              "outlinewidth": 0,
              "ticks": ""
             }
            },
            "type": "scatter3d"
           }
          ],
          "scattercarpet": [
           {
            "marker": {
             "colorbar": {
              "outlinewidth": 0,
              "ticks": ""
             }
            },
            "type": "scattercarpet"
           }
          ],
          "scattergeo": [
           {
            "marker": {
             "colorbar": {
              "outlinewidth": 0,
              "ticks": ""
             }
            },
            "type": "scattergeo"
           }
          ],
          "scattergl": [
           {
            "marker": {
             "colorbar": {
              "outlinewidth": 0,
              "ticks": ""
             }
            },
            "type": "scattergl"
           }
          ],
          "scattermapbox": [
           {
            "marker": {
             "colorbar": {
              "outlinewidth": 0,
              "ticks": ""
             }
            },
            "type": "scattermapbox"
           }
          ],
          "scatterpolar": [
           {
            "marker": {
             "colorbar": {
              "outlinewidth": 0,
              "ticks": ""
             }
            },
            "type": "scatterpolar"
           }
          ],
          "scatterpolargl": [
           {
            "marker": {
             "colorbar": {
              "outlinewidth": 0,
              "ticks": ""
             }
            },
            "type": "scatterpolargl"
           }
          ],
          "scatterternary": [
           {
            "marker": {
             "colorbar": {
              "outlinewidth": 0,
              "ticks": ""
             }
            },
            "type": "scatterternary"
           }
          ],
          "surface": [
           {
            "colorbar": {
             "outlinewidth": 0,
             "ticks": ""
            },
            "colorscale": [
             [
              0,
              "#0d0887"
             ],
             [
              0.1111111111111111,
              "#46039f"
             ],
             [
              0.2222222222222222,
              "#7201a8"
             ],
             [
              0.3333333333333333,
              "#9c179e"
             ],
             [
              0.4444444444444444,
              "#bd3786"
             ],
             [
              0.5555555555555556,
              "#d8576b"
             ],
             [
              0.6666666666666666,
              "#ed7953"
             ],
             [
              0.7777777777777778,
              "#fb9f3a"
             ],
             [
              0.8888888888888888,
              "#fdca26"
             ],
             [
              1,
              "#f0f921"
             ]
            ],
            "type": "surface"
           }
          ],
          "table": [
           {
            "cells": {
             "fill": {
              "color": "#EBF0F8"
             },
             "line": {
              "color": "white"
             }
            },
            "header": {
             "fill": {
              "color": "#C8D4E3"
             },
             "line": {
              "color": "white"
             }
            },
            "type": "table"
           }
          ]
         },
         "layout": {
          "annotationdefaults": {
           "arrowcolor": "#2a3f5f",
           "arrowhead": 0,
           "arrowwidth": 1
          },
          "autotypenumbers": "strict",
          "coloraxis": {
           "colorbar": {
            "outlinewidth": 0,
            "ticks": ""
           }
          },
          "colorscale": {
           "diverging": [
            [
             0,
             "#8e0152"
            ],
            [
             0.1,
             "#c51b7d"
            ],
            [
             0.2,
             "#de77ae"
            ],
            [
             0.3,
             "#f1b6da"
            ],
            [
             0.4,
             "#fde0ef"
            ],
            [
             0.5,
             "#f7f7f7"
            ],
            [
             0.6,
             "#e6f5d0"
            ],
            [
             0.7,
             "#b8e186"
            ],
            [
             0.8,
             "#7fbc41"
            ],
            [
             0.9,
             "#4d9221"
            ],
            [
             1,
             "#276419"
            ]
           ],
           "sequential": [
            [
             0,
             "#0d0887"
            ],
            [
             0.1111111111111111,
             "#46039f"
            ],
            [
             0.2222222222222222,
             "#7201a8"
            ],
            [
             0.3333333333333333,
             "#9c179e"
            ],
            [
             0.4444444444444444,
             "#bd3786"
            ],
            [
             0.5555555555555556,
             "#d8576b"
            ],
            [
             0.6666666666666666,
             "#ed7953"
            ],
            [
             0.7777777777777778,
             "#fb9f3a"
            ],
            [
             0.8888888888888888,
             "#fdca26"
            ],
            [
             1,
             "#f0f921"
            ]
           ],
           "sequentialminus": [
            [
             0,
             "#0d0887"
            ],
            [
             0.1111111111111111,
             "#46039f"
            ],
            [
             0.2222222222222222,
             "#7201a8"
            ],
            [
             0.3333333333333333,
             "#9c179e"
            ],
            [
             0.4444444444444444,
             "#bd3786"
            ],
            [
             0.5555555555555556,
             "#d8576b"
            ],
            [
             0.6666666666666666,
             "#ed7953"
            ],
            [
             0.7777777777777778,
             "#fb9f3a"
            ],
            [
             0.8888888888888888,
             "#fdca26"
            ],
            [
             1,
             "#f0f921"
            ]
           ]
          },
          "colorway": [
           "#636efa",
           "#EF553B",
           "#00cc96",
           "#ab63fa",
           "#FFA15A",
           "#19d3f3",
           "#FF6692",
           "#B6E880",
           "#FF97FF",
           "#FECB52"
          ],
          "font": {
           "color": "#2a3f5f"
          },
          "geo": {
           "bgcolor": "white",
           "lakecolor": "white",
           "landcolor": "#E5ECF6",
           "showlakes": true,
           "showland": true,
           "subunitcolor": "white"
          },
          "hoverlabel": {
           "align": "left"
          },
          "hovermode": "closest",
          "mapbox": {
           "style": "light"
          },
          "paper_bgcolor": "white",
          "plot_bgcolor": "#E5ECF6",
          "polar": {
           "angularaxis": {
            "gridcolor": "white",
            "linecolor": "white",
            "ticks": ""
           },
           "bgcolor": "#E5ECF6",
           "radialaxis": {
            "gridcolor": "white",
            "linecolor": "white",
            "ticks": ""
           }
          },
          "scene": {
           "xaxis": {
            "backgroundcolor": "#E5ECF6",
            "gridcolor": "white",
            "gridwidth": 2,
            "linecolor": "white",
            "showbackground": true,
            "ticks": "",
            "zerolinecolor": "white"
           },
           "yaxis": {
            "backgroundcolor": "#E5ECF6",
            "gridcolor": "white",
            "gridwidth": 2,
            "linecolor": "white",
            "showbackground": true,
            "ticks": "",
            "zerolinecolor": "white"
           },
           "zaxis": {
            "backgroundcolor": "#E5ECF6",
            "gridcolor": "white",
            "gridwidth": 2,
            "linecolor": "white",
            "showbackground": true,
            "ticks": "",
            "zerolinecolor": "white"
           }
          },
          "shapedefaults": {
           "line": {
            "color": "#2a3f5f"
           }
          },
          "ternary": {
           "aaxis": {
            "gridcolor": "white",
            "linecolor": "white",
            "ticks": ""
           },
           "baxis": {
            "gridcolor": "white",
            "linecolor": "white",
            "ticks": ""
           },
           "bgcolor": "#E5ECF6",
           "caxis": {
            "gridcolor": "white",
            "linecolor": "white",
            "ticks": ""
           }
          },
          "title": {
           "x": 0.05
          },
          "xaxis": {
           "automargin": true,
           "gridcolor": "white",
           "linecolor": "white",
           "ticks": "",
           "title": {
            "standoff": 15
           },
           "zerolinecolor": "white",
           "zerolinewidth": 2
          },
          "yaxis": {
           "automargin": true,
           "gridcolor": "white",
           "linecolor": "white",
           "ticks": "",
           "title": {
            "standoff": 15
           },
           "zerolinecolor": "white",
           "zerolinewidth": 2
          }
         }
        }
       }
      }
     },
     "metadata": {},
     "output_type": "display_data"
    }
   ],
   "source": [
    "fig = go.Figure()\n",
    "\n",
    "customDelayByAirlineBest = dfDelayByAirline.drop(dfDelayByAirline.index[10:])\n",
    "customDelayByAirlineWorst = dfDelayByAirline.drop(dfDelayByAirline.index[:len(dfDelayByRoute) - 10])\n",
    "\n",
    "customDelayByRouteBest = dfDelayByRoute.drop(dfDelayByRoute.index[10:])\n",
    "customDelayByRouteWorst = dfDelayByRoute.drop(dfDelayByRoute.index[:len(dfDelayByRoute) - 10])\n",
    "\n",
    "delayByAirlineBestTenBar = go.Bar(y = customDelayByAirlineBest.AVERAGE_ARRIVAL_DELAY, name = \"Delay by Airline - best ten Airlines\", visible = \"legendonly\", showlegend= True,\n",
    "                            customdata = customDelayByAirlineBest.AIRLINE,\n",
    "                            hovertemplate = \"%{customdata} <br>Average delay: %{y} min\")\n",
    "\n",
    "delayByAirlineWorstTenBar = go.Bar(y = dfDelayByAirline.AVERAGE_ARRIVAL_DELAY.tail(10), name = \"Delay by Airline - worst ten Airlines\", visible = \"legendonly\", showlegend= True,\n",
    "                            customdata = dfDelayByAirline.AIRLINE,\n",
    "                            hovertemplate = \"%{customdata} <br>Average delay: %{y} min\")   \n",
    "\n",
    "delayByWeekdayBar = go.Bar(y = dfDelayByWeekday.AVERAGE_ARRIVAL_DELAY, name = \"Delay by Weekday\", visible = \"legendonly\", showlegend= True,\n",
    "                        customdata = dfDelayByWeekday.DAY_OF_WEEK,\n",
    "                        hovertemplate = \"%{customdata} <br>Average delay: %{y} min\")\n",
    "\n",
    "delayByMonthBar = go.Bar(y = dfDelayByMonth.AVERAGE_ARRIVAL_DELAY, name = \"Delay by Month\", visible = \"legendonly\", showlegend = True,\n",
    "                        customdata = dfDelayByMonth.MONTH,\n",
    "                        hovertemplate = \"%{customdata} <br>Average delay: %{y} min\"\n",
    ")\n",
    "delayByRouteBestTenBar = go.Bar(y = customDelayByRouteBest.AVERAGE_ARRIVAL_DELAY, name = \"Delay by Route - Best ten Routes\", visible= \"legendonly\", showlegend = True,\n",
    "                                customdata = customDelayByRouteBest.ORIGIN_AND_DESTINATION,\n",
    "                                hovertemplate = \"%{customdata}<br>Average delay: %{y} min\")\n",
    "\n",
    "delayByRouteWorstTenBar = go.Bar(y = customDelayByRouteWorst.AVERAGE_ARRIVAL_DELAY, name = \"Delay by Route - Worst ten Routes\", visible= \"legendonly\", showlegend = True,\n",
    "                                customdata = customDelayByRouteWorst.ORIGIN_AND_DESTINATION,\n",
    "                                hovertemplate = \"%{customdata}<br>Average delay: %{y} min\")\n",
    "\n",
    "fig.add_trace(delayByAirlineBestTenBar) \n",
    "fig.add_trace(delayByAirlineWorstTenBar)\n",
    "fig.add_trace(delayByWeekdayBar)\n",
    "fig.add_trace(delayByMonthBar)\n",
    "fig.add_trace(delayByRouteBestTenBar)\n",
    "fig.add_trace(delayByRouteWorstTenBar)\n",
    "fig.show()\n",
    "\n"
   ]
  }
 ],
 "metadata": {
  "interpreter": {
   "hash": "639f3994b8dceab5a82e554cc239ea7aabbfb8dc398744298402812ca933fc08"
  },
  "kernelspec": {
   "display_name": "Python 3.10.4 64-bit",
   "language": "python",
   "name": "python3"
  },
  "language_info": {
   "codemirror_mode": {
    "name": "ipython",
    "version": 3
   },
   "file_extension": ".py",
   "mimetype": "text/x-python",
   "name": "python",
   "nbconvert_exporter": "python",
   "pygments_lexer": "ipython3",
   "version": "3.10.4"
  },
  "orig_nbformat": 4
 },
 "nbformat": 4,
 "nbformat_minor": 2
}
