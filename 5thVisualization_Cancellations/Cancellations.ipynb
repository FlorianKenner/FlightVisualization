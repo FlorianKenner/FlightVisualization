{
 "cells": [
  {
   "cell_type": "code",
   "execution_count": null,
   "metadata": {},
   "outputs": [],
   "source": [
    "import pandas as pd\n",
    "import plotly.graph_objects as go\n",
    "import numpy as np"
   ]
  },
  {
   "cell_type": "code",
   "execution_count": null,
   "metadata": {},
   "outputs": [],
   "source": [
    "# loading the dataframe\n",
    "df = pd.read_csv(\"../data/CleanedFlights.csv\")\n",
    "pd.set_option(\"display.max_columns\", None)\n",
    "\n",
    "# loading a dataframe with US-Holidays for more context\n",
    "dfUSHolidays = pd.read_csv(\"../data/USHolidayDates(2004-2021).csv\")\n"
   ]
  }
 ],
 "metadata": {
  "language_info": {
   "name": "python"
  },
  "orig_nbformat": 4
 },
 "nbformat": 4,
 "nbformat_minor": 2
}
