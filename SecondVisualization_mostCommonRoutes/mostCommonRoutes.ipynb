{
 "cells": [
  {
   "cell_type": "code",
   "execution_count": 115,
   "metadata": {},
   "outputs": [],
   "source": [
    "import pandas as pd\n",
    "import plotly.graph_objects as go\n",
    "import numpy as np\n",
    "\n"
   ]
  },
  {
   "cell_type": "code",
   "execution_count": 116,
   "metadata": {},
   "outputs": [
    {
     "name": "stderr",
     "output_type": "stream",
     "text": [
      "C:\\Users\\Florian\\AppData\\Local\\Programs\\Python\\Python310\\lib\\site-packages\\IPython\\core\\interactiveshell.py:3369: DtypeWarning:\n",
      "\n",
      "Columns (7,8) have mixed types.Specify dtype option on import or set low_memory=False.\n",
      "\n"
     ]
    },
    {
     "data": {
      "text/html": [
       "<div>\n",
       "<style scoped>\n",
       "    .dataframe tbody tr th:only-of-type {\n",
       "        vertical-align: middle;\n",
       "    }\n",
       "\n",
       "    .dataframe tbody tr th {\n",
       "        vertical-align: top;\n",
       "    }\n",
       "\n",
       "    .dataframe thead th {\n",
       "        text-align: right;\n",
       "    }\n",
       "</style>\n",
       "<table border=\"1\" class=\"dataframe\">\n",
       "  <thead>\n",
       "    <tr style=\"text-align: right;\">\n",
       "      <th></th>\n",
       "      <th>IATA_CODE</th>\n",
       "      <th>AIRPORT</th>\n",
       "      <th>CITY</th>\n",
       "      <th>STATE</th>\n",
       "      <th>COUNTRY</th>\n",
       "      <th>LATITUDE</th>\n",
       "      <th>LONGITUDE</th>\n",
       "    </tr>\n",
       "  </thead>\n",
       "  <tbody>\n",
       "    <tr>\n",
       "      <th>0</th>\n",
       "      <td>ABE</td>\n",
       "      <td>Lehigh Valley International Airport</td>\n",
       "      <td>Allentown</td>\n",
       "      <td>PA</td>\n",
       "      <td>USA</td>\n",
       "      <td>40.65236</td>\n",
       "      <td>-75.44040</td>\n",
       "    </tr>\n",
       "    <tr>\n",
       "      <th>1</th>\n",
       "      <td>ABI</td>\n",
       "      <td>Abilene Regional Airport</td>\n",
       "      <td>Abilene</td>\n",
       "      <td>TX</td>\n",
       "      <td>USA</td>\n",
       "      <td>32.41132</td>\n",
       "      <td>-99.68190</td>\n",
       "    </tr>\n",
       "    <tr>\n",
       "      <th>2</th>\n",
       "      <td>ABQ</td>\n",
       "      <td>Albuquerque International Sunport</td>\n",
       "      <td>Albuquerque</td>\n",
       "      <td>NM</td>\n",
       "      <td>USA</td>\n",
       "      <td>35.04022</td>\n",
       "      <td>-106.60919</td>\n",
       "    </tr>\n",
       "    <tr>\n",
       "      <th>3</th>\n",
       "      <td>ABR</td>\n",
       "      <td>Aberdeen Regional Airport</td>\n",
       "      <td>Aberdeen</td>\n",
       "      <td>SD</td>\n",
       "      <td>USA</td>\n",
       "      <td>45.44906</td>\n",
       "      <td>-98.42183</td>\n",
       "    </tr>\n",
       "    <tr>\n",
       "      <th>4</th>\n",
       "      <td>ABY</td>\n",
       "      <td>Southwest Georgia Regional Airport</td>\n",
       "      <td>Albany</td>\n",
       "      <td>GA</td>\n",
       "      <td>USA</td>\n",
       "      <td>31.53552</td>\n",
       "      <td>-84.19447</td>\n",
       "    </tr>\n",
       "  </tbody>\n",
       "</table>\n",
       "</div>"
      ],
      "text/plain": [
       "  IATA_CODE                              AIRPORT         CITY STATE COUNTRY  \\\n",
       "0       ABE  Lehigh Valley International Airport    Allentown    PA     USA   \n",
       "1       ABI             Abilene Regional Airport      Abilene    TX     USA   \n",
       "2       ABQ    Albuquerque International Sunport  Albuquerque    NM     USA   \n",
       "3       ABR            Aberdeen Regional Airport     Aberdeen    SD     USA   \n",
       "4       ABY   Southwest Georgia Regional Airport       Albany    GA     USA   \n",
       "\n",
       "   LATITUDE  LONGITUDE  \n",
       "0  40.65236  -75.44040  \n",
       "1  32.41132  -99.68190  \n",
       "2  35.04022 -106.60919  \n",
       "3  45.44906  -98.42183  \n",
       "4  31.53552  -84.19447  "
      ]
     },
     "execution_count": 116,
     "metadata": {},
     "output_type": "execute_result"
    }
   ],
   "source": [
    "# loading the dataframes\n",
    "df = pd.read_csv(\"../data/CleanedFlights.csv\")\n",
    "\n",
    "dfAirports = pd.read_csv(\"../data/Airports.csv\")\n",
    "\n",
    "# Dropping the cancelled Flights, because they are not relevant for this visualization\n",
    "\n",
    "df = df[df[\"CANCELLED\"] == 0]\n",
    "dfAirports.head()"
   ]
  },
  {
   "cell_type": "code",
   "execution_count": 117,
   "metadata": {},
   "outputs": [],
   "source": [
    "# creating dictionaries from the IATA_CODE to the Airport, Latitude and Longiture\n",
    "\n",
    "AirportDict = pd.Series(dfAirports.AIRPORT.values, index = dfAirports.IATA_CODE).to_dict()\n",
    "LatitudeDict = pd.Series(dfAirports.LATITUDE.values, index = dfAirports.IATA_CODE).to_dict()\n",
    "LongitudeDict = pd.Series(dfAirports.LONGITUDE.values, index = dfAirports.IATA_CODE).to_dict()\n"
   ]
  },
  {
   "cell_type": "code",
   "execution_count": 118,
   "metadata": {},
   "outputs": [
    {
     "data": {
      "text/html": [
       "<div>\n",
       "<style scoped>\n",
       "    .dataframe tbody tr th:only-of-type {\n",
       "        vertical-align: middle;\n",
       "    }\n",
       "\n",
       "    .dataframe tbody tr th {\n",
       "        vertical-align: top;\n",
       "    }\n",
       "\n",
       "    .dataframe thead th {\n",
       "        text-align: right;\n",
       "    }\n",
       "</style>\n",
       "<table border=\"1\" class=\"dataframe\">\n",
       "  <thead>\n",
       "    <tr style=\"text-align: right;\">\n",
       "      <th></th>\n",
       "      <th>ORIGIN_AIRPORT_SHORT</th>\n",
       "      <th>DESTINATION_AIRPORT_SHORT</th>\n",
       "      <th>COUNT</th>\n",
       "      <th>ORIGIN_AIRPORT_LONG</th>\n",
       "      <th>ORIGIN_LATITUDE</th>\n",
       "      <th>ORIGIN_LONGITUDE</th>\n",
       "      <th>DESTINATION_AIRPORT_LONG</th>\n",
       "      <th>DESTINATION_LATITUDE</th>\n",
       "      <th>DESTINATION_LONGITUDE</th>\n",
       "    </tr>\n",
       "  </thead>\n",
       "  <tbody>\n",
       "    <tr>\n",
       "      <th>0</th>\n",
       "      <td>SFO</td>\n",
       "      <td>LAX</td>\n",
       "      <td>13406</td>\n",
       "      <td>San Francisco International Airport</td>\n",
       "      <td>37.61900</td>\n",
       "      <td>-122.37484</td>\n",
       "      <td>Los Angeles International Airport</td>\n",
       "      <td>33.94254</td>\n",
       "      <td>-118.40807</td>\n",
       "    </tr>\n",
       "    <tr>\n",
       "      <th>1</th>\n",
       "      <td>LAX</td>\n",
       "      <td>SFO</td>\n",
       "      <td>13115</td>\n",
       "      <td>Los Angeles International Airport</td>\n",
       "      <td>33.94254</td>\n",
       "      <td>-118.40807</td>\n",
       "      <td>San Francisco International Airport</td>\n",
       "      <td>37.61900</td>\n",
       "      <td>-122.37484</td>\n",
       "    </tr>\n",
       "    <tr>\n",
       "      <th>2</th>\n",
       "      <td>JFK</td>\n",
       "      <td>LAX</td>\n",
       "      <td>11875</td>\n",
       "      <td>John F. Kennedy International Airport (New Yor...</td>\n",
       "      <td>40.63975</td>\n",
       "      <td>-73.77893</td>\n",
       "      <td>Los Angeles International Airport</td>\n",
       "      <td>33.94254</td>\n",
       "      <td>-118.40807</td>\n",
       "    </tr>\n",
       "    <tr>\n",
       "      <th>3</th>\n",
       "      <td>LAX</td>\n",
       "      <td>JFK</td>\n",
       "      <td>11872</td>\n",
       "      <td>Los Angeles International Airport</td>\n",
       "      <td>33.94254</td>\n",
       "      <td>-118.40807</td>\n",
       "      <td>John F. Kennedy International Airport (New Yor...</td>\n",
       "      <td>40.63975</td>\n",
       "      <td>-73.77893</td>\n",
       "    </tr>\n",
       "    <tr>\n",
       "      <th>4</th>\n",
       "      <td>LAS</td>\n",
       "      <td>LAX</td>\n",
       "      <td>9652</td>\n",
       "      <td>McCarran International Airport</td>\n",
       "      <td>36.08036</td>\n",
       "      <td>-115.15233</td>\n",
       "      <td>Los Angeles International Airport</td>\n",
       "      <td>33.94254</td>\n",
       "      <td>-118.40807</td>\n",
       "    </tr>\n",
       "    <tr>\n",
       "      <th>5</th>\n",
       "      <td>LAX</td>\n",
       "      <td>LAS</td>\n",
       "      <td>9528</td>\n",
       "      <td>Los Angeles International Airport</td>\n",
       "      <td>33.94254</td>\n",
       "      <td>-118.40807</td>\n",
       "      <td>McCarran International Airport</td>\n",
       "      <td>36.08036</td>\n",
       "      <td>-115.15233</td>\n",
       "    </tr>\n",
       "    <tr>\n",
       "      <th>6</th>\n",
       "      <td>LGA</td>\n",
       "      <td>ORD</td>\n",
       "      <td>9204</td>\n",
       "      <td>LaGuardia Airport (Marine Air Terminal)</td>\n",
       "      <td>40.77724</td>\n",
       "      <td>-73.87261</td>\n",
       "      <td>Chicago O'Hare International Airport</td>\n",
       "      <td>41.97960</td>\n",
       "      <td>-87.90446</td>\n",
       "    </tr>\n",
       "    <tr>\n",
       "      <th>7</th>\n",
       "      <td>ORD</td>\n",
       "      <td>LGA</td>\n",
       "      <td>9167</td>\n",
       "      <td>Chicago O'Hare International Airport</td>\n",
       "      <td>41.97960</td>\n",
       "      <td>-87.90446</td>\n",
       "      <td>LaGuardia Airport (Marine Air Terminal)</td>\n",
       "      <td>40.77724</td>\n",
       "      <td>-73.87261</td>\n",
       "    </tr>\n",
       "    <tr>\n",
       "      <th>8</th>\n",
       "      <td>SFO</td>\n",
       "      <td>JFK</td>\n",
       "      <td>8324</td>\n",
       "      <td>San Francisco International Airport</td>\n",
       "      <td>37.61900</td>\n",
       "      <td>-122.37484</td>\n",
       "      <td>John F. Kennedy International Airport (New Yor...</td>\n",
       "      <td>40.63975</td>\n",
       "      <td>-73.77893</td>\n",
       "    </tr>\n",
       "    <tr>\n",
       "      <th>9</th>\n",
       "      <td>JFK</td>\n",
       "      <td>SFO</td>\n",
       "      <td>8323</td>\n",
       "      <td>John F. Kennedy International Airport (New Yor...</td>\n",
       "      <td>40.63975</td>\n",
       "      <td>-73.77893</td>\n",
       "      <td>San Francisco International Airport</td>\n",
       "      <td>37.61900</td>\n",
       "      <td>-122.37484</td>\n",
       "    </tr>\n",
       "    <tr>\n",
       "      <th>10</th>\n",
       "      <td>OGG</td>\n",
       "      <td>HNL</td>\n",
       "      <td>8269</td>\n",
       "      <td>Kahului Airport</td>\n",
       "      <td>20.89865</td>\n",
       "      <td>-156.43046</td>\n",
       "      <td>Honolulu International Airport</td>\n",
       "      <td>21.31869</td>\n",
       "      <td>-157.92241</td>\n",
       "    </tr>\n",
       "    <tr>\n",
       "      <th>11</th>\n",
       "      <td>HNL</td>\n",
       "      <td>OGG</td>\n",
       "      <td>8254</td>\n",
       "      <td>Honolulu International Airport</td>\n",
       "      <td>21.31869</td>\n",
       "      <td>-157.92241</td>\n",
       "      <td>Kahului Airport</td>\n",
       "      <td>20.89865</td>\n",
       "      <td>-156.43046</td>\n",
       "    </tr>\n",
       "    <tr>\n",
       "      <th>12</th>\n",
       "      <td>ATL</td>\n",
       "      <td>MCO</td>\n",
       "      <td>8165</td>\n",
       "      <td>Hartsfield-Jackson Atlanta International Airport</td>\n",
       "      <td>33.64044</td>\n",
       "      <td>-84.42694</td>\n",
       "      <td>Orlando International Airport</td>\n",
       "      <td>28.42889</td>\n",
       "      <td>-81.31603</td>\n",
       "    </tr>\n",
       "    <tr>\n",
       "      <th>13</th>\n",
       "      <td>MCO</td>\n",
       "      <td>ATL</td>\n",
       "      <td>8162</td>\n",
       "      <td>Orlando International Airport</td>\n",
       "      <td>28.42889</td>\n",
       "      <td>-81.31603</td>\n",
       "      <td>Hartsfield-Jackson Atlanta International Airport</td>\n",
       "      <td>33.64044</td>\n",
       "      <td>-84.42694</td>\n",
       "    </tr>\n",
       "    <tr>\n",
       "      <th>14</th>\n",
       "      <td>LAX</td>\n",
       "      <td>ORD</td>\n",
       "      <td>8149</td>\n",
       "      <td>Los Angeles International Airport</td>\n",
       "      <td>33.94254</td>\n",
       "      <td>-118.40807</td>\n",
       "      <td>Chicago O'Hare International Airport</td>\n",
       "      <td>41.97960</td>\n",
       "      <td>-87.90446</td>\n",
       "    </tr>\n",
       "    <tr>\n",
       "      <th>15</th>\n",
       "      <td>ATL</td>\n",
       "      <td>LGA</td>\n",
       "      <td>8003</td>\n",
       "      <td>Hartsfield-Jackson Atlanta International Airport</td>\n",
       "      <td>33.64044</td>\n",
       "      <td>-84.42694</td>\n",
       "      <td>LaGuardia Airport (Marine Air Terminal)</td>\n",
       "      <td>40.77724</td>\n",
       "      <td>-73.87261</td>\n",
       "    </tr>\n",
       "    <tr>\n",
       "      <th>16</th>\n",
       "      <td>LGA</td>\n",
       "      <td>ATL</td>\n",
       "      <td>7986</td>\n",
       "      <td>LaGuardia Airport (Marine Air Terminal)</td>\n",
       "      <td>40.77724</td>\n",
       "      <td>-73.87261</td>\n",
       "      <td>Hartsfield-Jackson Atlanta International Airport</td>\n",
       "      <td>33.64044</td>\n",
       "      <td>-84.42694</td>\n",
       "    </tr>\n",
       "    <tr>\n",
       "      <th>17</th>\n",
       "      <td>SFO</td>\n",
       "      <td>LAS</td>\n",
       "      <td>7953</td>\n",
       "      <td>San Francisco International Airport</td>\n",
       "      <td>37.61900</td>\n",
       "      <td>-122.37484</td>\n",
       "      <td>McCarran International Airport</td>\n",
       "      <td>36.08036</td>\n",
       "      <td>-115.15233</td>\n",
       "    </tr>\n",
       "    <tr>\n",
       "      <th>18</th>\n",
       "      <td>ORD</td>\n",
       "      <td>LAX</td>\n",
       "      <td>7835</td>\n",
       "      <td>Chicago O'Hare International Airport</td>\n",
       "      <td>41.97960</td>\n",
       "      <td>-87.90446</td>\n",
       "      <td>Los Angeles International Airport</td>\n",
       "      <td>33.94254</td>\n",
       "      <td>-118.40807</td>\n",
       "    </tr>\n",
       "    <tr>\n",
       "      <th>19</th>\n",
       "      <td>LAS</td>\n",
       "      <td>SFO</td>\n",
       "      <td>7816</td>\n",
       "      <td>McCarran International Airport</td>\n",
       "      <td>36.08036</td>\n",
       "      <td>-115.15233</td>\n",
       "      <td>San Francisco International Airport</td>\n",
       "      <td>37.61900</td>\n",
       "      <td>-122.37484</td>\n",
       "    </tr>\n",
       "    <tr>\n",
       "      <th>20</th>\n",
       "      <td>SEA</td>\n",
       "      <td>LAX</td>\n",
       "      <td>7748</td>\n",
       "      <td>Seattle-Tacoma International Airport</td>\n",
       "      <td>47.44898</td>\n",
       "      <td>-122.30931</td>\n",
       "      <td>Los Angeles International Airport</td>\n",
       "      <td>33.94254</td>\n",
       "      <td>-118.40807</td>\n",
       "    </tr>\n",
       "    <tr>\n",
       "      <th>21</th>\n",
       "      <td>LAX</td>\n",
       "      <td>SEA</td>\n",
       "      <td>7705</td>\n",
       "      <td>Los Angeles International Airport</td>\n",
       "      <td>33.94254</td>\n",
       "      <td>-118.40807</td>\n",
       "      <td>Seattle-Tacoma International Airport</td>\n",
       "      <td>47.44898</td>\n",
       "      <td>-122.30931</td>\n",
       "    </tr>\n",
       "    <tr>\n",
       "      <th>22</th>\n",
       "      <td>DFW</td>\n",
       "      <td>ORD</td>\n",
       "      <td>7677</td>\n",
       "      <td>Dallas/Fort Worth International Airport</td>\n",
       "      <td>32.89595</td>\n",
       "      <td>-97.03720</td>\n",
       "      <td>Chicago O'Hare International Airport</td>\n",
       "      <td>41.97960</td>\n",
       "      <td>-87.90446</td>\n",
       "    </tr>\n",
       "    <tr>\n",
       "      <th>23</th>\n",
       "      <td>ORD</td>\n",
       "      <td>DFW</td>\n",
       "      <td>7494</td>\n",
       "      <td>Chicago O'Hare International Airport</td>\n",
       "      <td>41.97960</td>\n",
       "      <td>-87.90446</td>\n",
       "      <td>Dallas/Fort Worth International Airport</td>\n",
       "      <td>32.89595</td>\n",
       "      <td>-97.03720</td>\n",
       "    </tr>\n",
       "    <tr>\n",
       "      <th>24</th>\n",
       "      <td>BOS</td>\n",
       "      <td>DCA</td>\n",
       "      <td>7421</td>\n",
       "      <td>Gen. Edward Lawrence Logan International Airport</td>\n",
       "      <td>42.36435</td>\n",
       "      <td>-71.00518</td>\n",
       "      <td>Ronald Reagan Washington National Airport</td>\n",
       "      <td>38.85208</td>\n",
       "      <td>-77.03772</td>\n",
       "    </tr>\n",
       "  </tbody>\n",
       "</table>\n",
       "</div>"
      ],
      "text/plain": [
       "   ORIGIN_AIRPORT_SHORT DESTINATION_AIRPORT_SHORT  COUNT  \\\n",
       "0                   SFO                       LAX  13406   \n",
       "1                   LAX                       SFO  13115   \n",
       "2                   JFK                       LAX  11875   \n",
       "3                   LAX                       JFK  11872   \n",
       "4                   LAS                       LAX   9652   \n",
       "5                   LAX                       LAS   9528   \n",
       "6                   LGA                       ORD   9204   \n",
       "7                   ORD                       LGA   9167   \n",
       "8                   SFO                       JFK   8324   \n",
       "9                   JFK                       SFO   8323   \n",
       "10                  OGG                       HNL   8269   \n",
       "11                  HNL                       OGG   8254   \n",
       "12                  ATL                       MCO   8165   \n",
       "13                  MCO                       ATL   8162   \n",
       "14                  LAX                       ORD   8149   \n",
       "15                  ATL                       LGA   8003   \n",
       "16                  LGA                       ATL   7986   \n",
       "17                  SFO                       LAS   7953   \n",
       "18                  ORD                       LAX   7835   \n",
       "19                  LAS                       SFO   7816   \n",
       "20                  SEA                       LAX   7748   \n",
       "21                  LAX                       SEA   7705   \n",
       "22                  DFW                       ORD   7677   \n",
       "23                  ORD                       DFW   7494   \n",
       "24                  BOS                       DCA   7421   \n",
       "\n",
       "                                  ORIGIN_AIRPORT_LONG  ORIGIN_LATITUDE  \\\n",
       "0                 San Francisco International Airport         37.61900   \n",
       "1                   Los Angeles International Airport         33.94254   \n",
       "2   John F. Kennedy International Airport (New Yor...         40.63975   \n",
       "3                   Los Angeles International Airport         33.94254   \n",
       "4                      McCarran International Airport         36.08036   \n",
       "5                   Los Angeles International Airport         33.94254   \n",
       "6             LaGuardia Airport (Marine Air Terminal)         40.77724   \n",
       "7                Chicago O'Hare International Airport         41.97960   \n",
       "8                 San Francisco International Airport         37.61900   \n",
       "9   John F. Kennedy International Airport (New Yor...         40.63975   \n",
       "10                                    Kahului Airport         20.89865   \n",
       "11                     Honolulu International Airport         21.31869   \n",
       "12   Hartsfield-Jackson Atlanta International Airport         33.64044   \n",
       "13                      Orlando International Airport         28.42889   \n",
       "14                  Los Angeles International Airport         33.94254   \n",
       "15   Hartsfield-Jackson Atlanta International Airport         33.64044   \n",
       "16            LaGuardia Airport (Marine Air Terminal)         40.77724   \n",
       "17                San Francisco International Airport         37.61900   \n",
       "18               Chicago O'Hare International Airport         41.97960   \n",
       "19                     McCarran International Airport         36.08036   \n",
       "20               Seattle-Tacoma International Airport         47.44898   \n",
       "21                  Los Angeles International Airport         33.94254   \n",
       "22            Dallas/Fort Worth International Airport         32.89595   \n",
       "23               Chicago O'Hare International Airport         41.97960   \n",
       "24   Gen. Edward Lawrence Logan International Airport         42.36435   \n",
       "\n",
       "    ORIGIN_LONGITUDE                           DESTINATION_AIRPORT_LONG  \\\n",
       "0         -122.37484                  Los Angeles International Airport   \n",
       "1         -118.40807                San Francisco International Airport   \n",
       "2          -73.77893                  Los Angeles International Airport   \n",
       "3         -118.40807  John F. Kennedy International Airport (New Yor...   \n",
       "4         -115.15233                  Los Angeles International Airport   \n",
       "5         -118.40807                     McCarran International Airport   \n",
       "6          -73.87261               Chicago O'Hare International Airport   \n",
       "7          -87.90446            LaGuardia Airport (Marine Air Terminal)   \n",
       "8         -122.37484  John F. Kennedy International Airport (New Yor...   \n",
       "9          -73.77893                San Francisco International Airport   \n",
       "10        -156.43046                     Honolulu International Airport   \n",
       "11        -157.92241                                    Kahului Airport   \n",
       "12         -84.42694                      Orlando International Airport   \n",
       "13         -81.31603   Hartsfield-Jackson Atlanta International Airport   \n",
       "14        -118.40807               Chicago O'Hare International Airport   \n",
       "15         -84.42694            LaGuardia Airport (Marine Air Terminal)   \n",
       "16         -73.87261   Hartsfield-Jackson Atlanta International Airport   \n",
       "17        -122.37484                     McCarran International Airport   \n",
       "18         -87.90446                  Los Angeles International Airport   \n",
       "19        -115.15233                San Francisco International Airport   \n",
       "20        -122.30931                  Los Angeles International Airport   \n",
       "21        -118.40807               Seattle-Tacoma International Airport   \n",
       "22         -97.03720               Chicago O'Hare International Airport   \n",
       "23         -87.90446            Dallas/Fort Worth International Airport   \n",
       "24         -71.00518          Ronald Reagan Washington National Airport   \n",
       "\n",
       "    DESTINATION_LATITUDE  DESTINATION_LONGITUDE  \n",
       "0               33.94254             -118.40807  \n",
       "1               37.61900             -122.37484  \n",
       "2               33.94254             -118.40807  \n",
       "3               40.63975              -73.77893  \n",
       "4               33.94254             -118.40807  \n",
       "5               36.08036             -115.15233  \n",
       "6               41.97960              -87.90446  \n",
       "7               40.77724              -73.87261  \n",
       "8               40.63975              -73.77893  \n",
       "9               37.61900             -122.37484  \n",
       "10              21.31869             -157.92241  \n",
       "11              20.89865             -156.43046  \n",
       "12              28.42889              -81.31603  \n",
       "13              33.64044              -84.42694  \n",
       "14              41.97960              -87.90446  \n",
       "15              40.77724              -73.87261  \n",
       "16              33.64044              -84.42694  \n",
       "17              36.08036             -115.15233  \n",
       "18              33.94254             -118.40807  \n",
       "19              37.61900             -122.37484  \n",
       "20              33.94254             -118.40807  \n",
       "21              47.44898             -122.30931  \n",
       "22              41.97960              -87.90446  \n",
       "23              32.89595              -97.03720  \n",
       "24              38.85208              -77.03772  "
      ]
     },
     "execution_count": 118,
     "metadata": {},
     "output_type": "execute_result"
    }
   ],
   "source": [
    "# sorting the dataframe by airport and their total flights\n",
    "\n",
    "df = df.groupby([\"ORIGIN_AIRPORT\", \"DESTINATION_AIRPORT\"]).count().sort_values(\"YEAR\", ascending = False)\n",
    "\n",
    "# dropping not needet columns and renaming\n",
    "\n",
    "df.drop(df.columns[[0,2,3,4,5,6,7,8,9,10,11,12,13,14,15,16,17]], axis = 1, inplace = True)\n",
    "df.rename(columns = {df.columns[0]: \"COUNT\"}, inplace= True)\n",
    "\n",
    "# adding columns for the full airport name, latitude and longitude\n",
    "\n",
    "df.insert(column= \"ORIGIN_AIRPORT_SHORT\", loc = 0, value = df.index.get_level_values(0))\n",
    "df.insert(column= \"DESTINATION_AIRPORT_SHORT\", loc = 1, value = df.index.get_level_values(1))\n",
    "\n",
    "df.insert(column = \"ORIGIN_AIRPORT_LONG\", loc = 3, value = \"\")\n",
    "df.insert(column = \"ORIGIN_LATITUDE\", loc = 4, value = \"\")\n",
    "df.insert(column = \"ORIGIN_LONGITUDE\", loc = 5, value = \"\")\n",
    "\n",
    "df.insert(column = \"DESTINATION_AIRPORT_LONG\", loc = 6, value = \"\")\n",
    "df.insert(column = \"DESTINATION_LATITUDE\", loc = 7, value = \"\")\n",
    "df.insert(column = \"DESTINATION_LONGITUDE\", loc = 8, value = \"\")\n",
    "\n",
    "\n",
    "df[\"ORIGIN_AIRPORT_LONG\"] = df[\"ORIGIN_AIRPORT_SHORT\"].map(AirportDict)\n",
    "df[\"ORIGIN_LATITUDE\"] = df[\"ORIGIN_AIRPORT_SHORT\"].map(LatitudeDict)\n",
    "df[\"ORIGIN_LONGITUDE\"] = df[\"ORIGIN_AIRPORT_SHORT\"].map(LongitudeDict)\n",
    "\n",
    "df[\"DESTINATION_AIRPORT_LONG\"] = df[\"DESTINATION_AIRPORT_SHORT\"].map(AirportDict)\n",
    "df[\"DESTINATION_LATITUDE\"] = df[\"DESTINATION_AIRPORT_SHORT\"].map(LatitudeDict)\n",
    "df[\"DESTINATION_LONGITUDE\"] = df[\"DESTINATION_AIRPORT_SHORT\"].map(LongitudeDict)\n",
    "\n",
    "df = df.reset_index()\n",
    "df.drop(df.columns[[0,1]], axis = 1, inplace = True)\n",
    "df = df[:25]\n",
    "df.head(50)"
   ]
  },
  {
   "cell_type": "code",
   "execution_count": 119,
   "metadata": {},
   "outputs": [],
   "source": [
    "# exporting the re-organized dataframe as csv to use it in an html doc\n",
    "df.to_json(\"DataFrameForMostCommonRoutes.json\", orient= \"index\")"
   ]
  },
  {
   "cell_type": "code",
   "execution_count": 120,
   "metadata": {},
   "outputs": [
    {
     "data": {
      "application/vnd.plotly.v1+json": {
       "config": {
        "plotlyServerURL": "https://plot.ly"
       },
       "data": [
        {
         "marker": {
          "size": 10
         },
         "mode": "markers+lines",
         "type": "scattermapbox"
        },
        {
         "hoverinfo": "text",
         "lat": [
          37.619,
          33.94254
         ],
         "line": {
          "width": 4.468666666666667
         },
         "lon": [
          -122.37484,
          -118.40807
         ],
         "mode": "lines",
         "name": "SFO to LAX",
         "opacity": 0.75,
         "type": "scattermapbox"
        },
        {
         "hoverinfo": "text",
         "lat": [
          33.94254,
          37.619
         ],
         "line": {
          "width": 4.371666666666667
         },
         "lon": [
          -118.40807,
          -122.37484
         ],
         "mode": "lines",
         "name": "LAX to SFO",
         "opacity": 0.75,
         "type": "scattermapbox"
        },
        {
         "hoverinfo": "text",
         "lat": [
          40.63975,
          33.94254
         ],
         "line": {
          "width": 3.9583333333333335
         },
         "lon": [
          -73.77893,
          -118.40807
         ],
         "mode": "lines",
         "name": "JFK to LAX",
         "opacity": 0.75,
         "type": "scattermapbox"
        },
        {
         "hoverinfo": "text",
         "lat": [
          33.94254,
          40.63975
         ],
         "line": {
          "width": 3.957333333333333
         },
         "lon": [
          -118.40807,
          -73.77893
         ],
         "mode": "lines",
         "name": "LAX to JFK",
         "opacity": 0.75,
         "type": "scattermapbox"
        },
        {
         "hoverinfo": "text",
         "lat": [
          36.08036,
          33.94254
         ],
         "line": {
          "width": 3.2173333333333334
         },
         "lon": [
          -115.15233,
          -118.40807
         ],
         "mode": "lines",
         "name": "LAS to LAX",
         "opacity": 0.75,
         "type": "scattermapbox"
        },
        {
         "hoverinfo": "text",
         "lat": [
          33.94254,
          36.08036
         ],
         "line": {
          "width": 3.176
         },
         "lon": [
          -118.40807,
          -115.15233
         ],
         "mode": "lines",
         "name": "LAX to LAS",
         "opacity": 0.75,
         "type": "scattermapbox"
        },
        {
         "hoverinfo": "text",
         "lat": [
          40.77724,
          41.9796
         ],
         "line": {
          "width": 3.068
         },
         "lon": [
          -73.87261,
          -87.90446
         ],
         "mode": "lines",
         "name": "LGA to ORD",
         "opacity": 0.75,
         "type": "scattermapbox"
        },
        {
         "hoverinfo": "text",
         "lat": [
          41.9796,
          40.77724
         ],
         "line": {
          "width": 3.0556666666666668
         },
         "lon": [
          -87.90446,
          -73.87261
         ],
         "mode": "lines",
         "name": "ORD to LGA",
         "opacity": 0.75,
         "type": "scattermapbox"
        },
        {
         "hoverinfo": "text",
         "lat": [
          37.619,
          40.63975
         ],
         "line": {
          "width": 2.7746666666666666
         },
         "lon": [
          -122.37484,
          -73.77893
         ],
         "mode": "lines",
         "name": "SFO to JFK",
         "opacity": 0.75,
         "type": "scattermapbox"
        },
        {
         "hoverinfo": "text",
         "lat": [
          40.63975,
          37.619
         ],
         "line": {
          "width": 2.7743333333333333
         },
         "lon": [
          -73.77893,
          -122.37484
         ],
         "mode": "lines",
         "name": "JFK to SFO",
         "opacity": 0.75,
         "type": "scattermapbox"
        },
        {
         "hoverinfo": "text",
         "lat": [
          20.89865,
          21.31869
         ],
         "line": {
          "width": 2.7563333333333335
         },
         "lon": [
          -156.43046,
          -157.92241
         ],
         "mode": "lines",
         "name": "OGG to HNL",
         "opacity": 0.75,
         "type": "scattermapbox"
        },
        {
         "hoverinfo": "text",
         "lat": [
          21.31869,
          20.89865
         ],
         "line": {
          "width": 2.751333333333333
         },
         "lon": [
          -157.92241,
          -156.43046
         ],
         "mode": "lines",
         "name": "HNL to OGG",
         "opacity": 0.75,
         "type": "scattermapbox"
        },
        {
         "hoverinfo": "text",
         "lat": [
          33.64044,
          28.42889
         ],
         "line": {
          "width": 2.7216666666666667
         },
         "lon": [
          -84.42694,
          -81.31603
         ],
         "mode": "lines",
         "name": "ATL to MCO",
         "opacity": 0.75,
         "type": "scattermapbox"
        },
        {
         "hoverinfo": "text",
         "lat": [
          28.42889,
          33.64044
         ],
         "line": {
          "width": 2.720666666666667
         },
         "lon": [
          -81.31603,
          -84.42694
         ],
         "mode": "lines",
         "name": "MCO to ATL",
         "opacity": 0.75,
         "type": "scattermapbox"
        },
        {
         "hoverinfo": "text",
         "lat": [
          33.94254,
          41.9796
         ],
         "line": {
          "width": 2.7163333333333335
         },
         "lon": [
          -118.40807,
          -87.90446
         ],
         "mode": "lines",
         "name": "LAX to ORD",
         "opacity": 0.75,
         "type": "scattermapbox"
        },
        {
         "hoverinfo": "text",
         "lat": [
          33.64044,
          40.77724
         ],
         "line": {
          "width": 2.667666666666667
         },
         "lon": [
          -84.42694,
          -73.87261
         ],
         "mode": "lines",
         "name": "ATL to LGA",
         "opacity": 0.75,
         "type": "scattermapbox"
        },
        {
         "hoverinfo": "text",
         "lat": [
          40.77724,
          33.64044
         ],
         "line": {
          "width": 2.662
         },
         "lon": [
          -73.87261,
          -84.42694
         ],
         "mode": "lines",
         "name": "LGA to ATL",
         "opacity": 0.75,
         "type": "scattermapbox"
        },
        {
         "hoverinfo": "text",
         "lat": [
          37.619,
          36.08036
         ],
         "line": {
          "width": 2.651
         },
         "lon": [
          -122.37484,
          -115.15233
         ],
         "mode": "lines",
         "name": "SFO to LAS",
         "opacity": 0.75,
         "type": "scattermapbox"
        },
        {
         "hoverinfo": "text",
         "lat": [
          41.9796,
          33.94254
         ],
         "line": {
          "width": 2.611666666666667
         },
         "lon": [
          -87.90446,
          -118.40807
         ],
         "mode": "lines",
         "name": "ORD to LAX",
         "opacity": 0.75,
         "type": "scattermapbox"
        },
        {
         "hoverinfo": "text",
         "lat": [
          36.08036,
          37.619
         ],
         "line": {
          "width": 2.6053333333333333
         },
         "lon": [
          -115.15233,
          -122.37484
         ],
         "mode": "lines",
         "name": "LAS to SFO",
         "opacity": 0.75,
         "type": "scattermapbox"
        },
        {
         "hoverinfo": "text",
         "lat": [
          47.44898,
          33.94254
         ],
         "line": {
          "width": 2.582666666666667
         },
         "lon": [
          -122.30931,
          -118.40807
         ],
         "mode": "lines",
         "name": "SEA to LAX",
         "opacity": 0.75,
         "type": "scattermapbox"
        },
        {
         "hoverinfo": "text",
         "lat": [
          33.94254,
          47.44898
         ],
         "line": {
          "width": 2.5683333333333334
         },
         "lon": [
          -118.40807,
          -122.30931
         ],
         "mode": "lines",
         "name": "LAX to SEA",
         "opacity": 0.75,
         "type": "scattermapbox"
        },
        {
         "hoverinfo": "text",
         "lat": [
          32.89595,
          41.9796
         ],
         "line": {
          "width": 2.559
         },
         "lon": [
          -97.0372,
          -87.90446
         ],
         "mode": "lines",
         "name": "DFW to ORD",
         "opacity": 0.75,
         "type": "scattermapbox"
        },
        {
         "hoverinfo": "text",
         "lat": [
          41.9796,
          32.89595
         ],
         "line": {
          "width": 2.498
         },
         "lon": [
          -87.90446,
          -97.0372
         ],
         "mode": "lines",
         "name": "ORD to DFW",
         "opacity": 0.75,
         "type": "scattermapbox"
        },
        {
         "hoverinfo": "text",
         "lat": [
          42.36435,
          38.85208
         ],
         "line": {
          "width": 2.4736666666666665
         },
         "lon": [
          -71.00518,
          -77.03772
         ],
         "mode": "lines",
         "name": "BOS to DCA",
         "opacity": 0.75,
         "type": "scattermapbox"
        },
        {
         "customdata": [
          "San Francisco International Airport",
          "Los Angeles International Airport",
          "John F. Kennedy International Airport (New York International Airport)",
          "Los Angeles International Airport",
          "McCarran International Airport",
          "Los Angeles International Airport",
          "LaGuardia Airport (Marine Air Terminal)",
          "Chicago O'Hare International Airport",
          "San Francisco International Airport",
          "John F. Kennedy International Airport (New York International Airport)",
          "Kahului Airport",
          "Honolulu International Airport",
          "Hartsfield-Jackson Atlanta International Airport",
          "Orlando International Airport",
          "Los Angeles International Airport",
          "Hartsfield-Jackson Atlanta International Airport",
          "LaGuardia Airport (Marine Air Terminal)",
          "San Francisco International Airport",
          "Chicago O'Hare International Airport",
          "McCarran International Airport",
          "Seattle-Tacoma International Airport",
          "Los Angeles International Airport",
          "Dallas/Fort Worth International Airport",
          "Chicago O'Hare International Airport",
          "Gen. Edward Lawrence Logan International Airport"
         ],
         "hovertemplate": "%{customdata}",
         "lat": [
          37.619,
          33.94254,
          40.63975,
          33.94254,
          36.08036,
          33.94254,
          40.77724,
          41.9796,
          37.619,
          40.63975,
          20.89865,
          21.31869,
          33.64044,
          28.42889,
          33.94254,
          33.64044,
          40.77724,
          37.619,
          41.9796,
          36.08036,
          47.44898,
          33.94254,
          32.89595,
          41.9796,
          42.36435
         ],
         "lon": [
          -122.37484,
          -118.40807,
          -73.77893,
          -118.40807,
          -115.15233,
          -118.40807,
          -73.87261,
          -87.90446,
          -122.37484,
          -73.77893,
          -156.43046,
          -157.92241,
          -84.42694,
          -81.31603,
          -118.40807,
          -84.42694,
          -73.87261,
          -122.37484,
          -87.90446,
          -115.15233,
          -122.30931,
          -118.40807,
          -97.0372,
          -87.90446,
          -71.00518
         ],
         "marker": {
          "color": "white"
         },
         "mode": "markers",
         "name": "",
         "opacity": 0.75,
         "type": "scattermapbox"
        },
        {
         "customdata": [
          "Los Angeles International Airport",
          "San Francisco International Airport",
          "Los Angeles International Airport",
          "John F. Kennedy International Airport (New York International Airport)",
          "Los Angeles International Airport",
          "McCarran International Airport",
          "Chicago O'Hare International Airport",
          "LaGuardia Airport (Marine Air Terminal)",
          "John F. Kennedy International Airport (New York International Airport)",
          "San Francisco International Airport",
          "Honolulu International Airport",
          "Kahului Airport",
          "Orlando International Airport",
          "Hartsfield-Jackson Atlanta International Airport",
          "Chicago O'Hare International Airport",
          "LaGuardia Airport (Marine Air Terminal)",
          "Hartsfield-Jackson Atlanta International Airport",
          "McCarran International Airport",
          "Los Angeles International Airport",
          "San Francisco International Airport",
          "Los Angeles International Airport",
          "Seattle-Tacoma International Airport",
          "Chicago O'Hare International Airport",
          "Dallas/Fort Worth International Airport",
          "Ronald Reagan Washington National Airport"
         ],
         "hovertemplate": "%{customdata}",
         "lat": [
          33.94254,
          37.619,
          33.94254,
          40.63975,
          33.94254,
          36.08036,
          41.9796,
          40.77724,
          40.63975,
          37.619,
          21.31869,
          20.89865,
          28.42889,
          33.64044,
          41.9796,
          40.77724,
          33.64044,
          36.08036,
          33.94254,
          37.619,
          33.94254,
          47.44898,
          41.9796,
          32.89595,
          38.85208
         ],
         "lon": [
          -118.40807,
          -122.37484,
          -118.40807,
          -73.77893,
          -118.40807,
          -115.15233,
          -87.90446,
          -73.87261,
          -73.77893,
          -122.37484,
          -157.92241,
          -156.43046,
          -81.31603,
          -84.42694,
          -87.90446,
          -73.87261,
          -84.42694,
          -115.15233,
          -118.40807,
          -122.37484,
          -118.40807,
          -122.30931,
          -87.90446,
          -97.0372,
          -77.03772
         ],
         "marker": {
          "color": "white"
         },
         "mode": "markers",
         "name": "",
         "opacity": 0.75,
         "type": "scattermapbox"
        },
        {
         "hovertemplate": "San Francisco International Airport to Los Angeles International Airport: 13406 flights in 2015",
         "lat": [
          35.780770000000004
         ],
         "lon": [
          -120.39145500000001
         ],
         "marker": {
          "color": "white",
          "size": 13.406
         },
         "mode": "markers",
         "name": "",
         "opacity": 0.3,
         "type": "scattermapbox"
        },
        {
         "hovertemplate": "Los Angeles International Airport to San Francisco International Airport: 13115 flights in 2015",
         "lat": [
          35.780770000000004
         ],
         "lon": [
          -120.39145500000001
         ],
         "marker": {
          "color": "white",
          "size": 13.115
         },
         "mode": "markers",
         "name": "",
         "opacity": 0.3,
         "type": "scattermapbox"
        },
        {
         "hovertemplate": "John F. Kennedy International Airport (New York International Airport) to Los Angeles International Airport: 11875 flights in 2015",
         "lat": [
          37.291145
         ],
         "lon": [
          -96.0935
         ],
         "marker": {
          "color": "white",
          "size": 11.875
         },
         "mode": "markers",
         "name": "",
         "opacity": 0.3,
         "type": "scattermapbox"
        },
        {
         "hovertemplate": "Los Angeles International Airport to John F. Kennedy International Airport (New York International Airport): 11872 flights in 2015",
         "lat": [
          37.291145
         ],
         "lon": [
          -96.0935
         ],
         "marker": {
          "color": "white",
          "size": 11.872
         },
         "mode": "markers",
         "name": "",
         "opacity": 0.3,
         "type": "scattermapbox"
        },
        {
         "hovertemplate": "McCarran International Airport to Los Angeles International Airport: 9652 flights in 2015",
         "lat": [
          35.011449999999996
         ],
         "lon": [
          -116.78020000000001
         ],
         "marker": {
          "color": "white",
          "size": 9.652
         },
         "mode": "markers",
         "name": "",
         "opacity": 0.3,
         "type": "scattermapbox"
        },
        {
         "hovertemplate": "Los Angeles International Airport to McCarran International Airport: 9528 flights in 2015",
         "lat": [
          35.011449999999996
         ],
         "lon": [
          -116.78020000000001
         ],
         "marker": {
          "color": "white",
          "size": 9.528
         },
         "mode": "markers",
         "name": "",
         "opacity": 0.3,
         "type": "scattermapbox"
        },
        {
         "hovertemplate": "LaGuardia Airport (Marine Air Terminal) to Chicago O'Hare International Airport: 9204 flights in 2015",
         "lat": [
          41.37842
         ],
         "lon": [
          -80.88853499999999
         ],
         "marker": {
          "color": "white",
          "size": 9.204
         },
         "mode": "markers",
         "name": "",
         "opacity": 0.3,
         "type": "scattermapbox"
        },
        {
         "hovertemplate": "Chicago O'Hare International Airport to LaGuardia Airport (Marine Air Terminal): 9167 flights in 2015",
         "lat": [
          41.37842
         ],
         "lon": [
          -80.88853499999999
         ],
         "marker": {
          "color": "white",
          "size": 9.167
         },
         "mode": "markers",
         "name": "",
         "opacity": 0.3,
         "type": "scattermapbox"
        },
        {
         "hovertemplate": "San Francisco International Airport to John F. Kennedy International Airport (New York International Airport): 8324 flights in 2015",
         "lat": [
          39.129374999999996
         ],
         "lon": [
          -98.076885
         ],
         "marker": {
          "color": "white",
          "size": 8.324
         },
         "mode": "markers",
         "name": "",
         "opacity": 0.3,
         "type": "scattermapbox"
        },
        {
         "hovertemplate": "John F. Kennedy International Airport (New York International Airport) to San Francisco International Airport: 8323 flights in 2015",
         "lat": [
          39.129374999999996
         ],
         "lon": [
          -98.076885
         ],
         "marker": {
          "color": "white",
          "size": 8.323
         },
         "mode": "markers",
         "name": "",
         "opacity": 0.3,
         "type": "scattermapbox"
        },
        {
         "hovertemplate": "Kahului Airport to Honolulu International Airport: 8269 flights in 2015",
         "lat": [
          21.10867
         ],
         "lon": [
          -157.17643500000003
         ],
         "marker": {
          "color": "white",
          "size": 8.269
         },
         "mode": "markers",
         "name": "",
         "opacity": 0.3,
         "type": "scattermapbox"
        },
        {
         "hovertemplate": "Honolulu International Airport to Kahului Airport: 8254 flights in 2015",
         "lat": [
          21.10867
         ],
         "lon": [
          -157.17643500000003
         ],
         "marker": {
          "color": "white",
          "size": 8.254
         },
         "mode": "markers",
         "name": "",
         "opacity": 0.3,
         "type": "scattermapbox"
        },
        {
         "hovertemplate": "Hartsfield-Jackson Atlanta International Airport to Orlando International Airport: 8165 flights in 2015",
         "lat": [
          31.034664999999997
         ],
         "lon": [
          -82.871485
         ],
         "marker": {
          "color": "white",
          "size": 8.165
         },
         "mode": "markers",
         "name": "",
         "opacity": 0.3,
         "type": "scattermapbox"
        },
        {
         "hovertemplate": "Orlando International Airport to Hartsfield-Jackson Atlanta International Airport: 8162 flights in 2015",
         "lat": [
          31.034664999999997
         ],
         "lon": [
          -82.871485
         ],
         "marker": {
          "color": "white",
          "size": 8.162
         },
         "mode": "markers",
         "name": "",
         "opacity": 0.3,
         "type": "scattermapbox"
        },
        {
         "hovertemplate": "Los Angeles International Airport to Chicago O'Hare International Airport: 8149 flights in 2015",
         "lat": [
          37.96107
         ],
         "lon": [
          -103.15626499999999
         ],
         "marker": {
          "color": "white",
          "size": 8.149
         },
         "mode": "markers",
         "name": "",
         "opacity": 0.3,
         "type": "scattermapbox"
        },
        {
         "hovertemplate": "Hartsfield-Jackson Atlanta International Airport to LaGuardia Airport (Marine Air Terminal): 8003 flights in 2015",
         "lat": [
          37.208839999999995
         ],
         "lon": [
          -79.149775
         ],
         "marker": {
          "color": "white",
          "size": 8.003
         },
         "mode": "markers",
         "name": "",
         "opacity": 0.3,
         "type": "scattermapbox"
        },
        {
         "hovertemplate": "LaGuardia Airport (Marine Air Terminal) to Hartsfield-Jackson Atlanta International Airport: 7986 flights in 2015",
         "lat": [
          37.208839999999995
         ],
         "lon": [
          -79.149775
         ],
         "marker": {
          "color": "white",
          "size": 7.986
         },
         "mode": "markers",
         "name": "",
         "opacity": 0.3,
         "type": "scattermapbox"
        },
        {
         "hovertemplate": "San Francisco International Airport to McCarran International Airport: 7953 flights in 2015",
         "lat": [
          36.84968
         ],
         "lon": [
          -118.763585
         ],
         "marker": {
          "color": "white",
          "size": 7.953
         },
         "mode": "markers",
         "name": "",
         "opacity": 0.3,
         "type": "scattermapbox"
        },
        {
         "hovertemplate": "Chicago O'Hare International Airport to Los Angeles International Airport: 7835 flights in 2015",
         "lat": [
          37.96107
         ],
         "lon": [
          -103.15626499999999
         ],
         "marker": {
          "color": "white",
          "size": 7.835
         },
         "mode": "markers",
         "name": "",
         "opacity": 0.3,
         "type": "scattermapbox"
        },
        {
         "hovertemplate": "McCarran International Airport to San Francisco International Airport: 7816 flights in 2015",
         "lat": [
          36.84968
         ],
         "lon": [
          -118.763585
         ],
         "marker": {
          "color": "white",
          "size": 7.816
         },
         "mode": "markers",
         "name": "",
         "opacity": 0.3,
         "type": "scattermapbox"
        },
        {
         "hovertemplate": "Seattle-Tacoma International Airport to Los Angeles International Airport: 7748 flights in 2015",
         "lat": [
          40.69576
         ],
         "lon": [
          -120.35869
         ],
         "marker": {
          "color": "white",
          "size": 7.748
         },
         "mode": "markers",
         "name": "",
         "opacity": 0.3,
         "type": "scattermapbox"
        },
        {
         "hovertemplate": "Los Angeles International Airport to Seattle-Tacoma International Airport: 7705 flights in 2015",
         "lat": [
          40.69576
         ],
         "lon": [
          -120.35869
         ],
         "marker": {
          "color": "white",
          "size": 7.705
         },
         "mode": "markers",
         "name": "",
         "opacity": 0.3,
         "type": "scattermapbox"
        },
        {
         "hovertemplate": "Dallas/Fort Worth International Airport to Chicago O'Hare International Airport: 7677 flights in 2015",
         "lat": [
          37.437775
         ],
         "lon": [
          -92.47083
         ],
         "marker": {
          "color": "white",
          "size": 7.677
         },
         "mode": "markers",
         "name": "",
         "opacity": 0.3,
         "type": "scattermapbox"
        },
        {
         "hovertemplate": "Chicago O'Hare International Airport to Dallas/Fort Worth International Airport: 7494 flights in 2015",
         "lat": [
          37.437775
         ],
         "lon": [
          -92.47083
         ],
         "marker": {
          "color": "white",
          "size": 7.494
         },
         "mode": "markers",
         "name": "",
         "opacity": 0.3,
         "type": "scattermapbox"
        },
        {
         "hovertemplate": "Gen. Edward Lawrence Logan International Airport to Ronald Reagan Washington National Airport: 7421 flights in 2015",
         "lat": [
          40.608215
         ],
         "lon": [
          -74.02144999999999
         ],
         "marker": {
          "color": "white",
          "size": 7.421
         },
         "mode": "markers",
         "name": "",
         "opacity": 0.3,
         "type": "scattermapbox"
        }
       ],
       "layout": {
        "mapbox": {
         "accesstoken": "pk.eyJ1IjoiZmxvcmFpbmsiLCJhIjoiY2wxbjh1cGZyMDl6YjNlcGd4MXZ2bDNoeSJ9.FzxEZ_wKMQ-sZn9L9vBKWQ",
         "center": {
          "lat": 35,
          "lon": -100
         },
         "style": "dark",
         "zoom": 3
        },
        "margin": {
         "b": 0,
         "l": 0,
         "r": 0,
         "t": 0
        },
        "template": {
         "data": {
          "bar": [
           {
            "error_x": {
             "color": "#2a3f5f"
            },
            "error_y": {
             "color": "#2a3f5f"
            },
            "marker": {
             "line": {
              "color": "#E5ECF6",
              "width": 0.5
             },
             "pattern": {
              "fillmode": "overlay",
              "size": 10,
              "solidity": 0.2
             }
            },
            "type": "bar"
           }
          ],
          "barpolar": [
           {
            "marker": {
             "line": {
              "color": "#E5ECF6",
              "width": 0.5
             },
             "pattern": {
              "fillmode": "overlay",
              "size": 10,
              "solidity": 0.2
             }
            },
            "type": "barpolar"
           }
          ],
          "carpet": [
           {
            "aaxis": {
             "endlinecolor": "#2a3f5f",
             "gridcolor": "white",
             "linecolor": "white",
             "minorgridcolor": "white",
             "startlinecolor": "#2a3f5f"
            },
            "baxis": {
             "endlinecolor": "#2a3f5f",
             "gridcolor": "white",
             "linecolor": "white",
             "minorgridcolor": "white",
             "startlinecolor": "#2a3f5f"
            },
            "type": "carpet"
           }
          ],
          "choropleth": [
           {
            "colorbar": {
             "outlinewidth": 0,
             "ticks": ""
            },
            "type": "choropleth"
           }
          ],
          "contour": [
           {
            "colorbar": {
             "outlinewidth": 0,
             "ticks": ""
            },
            "colorscale": [
             [
              0,
              "#0d0887"
             ],
             [
              0.1111111111111111,
              "#46039f"
             ],
             [
              0.2222222222222222,
              "#7201a8"
             ],
             [
              0.3333333333333333,
              "#9c179e"
             ],
             [
              0.4444444444444444,
              "#bd3786"
             ],
             [
              0.5555555555555556,
              "#d8576b"
             ],
             [
              0.6666666666666666,
              "#ed7953"
             ],
             [
              0.7777777777777778,
              "#fb9f3a"
             ],
             [
              0.8888888888888888,
              "#fdca26"
             ],
             [
              1,
              "#f0f921"
             ]
            ],
            "type": "contour"
           }
          ],
          "contourcarpet": [
           {
            "colorbar": {
             "outlinewidth": 0,
             "ticks": ""
            },
            "type": "contourcarpet"
           }
          ],
          "heatmap": [
           {
            "colorbar": {
             "outlinewidth": 0,
             "ticks": ""
            },
            "colorscale": [
             [
              0,
              "#0d0887"
             ],
             [
              0.1111111111111111,
              "#46039f"
             ],
             [
              0.2222222222222222,
              "#7201a8"
             ],
             [
              0.3333333333333333,
              "#9c179e"
             ],
             [
              0.4444444444444444,
              "#bd3786"
             ],
             [
              0.5555555555555556,
              "#d8576b"
             ],
             [
              0.6666666666666666,
              "#ed7953"
             ],
             [
              0.7777777777777778,
              "#fb9f3a"
             ],
             [
              0.8888888888888888,
              "#fdca26"
             ],
             [
              1,
              "#f0f921"
             ]
            ],
            "type": "heatmap"
           }
          ],
          "heatmapgl": [
           {
            "colorbar": {
             "outlinewidth": 0,
             "ticks": ""
            },
            "colorscale": [
             [
              0,
              "#0d0887"
             ],
             [
              0.1111111111111111,
              "#46039f"
             ],
             [
              0.2222222222222222,
              "#7201a8"
             ],
             [
              0.3333333333333333,
              "#9c179e"
             ],
             [
              0.4444444444444444,
              "#bd3786"
             ],
             [
              0.5555555555555556,
              "#d8576b"
             ],
             [
              0.6666666666666666,
              "#ed7953"
             ],
             [
              0.7777777777777778,
              "#fb9f3a"
             ],
             [
              0.8888888888888888,
              "#fdca26"
             ],
             [
              1,
              "#f0f921"
             ]
            ],
            "type": "heatmapgl"
           }
          ],
          "histogram": [
           {
            "marker": {
             "pattern": {
              "fillmode": "overlay",
              "size": 10,
              "solidity": 0.2
             }
            },
            "type": "histogram"
           }
          ],
          "histogram2d": [
           {
            "colorbar": {
             "outlinewidth": 0,
             "ticks": ""
            },
            "colorscale": [
             [
              0,
              "#0d0887"
             ],
             [
              0.1111111111111111,
              "#46039f"
             ],
             [
              0.2222222222222222,
              "#7201a8"
             ],
             [
              0.3333333333333333,
              "#9c179e"
             ],
             [
              0.4444444444444444,
              "#bd3786"
             ],
             [
              0.5555555555555556,
              "#d8576b"
             ],
             [
              0.6666666666666666,
              "#ed7953"
             ],
             [
              0.7777777777777778,
              "#fb9f3a"
             ],
             [
              0.8888888888888888,
              "#fdca26"
             ],
             [
              1,
              "#f0f921"
             ]
            ],
            "type": "histogram2d"
           }
          ],
          "histogram2dcontour": [
           {
            "colorbar": {
             "outlinewidth": 0,
             "ticks": ""
            },
            "colorscale": [
             [
              0,
              "#0d0887"
             ],
             [
              0.1111111111111111,
              "#46039f"
             ],
             [
              0.2222222222222222,
              "#7201a8"
             ],
             [
              0.3333333333333333,
              "#9c179e"
             ],
             [
              0.4444444444444444,
              "#bd3786"
             ],
             [
              0.5555555555555556,
              "#d8576b"
             ],
             [
              0.6666666666666666,
              "#ed7953"
             ],
             [
              0.7777777777777778,
              "#fb9f3a"
             ],
             [
              0.8888888888888888,
              "#fdca26"
             ],
             [
              1,
              "#f0f921"
             ]
            ],
            "type": "histogram2dcontour"
           }
          ],
          "mesh3d": [
           {
            "colorbar": {
             "outlinewidth": 0,
             "ticks": ""
            },
            "type": "mesh3d"
           }
          ],
          "parcoords": [
           {
            "line": {
             "colorbar": {
              "outlinewidth": 0,
              "ticks": ""
             }
            },
            "type": "parcoords"
           }
          ],
          "pie": [
           {
            "automargin": true,
            "type": "pie"
           }
          ],
          "scatter": [
           {
            "fillpattern": {
             "fillmode": "overlay",
             "size": 10,
             "solidity": 0.2
            },
            "type": "scatter"
           }
          ],
          "scatter3d": [
           {
            "line": {
             "colorbar": {
              "outlinewidth": 0,
              "ticks": ""
             }
            },
            "marker": {
             "colorbar": {
              "outlinewidth": 0,
              "ticks": ""
             }
            },
            "type": "scatter3d"
           }
          ],
          "scattercarpet": [
           {
            "marker": {
             "colorbar": {
              "outlinewidth": 0,
              "ticks": ""
             }
            },
            "type": "scattercarpet"
           }
          ],
          "scattergeo": [
           {
            "marker": {
             "colorbar": {
              "outlinewidth": 0,
              "ticks": ""
             }
            },
            "type": "scattergeo"
           }
          ],
          "scattergl": [
           {
            "marker": {
             "colorbar": {
              "outlinewidth": 0,
              "ticks": ""
             }
            },
            "type": "scattergl"
           }
          ],
          "scattermapbox": [
           {
            "marker": {
             "colorbar": {
              "outlinewidth": 0,
              "ticks": ""
             }
            },
            "type": "scattermapbox"
           }
          ],
          "scatterpolar": [
           {
            "marker": {
             "colorbar": {
              "outlinewidth": 0,
              "ticks": ""
             }
            },
            "type": "scatterpolar"
           }
          ],
          "scatterpolargl": [
           {
            "marker": {
             "colorbar": {
              "outlinewidth": 0,
              "ticks": ""
             }
            },
            "type": "scatterpolargl"
           }
          ],
          "scatterternary": [
           {
            "marker": {
             "colorbar": {
              "outlinewidth": 0,
              "ticks": ""
             }
            },
            "type": "scatterternary"
           }
          ],
          "surface": [
           {
            "colorbar": {
             "outlinewidth": 0,
             "ticks": ""
            },
            "colorscale": [
             [
              0,
              "#0d0887"
             ],
             [
              0.1111111111111111,
              "#46039f"
             ],
             [
              0.2222222222222222,
              "#7201a8"
             ],
             [
              0.3333333333333333,
              "#9c179e"
             ],
             [
              0.4444444444444444,
              "#bd3786"
             ],
             [
              0.5555555555555556,
              "#d8576b"
             ],
             [
              0.6666666666666666,
              "#ed7953"
             ],
             [
              0.7777777777777778,
              "#fb9f3a"
             ],
             [
              0.8888888888888888,
              "#fdca26"
             ],
             [
              1,
              "#f0f921"
             ]
            ],
            "type": "surface"
           }
          ],
          "table": [
           {
            "cells": {
             "fill": {
              "color": "#EBF0F8"
             },
             "line": {
              "color": "white"
             }
            },
            "header": {
             "fill": {
              "color": "#C8D4E3"
             },
             "line": {
              "color": "white"
             }
            },
            "type": "table"
           }
          ]
         },
         "layout": {
          "annotationdefaults": {
           "arrowcolor": "#2a3f5f",
           "arrowhead": 0,
           "arrowwidth": 1
          },
          "autotypenumbers": "strict",
          "coloraxis": {
           "colorbar": {
            "outlinewidth": 0,
            "ticks": ""
           }
          },
          "colorscale": {
           "diverging": [
            [
             0,
             "#8e0152"
            ],
            [
             0.1,
             "#c51b7d"
            ],
            [
             0.2,
             "#de77ae"
            ],
            [
             0.3,
             "#f1b6da"
            ],
            [
             0.4,
             "#fde0ef"
            ],
            [
             0.5,
             "#f7f7f7"
            ],
            [
             0.6,
             "#e6f5d0"
            ],
            [
             0.7,
             "#b8e186"
            ],
            [
             0.8,
             "#7fbc41"
            ],
            [
             0.9,
             "#4d9221"
            ],
            [
             1,
             "#276419"
            ]
           ],
           "sequential": [
            [
             0,
             "#0d0887"
            ],
            [
             0.1111111111111111,
             "#46039f"
            ],
            [
             0.2222222222222222,
             "#7201a8"
            ],
            [
             0.3333333333333333,
             "#9c179e"
            ],
            [
             0.4444444444444444,
             "#bd3786"
            ],
            [
             0.5555555555555556,
             "#d8576b"
            ],
            [
             0.6666666666666666,
             "#ed7953"
            ],
            [
             0.7777777777777778,
             "#fb9f3a"
            ],
            [
             0.8888888888888888,
             "#fdca26"
            ],
            [
             1,
             "#f0f921"
            ]
           ],
           "sequentialminus": [
            [
             0,
             "#0d0887"
            ],
            [
             0.1111111111111111,
             "#46039f"
            ],
            [
             0.2222222222222222,
             "#7201a8"
            ],
            [
             0.3333333333333333,
             "#9c179e"
            ],
            [
             0.4444444444444444,
             "#bd3786"
            ],
            [
             0.5555555555555556,
             "#d8576b"
            ],
            [
             0.6666666666666666,
             "#ed7953"
            ],
            [
             0.7777777777777778,
             "#fb9f3a"
            ],
            [
             0.8888888888888888,
             "#fdca26"
            ],
            [
             1,
             "#f0f921"
            ]
           ]
          },
          "colorway": [
           "#636efa",
           "#EF553B",
           "#00cc96",
           "#ab63fa",
           "#FFA15A",
           "#19d3f3",
           "#FF6692",
           "#B6E880",
           "#FF97FF",
           "#FECB52"
          ],
          "font": {
           "color": "#2a3f5f"
          },
          "geo": {
           "bgcolor": "white",
           "lakecolor": "white",
           "landcolor": "#E5ECF6",
           "showlakes": true,
           "showland": true,
           "subunitcolor": "white"
          },
          "hoverlabel": {
           "align": "left"
          },
          "hovermode": "closest",
          "mapbox": {
           "style": "light"
          },
          "paper_bgcolor": "white",
          "plot_bgcolor": "#E5ECF6",
          "polar": {
           "angularaxis": {
            "gridcolor": "white",
            "linecolor": "white",
            "ticks": ""
           },
           "bgcolor": "#E5ECF6",
           "radialaxis": {
            "gridcolor": "white",
            "linecolor": "white",
            "ticks": ""
           }
          },
          "scene": {
           "xaxis": {
            "backgroundcolor": "#E5ECF6",
            "gridcolor": "white",
            "gridwidth": 2,
            "linecolor": "white",
            "showbackground": true,
            "ticks": "",
            "zerolinecolor": "white"
           },
           "yaxis": {
            "backgroundcolor": "#E5ECF6",
            "gridcolor": "white",
            "gridwidth": 2,
            "linecolor": "white",
            "showbackground": true,
            "ticks": "",
            "zerolinecolor": "white"
           },
           "zaxis": {
            "backgroundcolor": "#E5ECF6",
            "gridcolor": "white",
            "gridwidth": 2,
            "linecolor": "white",
            "showbackground": true,
            "ticks": "",
            "zerolinecolor": "white"
           }
          },
          "shapedefaults": {
           "line": {
            "color": "#2a3f5f"
           }
          },
          "ternary": {
           "aaxis": {
            "gridcolor": "white",
            "linecolor": "white",
            "ticks": ""
           },
           "baxis": {
            "gridcolor": "white",
            "linecolor": "white",
            "ticks": ""
           },
           "bgcolor": "#E5ECF6",
           "caxis": {
            "gridcolor": "white",
            "linecolor": "white",
            "ticks": ""
           }
          },
          "title": {
           "x": 0.05
          },
          "xaxis": {
           "automargin": true,
           "gridcolor": "white",
           "linecolor": "white",
           "ticks": "",
           "title": {
            "standoff": 15
           },
           "zerolinecolor": "white",
           "zerolinewidth": 2
          },
          "yaxis": {
           "automargin": true,
           "gridcolor": "white",
           "linecolor": "white",
           "ticks": "",
           "title": {
            "standoff": 15
           },
           "zerolinecolor": "white",
           "zerolinewidth": 2
          }
         }
        }
       }
      }
     },
     "metadata": {},
     "output_type": "display_data"
    }
   ],
   "source": [
    "import random\n",
    "color = \"%06x\" % random.randint(0, 0xFFFFFF)\n",
    "\n",
    "accessToken = 'pk.eyJ1IjoiZmxvcmFpbmsiLCJhIjoiY2wxbjh1cGZyMDl6YjNlcGd4MXZ2bDNoeSJ9.FzxEZ_wKMQ-sZn9L9vBKWQ'\n",
    "\n",
    "\n",
    "fig = go.Figure(go.Scattermapbox(\n",
    "    mode = \"markers+lines\",\n",
    "    marker = {'size': 10}))\n",
    "\n",
    "\n",
    "fig.update_layout(\n",
    "    margin ={'l':0,'t':0,'b':0,'r':0},\n",
    "    mapbox = {\n",
    "        'center': {'lon': -100, 'lat': 35},\n",
    "        'style': \"dark\",\n",
    "        'zoom': 3,\n",
    "\n",
    "        'accesstoken': accessToken})\n",
    "\n",
    "# add routes\n",
    "\n",
    "for i, row in df.iterrows():\n",
    "    fig.add_trace(go.Scattermapbox(\n",
    "        mode = \"lines\",\n",
    "        lat = [row.ORIGIN_LATITUDE, row.DESTINATION_LATITUDE],\n",
    "        lon = [row.ORIGIN_LONGITUDE, row.DESTINATION_LONGITUDE], \n",
    "        line = dict(\n",
    "            width = row.COUNT / 3000,\n",
    "            \n",
    "            # colorscale = \"\"\n",
    "        ),\n",
    "        opacity = 0.75,\n",
    "        # customdata = df.ORIGIN_AIRPORT_LONG,\n",
    "        hoverinfo = \"text\", \n",
    "        name = row.ORIGIN_AIRPORT_SHORT + \" to \" + row.DESTINATION_AIRPORT_SHORT\n",
    "    ))\n",
    "\n",
    "# add markers on start and end of routes for hoverinformation\n",
    "\n",
    "fig.add_trace(go.Scattermapbox(\n",
    "    mode = \"markers\",\n",
    "    lat = df.ORIGIN_LATITUDE,\n",
    "    lon = df.ORIGIN_LONGITUDE,\n",
    "    # line = dict(\n",
    "    #     width = df.COUNT / 3000,\n",
    "    # ),\n",
    "    opacity = 0.75,\n",
    "    customdata = df.ORIGIN_AIRPORT_LONG,\n",
    "    hovertemplate = \"%{customdata}\",\n",
    "    name = \"\",\n",
    "    marker = dict(\n",
    "        color = \"white\",\n",
    "    )\n",
    "))\n",
    "\n",
    "fig.add_trace(go.Scattermapbox(\n",
    "    mode = \"markers\",\n",
    "    lat = df.DESTINATION_LATITUDE,\n",
    "    lon = df.DESTINATION_LONGITUDE,\n",
    "    # line = dict(\n",
    "    #     width = df.COUNT / 3000,\n",
    "    # ),\n",
    "    opacity = 0.75,\n",
    "    customdata = df.DESTINATION_AIRPORT_LONG,\n",
    "    hovertemplate = \"%{customdata}\",\n",
    "    name = \"\",\n",
    "    marker = dict(\n",
    "        color = \"white\",\n",
    "    )\n",
    "))\n",
    "\n",
    "# adding markers halfways between origin and destination for \n",
    "for i, row in df.iterrows():\n",
    "    fig.add_trace(go.Scattermapbox(\n",
    "        mode = \"markers\",\n",
    "        lat = [(row.ORIGIN_LATITUDE + row.DESTINATION_LATITUDE) / 2],\n",
    "        lon = [(row.ORIGIN_LONGITUDE + row.DESTINATION_LONGITUDE) / 2],\n",
    "        opacity = 0.3,\n",
    "        hovertemplate = str.format(\"{0} to {1}: {2} flights in 2015\", row.ORIGIN_AIRPORT_LONG, row.DESTINATION_AIRPORT_LONG, row.COUNT),\n",
    "        name = \"\",\n",
    "        marker = dict(\n",
    "            color = \"white\",\n",
    "            size = row.COUNT / 1000\n",
    "    )\n",
    "))\n",
    "\n",
    "\n",
    "\n",
    "\n",
    "fig.show()"
   ]
  }
 ],
 "metadata": {
  "interpreter": {
   "hash": "2be5faf79681da6f2a61fdfdd5405d65d042280f7fba6178067603e3a2925119"
  },
  "kernelspec": {
   "display_name": "Python 3.10.0 64-bit",
   "language": "python",
   "name": "python3"
  },
  "language_info": {
   "codemirror_mode": {
    "name": "ipython",
    "version": 3
   },
   "file_extension": ".py",
   "mimetype": "text/x-python",
   "name": "python",
   "nbconvert_exporter": "python",
   "pygments_lexer": "ipython3",
   "version": "3.10.4"
  },
  "orig_nbformat": 4
 },
 "nbformat": 4,
 "nbformat_minor": 2
}
