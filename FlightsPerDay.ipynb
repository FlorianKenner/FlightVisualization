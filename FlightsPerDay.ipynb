{
 "cells": [
  {
   "cell_type": "code",
   "execution_count": 7,
   "metadata": {},
   "outputs": [],
   "source": [
    "import pandas as pd\n",
    "from pandas_profiling import ProfileReport\n",
    "import numpy as np\n",
    "import plotly.graph_objects as go\n"
   ]
  },
  {
   "cell_type": "code",
   "execution_count": 8,
   "metadata": {},
   "outputs": [
    {
     "name": "stderr",
     "output_type": "stream",
     "text": [
      "C:\\Users\\kenner\\AppData\\Local\\Temp\\ipykernel_23272\\4019886423.py:2: DtypeWarning:\n",
      "\n",
      "Columns (7,8) have mixed types. Specify dtype option on import or set low_memory=False.\n",
      "\n"
     ]
    },
    {
     "name": "stdout",
     "output_type": "stream",
     "text": [
      "Dataframe length before cleaning:  5819079\n",
      "Dataframe length after cleaning:  5729195\n"
     ]
    }
   ],
   "source": [
    "# loading the dataframe\n",
    "df = pd.read_csv(\"CleanedFlights.csv\")\n",
    "\n",
    "\n",
    "# loading a dataframe with US-Holidays for more context\n",
    "dfUSHolidays = pd.read_csv(\"USHolidayDates(2004-2021).csv\")\n",
    "\n",
    "# Dropping the cancelled Flights, because they are not relevant for this visualization\n",
    "\n",
    "print(\"Dataframe length before cleaning: \", len(df))\n",
    "df = df[df[\"CANCELLED\"] == 0]\n",
    "print(\"Dataframe length after cleaning: \", len(df))\n"
   ]
  },
  {
   "cell_type": "code",
   "execution_count": 9,
   "metadata": {},
   "outputs": [
    {
     "name": "stderr",
     "output_type": "stream",
     "text": [
      "C:\\Users\\kenner\\AppData\\Local\\Temp\\ipykernel_23272\\3766098079.py:12: SettingWithCopyWarning:\n",
      "\n",
      "\n",
      "A value is trying to be set on a copy of a slice from a DataFrame.\n",
      "Try using .loc[row_indexer,col_indexer] = value instead\n",
      "\n",
      "See the caveats in the documentation: https://pandas.pydata.org/pandas-docs/stable/user_guide/indexing.html#returning-a-view-versus-a-copy\n",
      "\n",
      "C:\\Users\\kenner\\AppData\\Local\\Temp\\ipykernel_23272\\3766098079.py:13: SettingWithCopyWarning:\n",
      "\n",
      "\n",
      "A value is trying to be set on a copy of a slice from a DataFrame.\n",
      "Try using .loc[row_indexer,col_indexer] = value instead\n",
      "\n",
      "See the caveats in the documentation: https://pandas.pydata.org/pandas-docs/stable/user_guide/indexing.html#returning-a-view-versus-a-copy\n",
      "\n"
     ]
    },
    {
     "data": {
      "text/html": [
       "<div>\n",
       "<style scoped>\n",
       "    .dataframe tbody tr th:only-of-type {\n",
       "        vertical-align: middle;\n",
       "    }\n",
       "\n",
       "    .dataframe tbody tr th {\n",
       "        vertical-align: top;\n",
       "    }\n",
       "\n",
       "    .dataframe thead th {\n",
       "        text-align: right;\n",
       "    }\n",
       "</style>\n",
       "<table border=\"1\" class=\"dataframe\">\n",
       "  <thead>\n",
       "    <tr style=\"text-align: right;\">\n",
       "      <th></th>\n",
       "      <th>Unnamed: 0</th>\n",
       "      <th>HOLIDAY</th>\n",
       "      <th>FULL_DATE</th>\n",
       "      <th>YEAR</th>\n",
       "      <th>MONTH</th>\n",
       "      <th>DAY</th>\n",
       "      <th>DAY_OF_WEEK</th>\n",
       "      <th>AIRLINE</th>\n",
       "      <th>ORIGIN_AIRPORT</th>\n",
       "      <th>DESTINATION_AIRPORT</th>\n",
       "      <th>...</th>\n",
       "      <th>DEPARTURE_TIME</th>\n",
       "      <th>DEPARTURE_DELAY</th>\n",
       "      <th>SCHEDULED_TIME</th>\n",
       "      <th>ELAPSED_TIME</th>\n",
       "      <th>AIR_TIME</th>\n",
       "      <th>DISTANCE</th>\n",
       "      <th>SCHEDULED_ARRIVAL</th>\n",
       "      <th>ARRIVAL_TIME</th>\n",
       "      <th>ARRIVAL_DELAY</th>\n",
       "      <th>CANCELLED</th>\n",
       "    </tr>\n",
       "  </thead>\n",
       "  <tbody>\n",
       "    <tr>\n",
       "      <th>0</th>\n",
       "      <td>0</td>\n",
       "      <td>New Year's Day</td>\n",
       "      <td>2015-01-01</td>\n",
       "      <td>2015</td>\n",
       "      <td>1</td>\n",
       "      <td>1</td>\n",
       "      <td>THURSDAY</td>\n",
       "      <td>AS</td>\n",
       "      <td>ANC</td>\n",
       "      <td>SEA</td>\n",
       "      <td>...</td>\n",
       "      <td>23:54.0</td>\n",
       "      <td>-11.0</td>\n",
       "      <td>205.0</td>\n",
       "      <td>194.0</td>\n",
       "      <td>169.0</td>\n",
       "      <td>1448</td>\n",
       "      <td>430</td>\n",
       "      <td>408.0</td>\n",
       "      <td>-22.0</td>\n",
       "      <td>0</td>\n",
       "    </tr>\n",
       "    <tr>\n",
       "      <th>1</th>\n",
       "      <td>1</td>\n",
       "      <td>New Year's Day</td>\n",
       "      <td>2015-01-01</td>\n",
       "      <td>2015</td>\n",
       "      <td>1</td>\n",
       "      <td>1</td>\n",
       "      <td>THURSDAY</td>\n",
       "      <td>AA</td>\n",
       "      <td>LAX</td>\n",
       "      <td>PBI</td>\n",
       "      <td>...</td>\n",
       "      <td>00:02.0</td>\n",
       "      <td>-8.0</td>\n",
       "      <td>280.0</td>\n",
       "      <td>279.0</td>\n",
       "      <td>263.0</td>\n",
       "      <td>2330</td>\n",
       "      <td>750</td>\n",
       "      <td>741.0</td>\n",
       "      <td>-9.0</td>\n",
       "      <td>0</td>\n",
       "    </tr>\n",
       "    <tr>\n",
       "      <th>2</th>\n",
       "      <td>2</td>\n",
       "      <td>New Year's Day</td>\n",
       "      <td>2015-01-01</td>\n",
       "      <td>2015</td>\n",
       "      <td>1</td>\n",
       "      <td>1</td>\n",
       "      <td>THURSDAY</td>\n",
       "      <td>US</td>\n",
       "      <td>SFO</td>\n",
       "      <td>CLT</td>\n",
       "      <td>...</td>\n",
       "      <td>00:18.0</td>\n",
       "      <td>-2.0</td>\n",
       "      <td>286.0</td>\n",
       "      <td>293.0</td>\n",
       "      <td>266.0</td>\n",
       "      <td>2296</td>\n",
       "      <td>806</td>\n",
       "      <td>811.0</td>\n",
       "      <td>5.0</td>\n",
       "      <td>0</td>\n",
       "    </tr>\n",
       "    <tr>\n",
       "      <th>3</th>\n",
       "      <td>3</td>\n",
       "      <td>New Year's Day</td>\n",
       "      <td>2015-01-01</td>\n",
       "      <td>2015</td>\n",
       "      <td>1</td>\n",
       "      <td>1</td>\n",
       "      <td>THURSDAY</td>\n",
       "      <td>AA</td>\n",
       "      <td>LAX</td>\n",
       "      <td>MIA</td>\n",
       "      <td>...</td>\n",
       "      <td>00:15.0</td>\n",
       "      <td>-5.0</td>\n",
       "      <td>285.0</td>\n",
       "      <td>281.0</td>\n",
       "      <td>258.0</td>\n",
       "      <td>2342</td>\n",
       "      <td>805</td>\n",
       "      <td>756.0</td>\n",
       "      <td>-9.0</td>\n",
       "      <td>0</td>\n",
       "    </tr>\n",
       "    <tr>\n",
       "      <th>4</th>\n",
       "      <td>4</td>\n",
       "      <td>New Year's Day</td>\n",
       "      <td>2015-01-01</td>\n",
       "      <td>2015</td>\n",
       "      <td>1</td>\n",
       "      <td>1</td>\n",
       "      <td>THURSDAY</td>\n",
       "      <td>AS</td>\n",
       "      <td>SEA</td>\n",
       "      <td>ANC</td>\n",
       "      <td>...</td>\n",
       "      <td>00:24.0</td>\n",
       "      <td>-1.0</td>\n",
       "      <td>235.0</td>\n",
       "      <td>215.0</td>\n",
       "      <td>199.0</td>\n",
       "      <td>1448</td>\n",
       "      <td>320</td>\n",
       "      <td>259.0</td>\n",
       "      <td>-21.0</td>\n",
       "      <td>0</td>\n",
       "    </tr>\n",
       "  </tbody>\n",
       "</table>\n",
       "<p>5 rows × 21 columns</p>\n",
       "</div>"
      ],
      "text/plain": [
       "   Unnamed: 0         HOLIDAY   FULL_DATE  YEAR  MONTH  DAY DAY_OF_WEEK  \\\n",
       "0           0  New Year's Day  2015-01-01  2015      1    1    THURSDAY   \n",
       "1           1  New Year's Day  2015-01-01  2015      1    1    THURSDAY   \n",
       "2           2  New Year's Day  2015-01-01  2015      1    1    THURSDAY   \n",
       "3           3  New Year's Day  2015-01-01  2015      1    1    THURSDAY   \n",
       "4           4  New Year's Day  2015-01-01  2015      1    1    THURSDAY   \n",
       "\n",
       "  AIRLINE ORIGIN_AIRPORT DESTINATION_AIRPORT  ... DEPARTURE_TIME  \\\n",
       "0      AS            ANC                 SEA  ...        23:54.0   \n",
       "1      AA            LAX                 PBI  ...        00:02.0   \n",
       "2      US            SFO                 CLT  ...        00:18.0   \n",
       "3      AA            LAX                 MIA  ...        00:15.0   \n",
       "4      AS            SEA                 ANC  ...        00:24.0   \n",
       "\n",
       "  DEPARTURE_DELAY  SCHEDULED_TIME  ELAPSED_TIME  AIR_TIME  DISTANCE  \\\n",
       "0           -11.0           205.0         194.0     169.0      1448   \n",
       "1            -8.0           280.0         279.0     263.0      2330   \n",
       "2            -2.0           286.0         293.0     266.0      2296   \n",
       "3            -5.0           285.0         281.0     258.0      2342   \n",
       "4            -1.0           235.0         215.0     199.0      1448   \n",
       "\n",
       "   SCHEDULED_ARRIVAL  ARRIVAL_TIME  ARRIVAL_DELAY  CANCELLED  \n",
       "0                430         408.0          -22.0          0  \n",
       "1                750         741.0           -9.0          0  \n",
       "2                806         811.0            5.0          0  \n",
       "3                805         756.0           -9.0          0  \n",
       "4                320         259.0          -21.0          0  \n",
       "\n",
       "[5 rows x 21 columns]"
      ]
     },
     "execution_count": 9,
     "metadata": {},
     "output_type": "execute_result"
    }
   ],
   "source": [
    "# Filtering the Holiday Dataframe\n",
    "\n",
    "dfUSHolidays = dfUSHolidays[dfUSHolidays[\"Year\"] == 2015]\n",
    "\n",
    "# creating a dictionary with the date as key and holiday as value\n",
    "\n",
    "holidayDict = pd.Series(dfUSHolidays.Holiday.values, index = dfUSHolidays.Date).to_dict()\n",
    "\n",
    "# Enriching the flight Dataframe with this data\n",
    "\n",
    "df.insert(column = \"HOLIDAY\", loc = 1, value = \"\") \n",
    "df[\"HOLIDAY\"] = df[\"FULL_DATE\"].map(holidayDict)\n",
    "df[\"HOLIDAY\"] = df[\"HOLIDAY\"].fillna(\" \")\n",
    "df.head()\n"
   ]
  },
  {
   "cell_type": "code",
   "execution_count": 10,
   "metadata": {},
   "outputs": [],
   "source": [
    "# calculating the average flighs per month\n",
    "\n",
    "januaryMean = df[df[\"MONTH\"] == 1].count()[\"YEAR\"] / 31\n",
    "februaryMean = df[df[\"MONTH\"] == 2].count()[\"YEAR\"] / 28\n",
    "marchMean = df[df[\"MONTH\"] == 3].count()[\"YEAR\"] / 31\n",
    "aprilMean = df[df[\"MONTH\"] == 4].count()[\"YEAR\"] / 30\n",
    "mayMean = df[df[\"MONTH\"] == 5].count()[\"YEAR\"] / 31\n",
    "juneMean = df[df[\"MONTH\"] == 6].count()[\"YEAR\"] / 30\n",
    "julyMean = df[df[\"MONTH\"] == 7].count()[\"YEAR\"] / 31\n",
    "augustMean = df[df[\"MONTH\"] == 8].count()[\"YEAR\"] / 31\n",
    "septemberMean = df[df[\"MONTH\"] == 9].count()[\"YEAR\"] / 30\n",
    "octoberMean = df[df[\"MONTH\"] == 10].count()[\"YEAR\"] / 31\n",
    "novemberMean = df[df[\"MONTH\"] == 11].count()[\"YEAR\"] / 30\n",
    "decemberMean = df[df[\"MONTH\"] == 12].count()[\"YEAR\"] / 31"
   ]
  },
  {
   "cell_type": "code",
   "execution_count": 11,
   "metadata": {},
   "outputs": [],
   "source": [
    "# Visualization of Number of Flights by each day\n",
    "\n",
    "# creating sub-dataframes with the wanted information\n",
    "\n",
    "\n",
    "\n",
    "flightsPerDay = pd.DataFrame(df.groupby([\"FULL_DATE\"]).count()[\"YEAR\"])\n",
    "flightsPerDay.insert(column = \"HOLIDAY\", loc = 0, value = \"\") \n",
    "flightsPerDay[\"HOLIDAY\"] = flightsPerDay.index.map(holidayDict)\n",
    "flightsPerDay[\"HOLIDAY\"] = flightsPerDay[\"HOLIDAY\"].fillna(\"-\")\n",
    "flightsPerMonth = pd.DataFrame({\"FULL_DATE\": [\"2015-01-01\",\"2015-02-14\", \"2015-03-15\", \"2015-04-15\", \"2015-05-15\", \"2015-06-15\", \"2015-07-15\", \"2015-08-15\", \"2015-09-15\", \"2015-10-15\", \"2015-11-15\", \"2015-12-31\"],\"COUNT\" : [januaryMean, februaryMean, marchMean, aprilMean, mayMean, juneMean, julyMean, augustMean, septemberMean, octoberMean, novemberMean, decemberMean]})\n",
    "monthlyDates = pd.to_datetime(flightsPerMonth[\"FULL_DATE\"])"
   ]
  },
  {
   "cell_type": "code",
   "execution_count": 12,
   "metadata": {},
   "outputs": [
    {
     "name": "stderr",
     "output_type": "stream",
     "text": [
      "C:\\Python310\\lib\\site-packages\\plotly\\graph_objs\\_deprecations.py:378: DeprecationWarning:\n",
      "\n",
      "plotly.graph_objs.Line is deprecated.\n",
      "Please replace it with one of the following more specific types\n",
      "  - plotly.graph_objs.scatter.Line\n",
      "  - plotly.graph_objs.layout.shape.Line\n",
      "  - etc.\n",
      "\n",
      "\n"
     ]
    },
    {
     "data": {
      "application/vnd.plotly.v1+json": {
       "config": {
        "plotlyServerURL": "https://plot.ly"
       },
       "data": [
        {
         "customdata": [
          [
           "New Year's Day"
          ],
          [
           "-"
          ],
          [
           "-"
          ],
          [
           "-"
          ],
          [
           "-"
          ],
          [
           "-"
          ],
          [
           "-"
          ],
          [
           "-"
          ],
          [
           "-"
          ],
          [
           "-"
          ],
          [
           "-"
          ],
          [
           "-"
          ],
          [
           "-"
          ],
          [
           "-"
          ],
          [
           "-"
          ],
          [
           "-"
          ],
          [
           "-"
          ],
          [
           "-"
          ],
          [
           "Martin Luther King, Jr. Day"
          ],
          [
           "-"
          ],
          [
           "-"
          ],
          [
           "-"
          ],
          [
           "-"
          ],
          [
           "-"
          ],
          [
           "-"
          ],
          [
           "-"
          ],
          [
           "-"
          ],
          [
           "-"
          ],
          [
           "-"
          ],
          [
           "-"
          ],
          [
           "-"
          ],
          [
           "-"
          ],
          [
           "-"
          ],
          [
           "-"
          ],
          [
           "-"
          ],
          [
           "-"
          ],
          [
           "-"
          ],
          [
           "-"
          ],
          [
           "-"
          ],
          [
           "-"
          ],
          [
           "-"
          ],
          [
           "-"
          ],
          [
           "-"
          ],
          [
           "-"
          ],
          [
           "Valentine’s Day"
          ],
          [
           "-"
          ],
          [
           "Washington's Birthday"
          ],
          [
           "-"
          ],
          [
           "-"
          ],
          [
           "-"
          ],
          [
           "-"
          ],
          [
           "-"
          ],
          [
           "-"
          ],
          [
           "-"
          ],
          [
           "-"
          ],
          [
           "-"
          ],
          [
           "-"
          ],
          [
           "-"
          ],
          [
           "-"
          ],
          [
           "-"
          ],
          [
           "-"
          ],
          [
           "-"
          ],
          [
           "-"
          ],
          [
           "-"
          ],
          [
           "-"
          ],
          [
           "-"
          ],
          [
           "-"
          ],
          [
           "-"
          ],
          [
           "-"
          ],
          [
           "-"
          ],
          [
           "-"
          ],
          [
           "-"
          ],
          [
           "-"
          ],
          [
           "-"
          ],
          [
           "-"
          ],
          [
           "-"
          ],
          [
           "-"
          ],
          [
           "-"
          ],
          [
           "-"
          ],
          [
           "-"
          ],
          [
           "-"
          ],
          [
           "-"
          ],
          [
           "-"
          ],
          [
           "-"
          ],
          [
           "-"
          ],
          [
           "-"
          ],
          [
           "-"
          ],
          [
           "-"
          ],
          [
           "-"
          ],
          [
           "-"
          ],
          [
           "-"
          ],
          [
           "-"
          ],
          [
           "-"
          ],
          [
           "-"
          ],
          [
           "Western Easter"
          ],
          [
           "-"
          ],
          [
           "-"
          ],
          [
           "-"
          ],
          [
           "-"
          ],
          [
           "-"
          ],
          [
           "-"
          ],
          [
           "Eastern Easter"
          ],
          [
           "-"
          ],
          [
           "-"
          ],
          [
           "-"
          ],
          [
           "-"
          ],
          [
           "-"
          ],
          [
           "-"
          ],
          [
           "-"
          ],
          [
           "-"
          ],
          [
           "-"
          ],
          [
           "-"
          ],
          [
           "-"
          ],
          [
           "-"
          ],
          [
           "-"
          ],
          [
           "-"
          ],
          [
           "-"
          ],
          [
           "-"
          ],
          [
           "-"
          ],
          [
           "-"
          ],
          [
           "-"
          ],
          [
           "-"
          ],
          [
           "-"
          ],
          [
           "-"
          ],
          [
           "-"
          ],
          [
           "-"
          ],
          [
           "-"
          ],
          [
           "-"
          ],
          [
           "-"
          ],
          [
           "-"
          ],
          [
           "-"
          ],
          [
           "-"
          ],
          [
           "-"
          ],
          [
           "-"
          ],
          [
           "-"
          ],
          [
           "-"
          ],
          [
           "-"
          ],
          [
           "-"
          ],
          [
           "-"
          ],
          [
           "-"
          ],
          [
           "-"
          ],
          [
           "-"
          ],
          [
           "-"
          ],
          [
           "-"
          ],
          [
           "Memorial Day"
          ],
          [
           "-"
          ],
          [
           "-"
          ],
          [
           "-"
          ],
          [
           "-"
          ],
          [
           "-"
          ],
          [
           "-"
          ],
          [
           "-"
          ],
          [
           "-"
          ],
          [
           "-"
          ],
          [
           "-"
          ],
          [
           "-"
          ],
          [
           "-"
          ],
          [
           "-"
          ],
          [
           "-"
          ],
          [
           "-"
          ],
          [
           "-"
          ],
          [
           "-"
          ],
          [
           "-"
          ],
          [
           "-"
          ],
          [
           "-"
          ],
          [
           "-"
          ],
          [
           "-"
          ],
          [
           "-"
          ],
          [
           "-"
          ],
          [
           "Juneteenth"
          ],
          [
           "-"
          ],
          [
           "-"
          ],
          [
           "-"
          ],
          [
           "-"
          ],
          [
           "-"
          ],
          [
           "-"
          ],
          [
           "-"
          ],
          [
           "-"
          ],
          [
           "-"
          ],
          [
           "-"
          ],
          [
           "-"
          ],
          [
           "-"
          ],
          [
           "-"
          ],
          [
           "-"
          ],
          [
           "4th of July"
          ],
          [
           "-"
          ],
          [
           "-"
          ],
          [
           "-"
          ],
          [
           "-"
          ],
          [
           "-"
          ],
          [
           "-"
          ],
          [
           "-"
          ],
          [
           "-"
          ],
          [
           "-"
          ],
          [
           "-"
          ],
          [
           "-"
          ],
          [
           "-"
          ],
          [
           "-"
          ],
          [
           "-"
          ],
          [
           "-"
          ],
          [
           "-"
          ],
          [
           "-"
          ],
          [
           "-"
          ],
          [
           "-"
          ],
          [
           "-"
          ],
          [
           "-"
          ],
          [
           "-"
          ],
          [
           "-"
          ],
          [
           "-"
          ],
          [
           "-"
          ],
          [
           "-"
          ],
          [
           "-"
          ],
          [
           "-"
          ],
          [
           "-"
          ],
          [
           "-"
          ],
          [
           "-"
          ],
          [
           "-"
          ],
          [
           "-"
          ],
          [
           "-"
          ],
          [
           "-"
          ],
          [
           "-"
          ],
          [
           "-"
          ],
          [
           "-"
          ],
          [
           "-"
          ],
          [
           "-"
          ],
          [
           "-"
          ],
          [
           "-"
          ],
          [
           "-"
          ],
          [
           "-"
          ],
          [
           "-"
          ],
          [
           "-"
          ],
          [
           "-"
          ],
          [
           "-"
          ],
          [
           "-"
          ],
          [
           "-"
          ],
          [
           "-"
          ],
          [
           "-"
          ],
          [
           "-"
          ],
          [
           "-"
          ],
          [
           "-"
          ],
          [
           "-"
          ],
          [
           "-"
          ],
          [
           "-"
          ],
          [
           "-"
          ],
          [
           "-"
          ],
          [
           "-"
          ],
          [
           "-"
          ],
          [
           "Labor Day Weekend"
          ],
          [
           "Labor Day Weekend"
          ],
          [
           "Labor Day"
          ],
          [
           "-"
          ],
          [
           "-"
          ],
          [
           "-"
          ],
          [
           "-"
          ],
          [
           "-"
          ],
          [
           "-"
          ],
          [
           "-"
          ],
          [
           "-"
          ],
          [
           "-"
          ],
          [
           "-"
          ],
          [
           "-"
          ],
          [
           "-"
          ],
          [
           "-"
          ],
          [
           "-"
          ],
          [
           "-"
          ],
          [
           "-"
          ],
          [
           "-"
          ],
          [
           "-"
          ],
          [
           "-"
          ],
          [
           "-"
          ],
          [
           "-"
          ],
          [
           "-"
          ],
          [
           "-"
          ],
          [
           "-"
          ],
          [
           "-"
          ],
          [
           "-"
          ],
          [
           "-"
          ],
          [
           "-"
          ],
          [
           "-"
          ],
          [
           "-"
          ],
          [
           "-"
          ],
          [
           "-"
          ],
          [
           "-"
          ],
          [
           "-"
          ],
          [
           "Columbus Day"
          ],
          [
           "-"
          ],
          [
           "-"
          ],
          [
           "-"
          ],
          [
           "-"
          ],
          [
           "-"
          ],
          [
           "-"
          ],
          [
           "-"
          ],
          [
           "-"
          ],
          [
           "-"
          ],
          [
           "-"
          ],
          [
           "-"
          ],
          [
           "-"
          ],
          [
           "-"
          ],
          [
           "-"
          ],
          [
           "-"
          ],
          [
           "-"
          ],
          [
           "-"
          ],
          [
           "-"
          ],
          [
           "-"
          ],
          [
           "-"
          ],
          [
           "-"
          ],
          [
           "-"
          ],
          [
           "-"
          ],
          [
           "-"
          ],
          [
           "-"
          ],
          [
           "-"
          ],
          [
           "-"
          ],
          [
           "-"
          ],
          [
           "-"
          ],
          [
           "Veterans Day"
          ],
          [
           "-"
          ],
          [
           "-"
          ],
          [
           "-"
          ],
          [
           "-"
          ],
          [
           "-"
          ],
          [
           "-"
          ],
          [
           "-"
          ],
          [
           "-"
          ],
          [
           "-"
          ],
          [
           "-"
          ],
          [
           "-"
          ],
          [
           "-"
          ],
          [
           "-"
          ],
          [
           "Thanksgiving Eve"
          ],
          [
           "Thanksgiving Day"
          ],
          [
           "-"
          ],
          [
           "-"
          ],
          [
           "-"
          ],
          [
           "-"
          ],
          [
           "-"
          ],
          [
           "-"
          ],
          [
           "-"
          ],
          [
           "-"
          ],
          [
           "-"
          ],
          [
           "-"
          ],
          [
           "-"
          ],
          [
           "-"
          ],
          [
           "-"
          ],
          [
           "-"
          ],
          [
           "-"
          ],
          [
           "-"
          ],
          [
           "-"
          ],
          [
           "-"
          ],
          [
           "-"
          ],
          [
           "-"
          ],
          [
           "-"
          ],
          [
           "-"
          ],
          [
           "-"
          ],
          [
           "-"
          ],
          [
           "-"
          ],
          [
           "-"
          ],
          [
           "-"
          ],
          [
           "Christmas Eve"
          ],
          [
           "Christmas Day"
          ],
          [
           "-"
          ],
          [
           "-"
          ],
          [
           "-"
          ],
          [
           "-"
          ],
          [
           "-"
          ],
          [
           "New Year’s Eve"
          ]
         ],
         "fill": "tozeroy",
         "hovertemplate": "Flights: %{y} <br>Date: %{x}<br>Holiday: %{customdata}",
         "name": "Flights per day",
         "opacity": 0,
         "type": "scatter",
         "x": [
          "2015-01-01",
          "2015-01-02",
          "2015-01-03",
          "2015-01-04",
          "2015-01-05",
          "2015-01-06",
          "2015-01-07",
          "2015-01-08",
          "2015-01-09",
          "2015-01-10",
          "2015-01-11",
          "2015-01-12",
          "2015-01-13",
          "2015-01-14",
          "2015-01-15",
          "2015-01-16",
          "2015-01-17",
          "2015-01-18",
          "2015-01-19",
          "2015-01-20",
          "2015-01-21",
          "2015-01-22",
          "2015-01-23",
          "2015-01-24",
          "2015-01-25",
          "2015-01-26",
          "2015-01-27",
          "2015-01-28",
          "2015-01-29",
          "2015-01-30",
          "2015-01-31",
          "2015-02-01",
          "2015-02-02",
          "2015-02-03",
          "2015-02-04",
          "2015-02-05",
          "2015-02-06",
          "2015-02-07",
          "2015-02-08",
          "2015-02-09",
          "2015-02-10",
          "2015-02-11",
          "2015-02-12",
          "2015-02-13",
          "2015-02-14",
          "2015-02-15",
          "2015-02-16",
          "2015-02-17",
          "2015-02-18",
          "2015-02-19",
          "2015-02-20",
          "2015-02-21",
          "2015-02-22",
          "2015-02-23",
          "2015-02-24",
          "2015-02-25",
          "2015-02-26",
          "2015-02-27",
          "2015-02-28",
          "2015-03-01",
          "2015-03-02",
          "2015-03-03",
          "2015-03-04",
          "2015-03-05",
          "2015-03-06",
          "2015-03-07",
          "2015-03-08",
          "2015-03-09",
          "2015-03-10",
          "2015-03-11",
          "2015-03-12",
          "2015-03-13",
          "2015-03-14",
          "2015-03-15",
          "2015-03-16",
          "2015-03-17",
          "2015-03-18",
          "2015-03-19",
          "2015-03-20",
          "2015-03-21",
          "2015-03-22",
          "2015-03-23",
          "2015-03-24",
          "2015-03-25",
          "2015-03-26",
          "2015-03-27",
          "2015-03-28",
          "2015-03-29",
          "2015-03-30",
          "2015-03-31",
          "2015-04-01",
          "2015-04-02",
          "2015-04-03",
          "2015-04-04",
          "2015-04-05",
          "2015-04-06",
          "2015-04-07",
          "2015-04-08",
          "2015-04-09",
          "2015-04-10",
          "2015-04-11",
          "2015-04-12",
          "2015-04-13",
          "2015-04-14",
          "2015-04-15",
          "2015-04-16",
          "2015-04-17",
          "2015-04-18",
          "2015-04-19",
          "2015-04-20",
          "2015-04-21",
          "2015-04-22",
          "2015-04-23",
          "2015-04-24",
          "2015-04-25",
          "2015-04-26",
          "2015-04-27",
          "2015-04-28",
          "2015-04-29",
          "2015-04-30",
          "2015-05-01",
          "2015-05-02",
          "2015-05-03",
          "2015-05-04",
          "2015-05-05",
          "2015-05-06",
          "2015-05-07",
          "2015-05-08",
          "2015-05-09",
          "2015-05-10",
          "2015-05-11",
          "2015-05-12",
          "2015-05-13",
          "2015-05-14",
          "2015-05-15",
          "2015-05-16",
          "2015-05-17",
          "2015-05-18",
          "2015-05-19",
          "2015-05-20",
          "2015-05-21",
          "2015-05-22",
          "2015-05-23",
          "2015-05-24",
          "2015-05-25",
          "2015-05-26",
          "2015-05-27",
          "2015-05-28",
          "2015-05-29",
          "2015-05-30",
          "2015-05-31",
          "2015-06-01",
          "2015-06-02",
          "2015-06-03",
          "2015-06-04",
          "2015-06-05",
          "2015-06-06",
          "2015-06-07",
          "2015-06-08",
          "2015-06-09",
          "2015-06-10",
          "2015-06-11",
          "2015-06-12",
          "2015-06-13",
          "2015-06-14",
          "2015-06-15",
          "2015-06-16",
          "2015-06-17",
          "2015-06-18",
          "2015-06-19",
          "2015-06-20",
          "2015-06-21",
          "2015-06-22",
          "2015-06-23",
          "2015-06-24",
          "2015-06-25",
          "2015-06-26",
          "2015-06-27",
          "2015-06-28",
          "2015-06-29",
          "2015-06-30",
          "2015-07-01",
          "2015-07-02",
          "2015-07-03",
          "2015-07-04",
          "2015-07-05",
          "2015-07-06",
          "2015-07-07",
          "2015-07-08",
          "2015-07-09",
          "2015-07-10",
          "2015-07-11",
          "2015-07-12",
          "2015-07-13",
          "2015-07-14",
          "2015-07-15",
          "2015-07-16",
          "2015-07-17",
          "2015-07-18",
          "2015-07-19",
          "2015-07-20",
          "2015-07-21",
          "2015-07-22",
          "2015-07-23",
          "2015-07-24",
          "2015-07-25",
          "2015-07-26",
          "2015-07-27",
          "2015-07-28",
          "2015-07-29",
          "2015-07-30",
          "2015-07-31",
          "2015-08-01",
          "2015-08-02",
          "2015-08-03",
          "2015-08-04",
          "2015-08-05",
          "2015-08-06",
          "2015-08-07",
          "2015-08-08",
          "2015-08-09",
          "2015-08-10",
          "2015-08-11",
          "2015-08-12",
          "2015-08-13",
          "2015-08-14",
          "2015-08-15",
          "2015-08-16",
          "2015-08-17",
          "2015-08-18",
          "2015-08-19",
          "2015-08-20",
          "2015-08-21",
          "2015-08-22",
          "2015-08-23",
          "2015-08-24",
          "2015-08-25",
          "2015-08-26",
          "2015-08-27",
          "2015-08-28",
          "2015-08-29",
          "2015-08-30",
          "2015-08-31",
          "2015-09-01",
          "2015-09-02",
          "2015-09-03",
          "2015-09-04",
          "2015-09-05",
          "2015-09-06",
          "2015-09-07",
          "2015-09-08",
          "2015-09-09",
          "2015-09-10",
          "2015-09-11",
          "2015-09-12",
          "2015-09-13",
          "2015-09-14",
          "2015-09-15",
          "2015-09-16",
          "2015-09-17",
          "2015-09-18",
          "2015-09-19",
          "2015-09-20",
          "2015-09-21",
          "2015-09-22",
          "2015-09-23",
          "2015-09-24",
          "2015-09-25",
          "2015-09-26",
          "2015-09-27",
          "2015-09-28",
          "2015-09-29",
          "2015-09-30",
          "2015-10-01",
          "2015-10-02",
          "2015-10-03",
          "2015-10-04",
          "2015-10-05",
          "2015-10-06",
          "2015-10-07",
          "2015-10-08",
          "2015-10-09",
          "2015-10-10",
          "2015-10-11",
          "2015-10-12",
          "2015-10-13",
          "2015-10-14",
          "2015-10-15",
          "2015-10-16",
          "2015-10-17",
          "2015-10-18",
          "2015-10-19",
          "2015-10-20",
          "2015-10-21",
          "2015-10-22",
          "2015-10-23",
          "2015-10-24",
          "2015-10-25",
          "2015-10-26",
          "2015-10-27",
          "2015-10-28",
          "2015-10-29",
          "2015-10-30",
          "2015-10-31",
          "2015-11-01",
          "2015-11-02",
          "2015-11-03",
          "2015-11-04",
          "2015-11-05",
          "2015-11-06",
          "2015-11-07",
          "2015-11-08",
          "2015-11-09",
          "2015-11-10",
          "2015-11-11",
          "2015-11-12",
          "2015-11-13",
          "2015-11-14",
          "2015-11-15",
          "2015-11-16",
          "2015-11-17",
          "2015-11-18",
          "2015-11-19",
          "2015-11-20",
          "2015-11-21",
          "2015-11-22",
          "2015-11-23",
          "2015-11-24",
          "2015-11-25",
          "2015-11-26",
          "2015-11-27",
          "2015-11-28",
          "2015-11-29",
          "2015-11-30",
          "2015-12-01",
          "2015-12-02",
          "2015-12-03",
          "2015-12-04",
          "2015-12-05",
          "2015-12-06",
          "2015-12-07",
          "2015-12-08",
          "2015-12-09",
          "2015-12-10",
          "2015-12-11",
          "2015-12-12",
          "2015-12-13",
          "2015-12-14",
          "2015-12-15",
          "2015-12-16",
          "2015-12-17",
          "2015-12-18",
          "2015-12-19",
          "2015-12-20",
          "2015-12-21",
          "2015-12-22",
          "2015-12-23",
          "2015-12-24",
          "2015-12-25",
          "2015-12-26",
          "2015-12-27",
          "2015-12-28",
          "2015-12-29",
          "2015-12-30",
          "2015-12-31"
         ],
         "xcalendar": "gregorian",
         "y": [
          13484,
          16484,
          15103,
          15919,
          16113,
          14920,
          15268,
          15196,
          15539,
          12154,
          14400,
          15452,
          14983,
          15342,
          15916,
          16012,
          12038,
          13741,
          15776,
          15095,
          15406,
          15909,
          15946,
          12072,
          14557,
          14287,
          12271,
          14783,
          15947,
          15966,
          11907,
          11427,
          13176,
          14565,
          15237,
          15643,
          15792,
          12196,
          14249,
          14631,
          14979,
          15492,
          16266,
          16427,
          12155,
          13034,
          15124,
          15211,
          16032,
          16284,
          16167,
          11961,
          14428,
          15056,
          15135,
          14974,
          15670,
          15651,
          11712,
          13657,
          15866,
          15067,
          15004,
          13764,
          16210,
          14109,
          15987,
          16737,
          16248,
          16570,
          16924,
          16982,
          14313,
          16009,
          16847,
          16309,
          16525,
          16918,
          16413,
          14244,
          16077,
          16190,
          16286,
          16649,
          16830,
          16925,
          14264,
          16057,
          16876,
          16453,
          16696,
          16850,
          16744,
          13527,
          15468,
          16887,
          16257,
          16557,
          16038,
          16648,
          13317,
          15944,
          16629,
          16212,
          16550,
          16596,
          16598,
          13342,
          15903,
          16213,
          16177,
          16568,
          16796,
          16662,
          13339,
          15859,
          16624,
          16267,
          16575,
          16788,
          16838,
          13328,
          15919,
          16774,
          16305,
          16477,
          16855,
          16824,
          12938,
          14879,
          16632,
          16535,
          16672,
          16946,
          16961,
          13352,
          15960,
          16708,
          16555,
          16767,
          17087,
          17082,
          12852,
          13121,
          15527,
          16288,
          16297,
          16885,
          16903,
          13322,
          15710,
          16450,
          16555,
          16678,
          17146,
          17153,
          14197,
          16495,
          16828,
          16762,
          16984,
          17141,
          17174,
          14636,
          16497,
          16229,
          16324,
          16569,
          17139,
          17307,
          14547,
          16501,
          16768,
          16775,
          16962,
          17230,
          17287,
          14659,
          16372,
          16996,
          16416,
          16774,
          17323,
          14595,
          12590,
          16605,
          17215,
          17009,
          17067,
          17178,
          17358,
          14863,
          16711,
          17025,
          16882,
          17043,
          17328,
          17386,
          14613,
          16604,
          17259,
          17064,
          17182,
          17338,
          17323,
          14820,
          16686,
          17321,
          17117,
          17200,
          17130,
          17303,
          14787,
          16467,
          17293,
          17208,
          17239,
          17368,
          17414,
          14863,
          16448,
          16880,
          16743,
          16967,
          17169,
          17213,
          13963,
          16439,
          16938,
          16230,
          16392,
          16316,
          16850,
          13409,
          15922,
          16763,
          16337,
          16521,
          16810,
          16868,
          13192,
          15760,
          16715,
          16175,
          16334,
          16743,
          16674,
          11951,
          12613,
          15583,
          15738,
          15317,
          15361,
          15670,
          12291,
          15564,
          16281,
          15562,
          16046,
          16429,
          16401,
          12499,
          15663,
          16432,
          15565,
          15927,
          16514,
          16557,
          12656,
          15784,
          16495,
          15793,
          16253,
          16558,
          16484,
          12633,
          15738,
          16529,
          16069,
          16349,
          16642,
          16521,
          12804,
          15736,
          16594,
          16094,
          16358,
          16649,
          16546,
          12706,
          15802,
          16563,
          16071,
          16366,
          16488,
          16002,
          12679,
          15642,
          16462,
          15401,
          15576,
          16295,
          15824,
          11530,
          15566,
          16423,
          15804,
          16193,
          16407,
          16443,
          12753,
          15653,
          16433,
          15931,
          16077,
          16502,
          16528,
          12757,
          15641,
          16260,
          15695,
          15830,
          16395,
          16540,
          12058,
          14724,
          14733,
          16058,
          16717,
          10055,
          12756,
          16024,
          17514,
          16903,
          15745,
          15746,
          16175,
          16190,
          12138,
          15052,
          15865,
          15511,
          15780,
          16213,
          16230,
          12087,
          14998,
          15840,
          15142,
          16032,
          16475,
          16542,
          14665,
          15746,
          16134,
          16120,
          16269,
          13030,
          12491,
          14881,
          15351,
          14135,
          15514,
          15979,
          13091
         ]
        },
        {
         "customdata": [
          "January",
          "February",
          "March",
          "April",
          "May",
          "June",
          "July",
          "August",
          "September",
          "October",
          "November",
          "December"
         ],
         "hovertemplate": "Month: %{customdata}<br>Average Flights per Day: %{y}",
         "line": {
          "color": "black"
         },
         "name": "Average flights per day in month",
         "type": "scatter",
         "x": [
          "2015-01-01T00:00:00",
          "2015-02-14T00:00:00",
          "2015-03-15T00:00:00",
          "2015-04-15T00:00:00",
          "2015-05-15T00:00:00",
          "2015-06-15T00:00:00",
          "2015-07-15T00:00:00",
          "2015-08-15T00:00:00",
          "2015-09-15T00:00:00",
          "2015-10-15T00:00:00",
          "2015-11-15T00:00:00",
          "2015-12-31T00:00:00"
         ],
         "xcalendar": "gregorian",
         "y": [
          14773.741935483871,
          14595.5,
          15913.225806451614,
          16021.033333333333,
          15848.354838709678,
          16492.566666666666,
          16642.322580645163,
          16305.935483870968,
          15429.033333333333,
          15603.58064516129,
          15445.766666666666,
          15198.935483870968
         ]
        }
       ],
       "layout": {
        "template": {
         "data": {
          "bar": [
           {
            "error_x": {
             "color": "#2a3f5f"
            },
            "error_y": {
             "color": "#2a3f5f"
            },
            "marker": {
             "line": {
              "color": "#E5ECF6",
              "width": 0.5
             },
             "pattern": {
              "fillmode": "overlay",
              "size": 10,
              "solidity": 0.2
             }
            },
            "type": "bar"
           }
          ],
          "barpolar": [
           {
            "marker": {
             "line": {
              "color": "#E5ECF6",
              "width": 0.5
             },
             "pattern": {
              "fillmode": "overlay",
              "size": 10,
              "solidity": 0.2
             }
            },
            "type": "barpolar"
           }
          ],
          "carpet": [
           {
            "aaxis": {
             "endlinecolor": "#2a3f5f",
             "gridcolor": "white",
             "linecolor": "white",
             "minorgridcolor": "white",
             "startlinecolor": "#2a3f5f"
            },
            "baxis": {
             "endlinecolor": "#2a3f5f",
             "gridcolor": "white",
             "linecolor": "white",
             "minorgridcolor": "white",
             "startlinecolor": "#2a3f5f"
            },
            "type": "carpet"
           }
          ],
          "choropleth": [
           {
            "colorbar": {
             "outlinewidth": 0,
             "ticks": ""
            },
            "type": "choropleth"
           }
          ],
          "contour": [
           {
            "colorbar": {
             "outlinewidth": 0,
             "ticks": ""
            },
            "colorscale": [
             [
              0,
              "#0d0887"
             ],
             [
              0.1111111111111111,
              "#46039f"
             ],
             [
              0.2222222222222222,
              "#7201a8"
             ],
             [
              0.3333333333333333,
              "#9c179e"
             ],
             [
              0.4444444444444444,
              "#bd3786"
             ],
             [
              0.5555555555555556,
              "#d8576b"
             ],
             [
              0.6666666666666666,
              "#ed7953"
             ],
             [
              0.7777777777777778,
              "#fb9f3a"
             ],
             [
              0.8888888888888888,
              "#fdca26"
             ],
             [
              1,
              "#f0f921"
             ]
            ],
            "type": "contour"
           }
          ],
          "contourcarpet": [
           {
            "colorbar": {
             "outlinewidth": 0,
             "ticks": ""
            },
            "type": "contourcarpet"
           }
          ],
          "heatmap": [
           {
            "colorbar": {
             "outlinewidth": 0,
             "ticks": ""
            },
            "colorscale": [
             [
              0,
              "#0d0887"
             ],
             [
              0.1111111111111111,
              "#46039f"
             ],
             [
              0.2222222222222222,
              "#7201a8"
             ],
             [
              0.3333333333333333,
              "#9c179e"
             ],
             [
              0.4444444444444444,
              "#bd3786"
             ],
             [
              0.5555555555555556,
              "#d8576b"
             ],
             [
              0.6666666666666666,
              "#ed7953"
             ],
             [
              0.7777777777777778,
              "#fb9f3a"
             ],
             [
              0.8888888888888888,
              "#fdca26"
             ],
             [
              1,
              "#f0f921"
             ]
            ],
            "type": "heatmap"
           }
          ],
          "heatmapgl": [
           {
            "colorbar": {
             "outlinewidth": 0,
             "ticks": ""
            },
            "colorscale": [
             [
              0,
              "#0d0887"
             ],
             [
              0.1111111111111111,
              "#46039f"
             ],
             [
              0.2222222222222222,
              "#7201a8"
             ],
             [
              0.3333333333333333,
              "#9c179e"
             ],
             [
              0.4444444444444444,
              "#bd3786"
             ],
             [
              0.5555555555555556,
              "#d8576b"
             ],
             [
              0.6666666666666666,
              "#ed7953"
             ],
             [
              0.7777777777777778,
              "#fb9f3a"
             ],
             [
              0.8888888888888888,
              "#fdca26"
             ],
             [
              1,
              "#f0f921"
             ]
            ],
            "type": "heatmapgl"
           }
          ],
          "histogram": [
           {
            "marker": {
             "pattern": {
              "fillmode": "overlay",
              "size": 10,
              "solidity": 0.2
             }
            },
            "type": "histogram"
           }
          ],
          "histogram2d": [
           {
            "colorbar": {
             "outlinewidth": 0,
             "ticks": ""
            },
            "colorscale": [
             [
              0,
              "#0d0887"
             ],
             [
              0.1111111111111111,
              "#46039f"
             ],
             [
              0.2222222222222222,
              "#7201a8"
             ],
             [
              0.3333333333333333,
              "#9c179e"
             ],
             [
              0.4444444444444444,
              "#bd3786"
             ],
             [
              0.5555555555555556,
              "#d8576b"
             ],
             [
              0.6666666666666666,
              "#ed7953"
             ],
             [
              0.7777777777777778,
              "#fb9f3a"
             ],
             [
              0.8888888888888888,
              "#fdca26"
             ],
             [
              1,
              "#f0f921"
             ]
            ],
            "type": "histogram2d"
           }
          ],
          "histogram2dcontour": [
           {
            "colorbar": {
             "outlinewidth": 0,
             "ticks": ""
            },
            "colorscale": [
             [
              0,
              "#0d0887"
             ],
             [
              0.1111111111111111,
              "#46039f"
             ],
             [
              0.2222222222222222,
              "#7201a8"
             ],
             [
              0.3333333333333333,
              "#9c179e"
             ],
             [
              0.4444444444444444,
              "#bd3786"
             ],
             [
              0.5555555555555556,
              "#d8576b"
             ],
             [
              0.6666666666666666,
              "#ed7953"
             ],
             [
              0.7777777777777778,
              "#fb9f3a"
             ],
             [
              0.8888888888888888,
              "#fdca26"
             ],
             [
              1,
              "#f0f921"
             ]
            ],
            "type": "histogram2dcontour"
           }
          ],
          "mesh3d": [
           {
            "colorbar": {
             "outlinewidth": 0,
             "ticks": ""
            },
            "type": "mesh3d"
           }
          ],
          "parcoords": [
           {
            "line": {
             "colorbar": {
              "outlinewidth": 0,
              "ticks": ""
             }
            },
            "type": "parcoords"
           }
          ],
          "pie": [
           {
            "automargin": true,
            "type": "pie"
           }
          ],
          "scatter": [
           {
            "marker": {
             "colorbar": {
              "outlinewidth": 0,
              "ticks": ""
             }
            },
            "type": "scatter"
           }
          ],
          "scatter3d": [
           {
            "line": {
             "colorbar": {
              "outlinewidth": 0,
              "ticks": ""
             }
            },
            "marker": {
             "colorbar": {
              "outlinewidth": 0,
              "ticks": ""
             }
            },
            "type": "scatter3d"
           }
          ],
          "scattercarpet": [
           {
            "marker": {
             "colorbar": {
              "outlinewidth": 0,
              "ticks": ""
             }
            },
            "type": "scattercarpet"
           }
          ],
          "scattergeo": [
           {
            "marker": {
             "colorbar": {
              "outlinewidth": 0,
              "ticks": ""
             }
            },
            "type": "scattergeo"
           }
          ],
          "scattergl": [
           {
            "marker": {
             "colorbar": {
              "outlinewidth": 0,
              "ticks": ""
             }
            },
            "type": "scattergl"
           }
          ],
          "scattermapbox": [
           {
            "marker": {
             "colorbar": {
              "outlinewidth": 0,
              "ticks": ""
             }
            },
            "type": "scattermapbox"
           }
          ],
          "scatterpolar": [
           {
            "marker": {
             "colorbar": {
              "outlinewidth": 0,
              "ticks": ""
             }
            },
            "type": "scatterpolar"
           }
          ],
          "scatterpolargl": [
           {
            "marker": {
             "colorbar": {
              "outlinewidth": 0,
              "ticks": ""
             }
            },
            "type": "scatterpolargl"
           }
          ],
          "scatterternary": [
           {
            "marker": {
             "colorbar": {
              "outlinewidth": 0,
              "ticks": ""
             }
            },
            "type": "scatterternary"
           }
          ],
          "surface": [
           {
            "colorbar": {
             "outlinewidth": 0,
             "ticks": ""
            },
            "colorscale": [
             [
              0,
              "#0d0887"
             ],
             [
              0.1111111111111111,
              "#46039f"
             ],
             [
              0.2222222222222222,
              "#7201a8"
             ],
             [
              0.3333333333333333,
              "#9c179e"
             ],
             [
              0.4444444444444444,
              "#bd3786"
             ],
             [
              0.5555555555555556,
              "#d8576b"
             ],
             [
              0.6666666666666666,
              "#ed7953"
             ],
             [
              0.7777777777777778,
              "#fb9f3a"
             ],
             [
              0.8888888888888888,
              "#fdca26"
             ],
             [
              1,
              "#f0f921"
             ]
            ],
            "type": "surface"
           }
          ],
          "table": [
           {
            "cells": {
             "fill": {
              "color": "#EBF0F8"
             },
             "line": {
              "color": "white"
             }
            },
            "header": {
             "fill": {
              "color": "#C8D4E3"
             },
             "line": {
              "color": "white"
             }
            },
            "type": "table"
           }
          ]
         },
         "layout": {
          "annotationdefaults": {
           "arrowcolor": "#2a3f5f",
           "arrowhead": 0,
           "arrowwidth": 1
          },
          "autotypenumbers": "strict",
          "coloraxis": {
           "colorbar": {
            "outlinewidth": 0,
            "ticks": ""
           }
          },
          "colorscale": {
           "diverging": [
            [
             0,
             "#8e0152"
            ],
            [
             0.1,
             "#c51b7d"
            ],
            [
             0.2,
             "#de77ae"
            ],
            [
             0.3,
             "#f1b6da"
            ],
            [
             0.4,
             "#fde0ef"
            ],
            [
             0.5,
             "#f7f7f7"
            ],
            [
             0.6,
             "#e6f5d0"
            ],
            [
             0.7,
             "#b8e186"
            ],
            [
             0.8,
             "#7fbc41"
            ],
            [
             0.9,
             "#4d9221"
            ],
            [
             1,
             "#276419"
            ]
           ],
           "sequential": [
            [
             0,
             "#0d0887"
            ],
            [
             0.1111111111111111,
             "#46039f"
            ],
            [
             0.2222222222222222,
             "#7201a8"
            ],
            [
             0.3333333333333333,
             "#9c179e"
            ],
            [
             0.4444444444444444,
             "#bd3786"
            ],
            [
             0.5555555555555556,
             "#d8576b"
            ],
            [
             0.6666666666666666,
             "#ed7953"
            ],
            [
             0.7777777777777778,
             "#fb9f3a"
            ],
            [
             0.8888888888888888,
             "#fdca26"
            ],
            [
             1,
             "#f0f921"
            ]
           ],
           "sequentialminus": [
            [
             0,
             "#0d0887"
            ],
            [
             0.1111111111111111,
             "#46039f"
            ],
            [
             0.2222222222222222,
             "#7201a8"
            ],
            [
             0.3333333333333333,
             "#9c179e"
            ],
            [
             0.4444444444444444,
             "#bd3786"
            ],
            [
             0.5555555555555556,
             "#d8576b"
            ],
            [
             0.6666666666666666,
             "#ed7953"
            ],
            [
             0.7777777777777778,
             "#fb9f3a"
            ],
            [
             0.8888888888888888,
             "#fdca26"
            ],
            [
             1,
             "#f0f921"
            ]
           ]
          },
          "colorway": [
           "#636efa",
           "#EF553B",
           "#00cc96",
           "#ab63fa",
           "#FFA15A",
           "#19d3f3",
           "#FF6692",
           "#B6E880",
           "#FF97FF",
           "#FECB52"
          ],
          "font": {
           "color": "#2a3f5f"
          },
          "geo": {
           "bgcolor": "white",
           "lakecolor": "white",
           "landcolor": "#E5ECF6",
           "showlakes": true,
           "showland": true,
           "subunitcolor": "white"
          },
          "hoverlabel": {
           "align": "left"
          },
          "hovermode": "closest",
          "mapbox": {
           "style": "light"
          },
          "paper_bgcolor": "white",
          "plot_bgcolor": "#E5ECF6",
          "polar": {
           "angularaxis": {
            "gridcolor": "white",
            "linecolor": "white",
            "ticks": ""
           },
           "bgcolor": "#E5ECF6",
           "radialaxis": {
            "gridcolor": "white",
            "linecolor": "white",
            "ticks": ""
           }
          },
          "scene": {
           "xaxis": {
            "backgroundcolor": "#E5ECF6",
            "gridcolor": "white",
            "gridwidth": 2,
            "linecolor": "white",
            "showbackground": true,
            "ticks": "",
            "zerolinecolor": "white"
           },
           "yaxis": {
            "backgroundcolor": "#E5ECF6",
            "gridcolor": "white",
            "gridwidth": 2,
            "linecolor": "white",
            "showbackground": true,
            "ticks": "",
            "zerolinecolor": "white"
           },
           "zaxis": {
            "backgroundcolor": "#E5ECF6",
            "gridcolor": "white",
            "gridwidth": 2,
            "linecolor": "white",
            "showbackground": true,
            "ticks": "",
            "zerolinecolor": "white"
           }
          },
          "shapedefaults": {
           "line": {
            "color": "#2a3f5f"
           }
          },
          "ternary": {
           "aaxis": {
            "gridcolor": "white",
            "linecolor": "white",
            "ticks": ""
           },
           "baxis": {
            "gridcolor": "white",
            "linecolor": "white",
            "ticks": ""
           },
           "bgcolor": "#E5ECF6",
           "caxis": {
            "gridcolor": "white",
            "linecolor": "white",
            "ticks": ""
           }
          },
          "title": {
           "x": 0.05
          },
          "xaxis": {
           "automargin": true,
           "gridcolor": "white",
           "linecolor": "white",
           "ticks": "",
           "title": {
            "standoff": 15
           },
           "zerolinecolor": "white",
           "zerolinewidth": 2
          },
          "yaxis": {
           "automargin": true,
           "gridcolor": "white",
           "linecolor": "white",
           "ticks": "",
           "title": {
            "standoff": 15
           },
           "zerolinecolor": "white",
           "zerolinewidth": 2
          }
         }
        },
        "xaxis": {
         "range": [
          "2015-01-01",
          "2015-12-31"
         ]
        },
        "yaxis": {
         "range": [
          7000,
          18500
         ]
        }
       }
      }
     },
     "metadata": {},
     "output_type": "display_data"
    }
   ],
   "source": [
    "\n",
    "customdataFlight = flightsPerDay.drop(columns =\"YEAR\")\n",
    "customdataMonth = pd.DataFrame(\n",
    "                            {\"Index\": [\"1\",\"2\",\"3\",\"4\",\"5\",\"6\",\"7\",\"8\",\"9\",\"10\",\"11\",\"12\"],\n",
    "                            \"Month\": [\"January\", \"February\", \"March\", \"April\", \"May\", \"June\", \"July\", \"August\", \"September\", \"October\", \"November\", \"December\"]})\n",
    "fig = go.Figure()\n",
    "line_flight = go.Line(y = flightsPerDay[\"YEAR\"], x = flightsPerDay.index, name = \"Flights per day\", fill = \"tozeroy\", opacity = 0,\n",
    "                    customdata = customdataFlight,\n",
    "                    hovertemplate = \"Flights: %{y} \" +\\\n",
    "                    \"<br>Date: %{x}\" +\\\n",
    "                    \"<br>Holiday: %{customdata}\")\n",
    "line_averageNumbers = go.Line(y=flightsPerMonth[\"COUNT\"], x = monthlyDates , name = \"Average flights per day in month\", line_color = \"black\",\n",
    "                    customdata = customdataMonth[\"Month\"],\n",
    "                    hovertemplate = \"Month: %{customdata}\"\n",
    "                    \"<br>Average Flights per Day: %{y}\")\n",
    "fig.add_trace(line_flight)\n",
    "fig.add_trace(line_averageNumbers)\n",
    "fig.update_traces(xcalendar = \"gregorian\")\n",
    "fig.update(layout_yaxis_range = [7000, 18500], layout_xaxis_range = [\"2015-01-01\", \"2015-12-31\"])\n",
    "fig.show()\n"
   ]
  },
  {
   "cell_type": "markdown",
   "metadata": {},
   "source": []
  }
 ],
 "metadata": {
  "interpreter": {
   "hash": "639f3994b8dceab5a82e554cc239ea7aabbfb8dc398744298402812ca933fc08"
  },
  "kernelspec": {
   "display_name": "Python 3.10.4 64-bit",
   "language": "python",
   "name": "python3"
  },
  "language_info": {
   "codemirror_mode": {
    "name": "ipython",
    "version": 3
   },
   "file_extension": ".py",
   "mimetype": "text/x-python",
   "name": "python",
   "nbconvert_exporter": "python",
   "pygments_lexer": "ipython3",
   "version": "3.10.0"
  },
  "orig_nbformat": 4
 },
 "nbformat": 4,
 "nbformat_minor": 2
}
